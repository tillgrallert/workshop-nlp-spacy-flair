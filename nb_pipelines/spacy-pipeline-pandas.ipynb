{
 "cells": [
  {
   "cell_type": "markdown",
   "id": "99cfb906-a0a6-40fc-8b25-665ed02016e9",
   "metadata": {},
   "source": [
    "# Spacy Pipeline mit pandas"
   ]
  },
  {
   "cell_type": "markdown",
   "id": "76e9a48c-cbf8-4402-b2cb-730a72d1c2ef",
   "metadata": {},
   "source": [
    "## Importe"
   ]
  },
  {
   "cell_type": "code",
   "execution_count": 2,
   "id": "b72f0357-eecb-43c6-9e1a-0955513c0dc9",
   "metadata": {},
   "outputs": [],
   "source": [
    "import spacy\n",
    "import pickle\n",
    "\n",
    "import pandas as pd"
   ]
  },
  {
   "cell_type": "markdown",
   "id": "bf0cc60b-a2bd-4c25-a432-5b3002d6a67c",
   "metadata": {},
   "source": [
    "## Laden der Daten"
   ]
  },
  {
   "cell_type": "code",
   "execution_count": 3,
   "id": "86600411-fb8e-46c8-9f51-ee36abd03bd6",
   "metadata": {},
   "outputs": [],
   "source": [
    "df = pd.read_xml('../data/Bundesregierung.xml')"
   ]
  },
  {
   "cell_type": "code",
   "execution_count": 4,
   "id": "861b5a80-4ad0-4b6a-acdf-f0d6a4e21bbd",
   "metadata": {},
   "outputs": [],
   "source": [
    "# change dtype to datetime\n",
    "df.loc[:, 'datum'] = pd.to_datetime(df.loc[:, 'datum'])"
   ]
  },
  {
   "cell_type": "code",
   "execution_count": 5,
   "id": "4edad8d4-ff29-4934-b88f-8184ecb644a9",
   "metadata": {},
   "outputs": [
    {
     "name": "stdout",
     "output_type": "stream",
     "text": [
      "<class 'pandas.core.frame.DataFrame'>\n",
      "RangeIndex: 2983 entries, 0 to 2982\n",
      "Data columns (total 8 columns):\n",
      " #   Column      Non-Null Count  Dtype         \n",
      "---  ------      --------------  -----         \n",
      " 0   person      2983 non-null   object        \n",
      " 1   titel       2982 non-null   object        \n",
      " 2   datum       2983 non-null   datetime64[ns]\n",
      " 3   untertitel  2088 non-null   object        \n",
      " 4   url         2983 non-null   object        \n",
      " 5   anrede      1447 non-null   object        \n",
      " 6   rohtext     2983 non-null   object        \n",
      " 7   ort         690 non-null    object        \n",
      "dtypes: datetime64[ns](1), object(7)\n",
      "memory usage: 186.6+ KB\n"
     ]
    }
   ],
   "source": [
    "df.info()"
   ]
  },
  {
   "cell_type": "markdown",
   "id": "57c15f19-10b8-4ee0-a42e-ee56ca299ca7",
   "metadata": {},
   "source": [
    "## Doc-Objekt im pandas-Dataframe"
   ]
  },
  {
   "cell_type": "markdown",
   "id": "9b68df7b-af86-40a3-8737-69fbed9a1ade",
   "metadata": {},
   "source": [
    "Mit Hilfe einer Funktion kann für jede Zeile die Spalte 'rohtext' in ein Doc-Objekt umgewandelt  und in eine neue Spalte eingefügt werden.\n",
    "\n",
    "Mit pickle kann der Dataframe gespeichert werden, sodass das Doc-Objekt erhalten bleibt. Allerdings ist dann die pickle-Datei mit fast 3.5 GB sehr groß. Wird der Dataframe wieder geladen, dann ist jedoch der Speicherbedarf des Arbeitsspeiche nicht sehr hoch."
   ]
  },
  {
   "cell_type": "markdown",
   "id": "92174893-3213-448b-9fef-ed90a47fd2b8",
   "metadata": {},
   "source": [
    "### Funktion zum Erstellen des Doc-Objekts "
   ]
  },
  {
   "cell_type": "code",
   "execution_count": 6,
   "id": "636b36a9-4d49-48a1-8d2c-47a3bd9b0192",
   "metadata": {},
   "outputs": [],
   "source": [
    "def create_doc_object(text, nlp):\n",
    "    '''\n",
    "    Loads SpaCy Language Model and creates a SpaCy Doc-Object.\n",
    "    INPUT: string\n",
    "    RETURN: spacy.tokens.doc.Doc\n",
    "    '''       \n",
    "        \n",
    "    return nlp(text)    "
   ]
  },
  {
   "cell_type": "code",
   "execution_count": 7,
   "id": "94391dee-7f64-4649-8f9b-eebdfbf767c8",
   "metadata": {},
   "outputs": [],
   "source": [
    "nlp = spacy.load('de_core_news_md')"
   ]
  },
  {
   "cell_type": "code",
   "execution_count": 8,
   "id": "4941c3d4-54f0-45d1-a13f-607e7a9ac5e6",
   "metadata": {
    "tags": []
   },
   "outputs": [
    {
     "name": "stdout",
     "output_type": "stream",
     "text": [
      "CPU times: user 10min 42s, sys: 1min 47s, total: 12min 29s\n",
      "Wall time: 12min 31s\n"
     ]
    }
   ],
   "source": [
    "%%time\n",
    "\n",
    "# Erstellen der Doc-Objekte\n",
    "# kann ein paar Minuten laufen\n",
    "\n",
    "df.loc[:, 'doc_object'] = df.loc[:, 'rohtext'].apply(lambda text: create_doc_object(text, nlp))"
   ]
  },
  {
   "cell_type": "code",
   "execution_count": 38,
   "id": "5eae26b7-b463-40a3-ba4b-12b629588be1",
   "metadata": {},
   "outputs": [],
   "source": [
    "# speichern der Datei\n",
    "# pickle-Datei ist fast 3.5 GB groß!\n",
    "\n",
    "#df.to_pickle('../data/reden-bundesregierung.p')"
   ]
  },
  {
   "cell_type": "code",
   "execution_count": 37,
   "id": "a86a7118-482b-40f6-9619-bbc7de89c428",
   "metadata": {},
   "outputs": [
    {
     "ename": "ArrowInvalid",
     "evalue": "('Could not convert es ist angekündigt worden, man sollte im Beruf zwischen Schauspieler und Politiker wechseln. Das hatten wir schon einmal - in Amerika. Ich weiß nicht, ob das ein Modell sein sollte. Aber darüber ist heute nicht zu reden.\\nIch fand es schön, dass der Regierende Bürgermeister an Hildegard Knef - \"Hildchen\", wie Ihre Kolleginnen und Kollegen sie nennen durften - erinnert hat. Ich glaube, man kann diese Filmfestspiele nicht eröffnen, ohne an sie zu denken, ohne von ihr zu reden. \"Die Knef\", so haben sie nicht nur diejenigen genannt, die sie gekannt haben, sondern so haben sie ganz viele genannt, nicht nur in Deutschland. Sie war - ich denke, da werden Sie mir Recht geben - eines jener wunderbaren Geschöpfe vom \"Planet Kino\", die zu unserem Leben gehört haben wie eine gute Bekannte, für viele Freundin, gelegentlich auch Kritikerin.\\nWenn Sie mir gestatten, erinnere ich an meine letzte Begegnung hier in Berlin mit ihr und ihrem Mann. Sie hat mir erzählt, dass es eigentlich ganz schrecklich sei, dass sie nie einen deutschen Pass bekommen habe, obwohl sie viel hier gelebt habe und sicher auch bekannt sei. Wir haben das kurz und schnell geregelt. Sie hat dann ganz schnell ihren deutschen Pass bekommen, und ich denke, sie hat sich darüber gefreut. Sie war - zumindest für Deutschland und Berlin nach dem Krieg - nicht nur eine große Schauspielerin; sie war auch ein Stück der Geschichte unseres Landes. Sie war einer jener Menschen, von denen der große Billy Wilder, der diesem Festival von Beginn an ein guter Freund gewesen ist, einmal gesagt hat: \"Ich hätte gern ein paar Menschen aus meinen Filmen im wirklichen Leben getroffen.\" Übrigens, ich auch. Ich denke, das geht vielen von Ihnen so.\\nDas geht deshalb vielen von uns so, weil manch einer - ich nehme mich gar nicht davon aus - Paris ganz gern zusammen mit \"Irma La Douce\" entdeckt hätte. Ich hätte auch gern mit Audrey Hepburn bei \"Tiffany\\'s\" gefrühstückt, ich wäre aber auch zufrieden gewesen, wenn ich mit Robert de Niro ins \"Casino\" hätte gehen können. Sie sehen, dass sind ganz unterschiedliche Vorlieben. Heute allerdings muss man mit Ernst hinzufügen: Einigen Menschen, vor allen Dingen einigen Szenen, die so aussahen, als wären sie aus dem Kino leibhaftig in die Wirklichkeit gekommen, wäre man nicht gern begegnet, hätte man nicht gern erlebt.\\nAuch heute - knapp fünf Monate nach dem 11. September - hat niemand die schrecklichen Bilder von Washington und New York vergessen, die sich ein Katastrophenkino nicht schlimmer hätte ausdenken können. Das hören wir an einem solchen Tag vielleicht nicht gern, und ich kann das verstehen. Es ist schließlich ein Tag, an dem Sie, wir alle und vor allen Dingen die Berlinerinnen und Berliner zehn Tage eines wirklich großen Festes - ich bin sicher, ein solches wird es werden - rund um das Kino vor sich haben.\\nAber ein solcher Rückgriff auf die Realität kann uns helfen, das Kino noch besser zu würdigen und es dann auch zu feiern. Kino ist eben nicht nur Traumfabrik, manchmal auch Alptraumfabrik, sondern Kino hilft beim Sehen und damit beim Verstehen. Es eröffnet Perspektiven, die man gelegentlich über den Job hinaus braucht, die wir alle nötig brauchen; jedenfalls dann, wenn wir uns miteinander vornehmen, das Leben der Menschen besser, toleranter, aber auch friedlicher zu gestalten. Sie als Künstlerinnen und Künstler können einen Riesenbeitrag dazu leisten.\\nDeshalb ist das Motto des diesjährigen Festivals auch so vorzüglich gewählt: \"Accept Diversity!\" Lernen wir, soll das doch wohl heißen, mit dem \"Anderen\" zu leben und \"Fremdes\" zu akzeptieren, neugierig darauf zu sein - übrigens nicht im Sinne eines \"Kultur-Einerlei\", das alles irgendwie gleichberechtigt nebeneinander stellt, sondern als Basis und als Anregung, miteinander und voneinander zu lernen, die Werte des Zusammenlebens und der friedfertigen Auseinandersetzung zu entwickeln und zu fördern. Dabei hilft Kunst - Ihre allemal auch.\\nIch will nicht falsch verstanden werden. Das Kino wie übrigens die Kunst im Allgemeinen hat keine Aufträge, schon gar keine politischen Aufträge entgegenzunehmen oder zu erfüllen. Das war nicht immer so - übrigens auch nicht in der Geschichte der Berliner Filmfestspiele. Gerade weil sich das Kino hier in Berlin immer mit einer Botschaft der Verständigung und des Brückenschlags präsentiert hat, gab es auch immer wieder Versuche, Pressionen auszuüben und politisch Einfluss zu nehmen. Wir wissen doch noch, jedenfalls die meisten von uns, dass etwa zu Zeiten des \"Eisernen Vorhangs\" Greta Garbo als die unvergessliche \"Ninotschka\" - ich erinnere mich ganz genau an den Hut - nicht einmal in einer Retrospektive gezeigt werden konnte. Ich habe mir überlegt, warum. Vermutlich nicht zuletzt wegen dieses schönen Satzes: \"Ich könnte den Gedanken nicht ertragen, in einer Schublade eingeschlossen zu sein.\" Ich denke, das war den damaligen Herrschern, wie allen autoritären und diktatorischen Herrschern, zu viel an Freiheitswillen.\\nInzwischen - das möchte ich Ihnen gerne versichern - ist die Berlinale wirklich völlig frei von politischem Reinreden, und zwar nicht zuletzt deshalb und gerade jetzt, weil wir neben dem, was am Kartenverkauf hereinkommt, die alleinige Finanzierung des Festivals übernommen haben. Wir haben ein ganz bestimmtes Verständnis von Kunst und Kultur. Wir sehen in der Freiheit des Films kein \"Gespenst\". Nicht einmal eines von Achternbusch.\\nDas, was wir als Bundesregierung für die Förderung der Filmkultur tun können, machen wir. Wir wollen es auch noch besser machen. Wir haben schon einiges erreicht. Das will ich nicht verschweigen. Die Filmförderung des Bundes haben wir gegenüber 1998 um 30 Prozent erhöht - immerhin auf jetzt mehr als zehn Millionen Euro. Die meisten von Ihnen wissen, dass das nur der kleinere Teil der Förderung von Film in Deutschland ist, weil der größere bei den Ländern liegt, die über die Hoheit der Kultur verfügen, was immer das ist. Jedenfalls sind sie dafür zuständig. Sie müssen Kinoprogrammpreise verleihen und bestimmen. Sie machen Drehbuchförderung und die Förderung von Kopien. All das haben wir verdoppeln können.\\nEs geht uns auch, aber eben nicht nur ums Geld. Ich habe schon bei manch einer Gelegenheit darauf hingewiesen, dass sich das öffentlich-rechtliche und private Fernsehen, das schließlich einer der Hauptnutznießer der Filmproduktion, also Ihrer Arbeit, ist, ruhig noch stärker bei der Förderung von Film und denen, die es machen, engagieren kann, ja muss.\\nDas Konzept, das wir erarbeitet haben und das der Kulturstaatsminister vorgelegt hat, haben wir übrigens nicht einfach heruntergeschrieben, und es ist auch nicht in Gesprächen zwischen Beamten und uns entstanden. Ich hatte wiederholt - und ich habe es wirklich als Vergnügen empfunden - die Möglichkeit, mit Regisseuren, mit Autoren und Produzenten über die Bedürfnisse des Films zu diskutieren - lange, meistens nachts.\\nWenn mit dem Jahr 2003 das Filmförderungsgesetz, das jetzt gilt, ausgelaufen sein wird, dann werden wir bei der Neuregelung alle diese Anregungen aufnehmen, und ich denke, wir werden auch zu einer deutlichen Erhöhung kommen, vor allen Dingen aber zu einer zielgenaueren Förderung dessen, was wir wollen.\\nIn der Geschichte der Berlinale, die sich schon in ihrer Präambel zur Förderung der - wie es heißt - \"Verständigung und der Freundschaft unter den Völkern\" verpflichtet hat, erleben wir jetzt gleichsam eine dritte Epoche, und ich bin ganz sicher, unter der Regie von Dieter Kosslick wird es eine gute Epoche werden. Zunächst - in den Nachkriegsjahren - war es darum gegangen, Berlins und damit auch Deutschlands Rückkehr in den Westen, wie man so sagt, vorzubereiten. Das war nicht geografisch gemeint - jedenfalls nicht in erster Linie, aber das auch -, sondern das war kulturell gemeint: als Rückkehr in die Familie der Völker und der Zivilisationen. Anschließend war die Berlinale der Ort, an dem - nicht zuletzt durch Filme und die Begegnungen derer, die sie machen - die neue Einheit Europas vorweggenommen worden ist und werden konnte. Hier haben eine Menge Menschen aus Ost und West gelernt, sich besser zu verstehen, als es den damaligen diktatorischen Machthabern lieb sein konnte. Das war ein wirklich wichtiger Beitrag zur Überwindung der Teilung Europas und damit der Teilung Deutschlands.\\nHeute, denke ich, steht dieses Festival vor einer neuen wichtigen Herausforderung, nämlich der, die universalen Werte, die eben nicht nur in den sogenannten westlichen Kulturen vorhanden sind, sondern die alle zivilisierten Menschen und alle Kulturen miteinander gemein haben, zu schützen - auch mit den Mitteln der Kunst - gegen die Unkultur des Hasses und der grenzenlosen Gewalt, die wir haben erleben müssen.\\nKaum etwas könnte dies, so denke ich, besser dokumentieren als ein so großartiges Fest des Kinos hier in Berlin mit Teilnehmern aus sage und schreibe insgesamt 80 Ländern. Das Ganze findet ja - wie schon seit vielen Jahren - vor einem wirklich großen Publikum statt: nicht nur vor großen Stars und nicht minder großen Kritikern, sondern - und das ist doch wohl für Sie alle das Wichtigste - vor einer ganz großen Zahl von Filmbegeisterten aus Berlin, aber auch weit darüber hinaus, aus aller Welt. Man kann, denke ich, den Berliner Kinos, die sich an der Berlinale beteiligen, wirklich für die großen Möglichkeiten danken, die sie vor allen Dingen dem neugierigen und interessierten Publikum schaffen.\\nNatürlich ist dieses Festival - das soll ja gar nicht verschwiegen und muss noch viel mehr öffentlich werden - eine große Messe und ein großer Marktplatz, auf dem auch ruhig verkauft werden darf. Das gibt Impulse für die künstlerische Entwicklung, aber auch für die Filmwirtschaft. Denen, die uns zuhören und zusehen, darf man ruhig einmal sagen, dass das ein immer wichtiger werdender Teil der Wirtschaft ist und es deswegen wichtig und richtig ist, ihn auch von staatlicher Seite her zu fördern. Das Fordern - sich selbst nämlich - werden diejenigen, die es machen, schon von alleine tun.\\nMich freut ganz besonders - das werden Sie verstehen -, dass in diesem Jahr gleich vier deutsche Filme offenbar von so guter Qualität sind, dass sie den Sprung in den Wettbewerb geschafft haben. Natürlich bin ich auch froh darüber, dass es in diesem Jahr neben der für den Weltmarkt bestimmten Reihe \"German Cinema\" auch den Programmpunkt \"Perspektive Deutsches Kino\" gibt, und darüber, dass als weitere Premiere unter den vielen Premieren auch erstmals der beste Erstlingsfilm mit dem \"First Movie Award\" ausgezeichnet wird. Schon daran sieht man, dass es bei all dem nicht nur um eine Re-Nationalisierung - also keineswegs um den deutschen Film, der sich abgrenzen möchte - geht; das wäre in Zeiten immer weiterer, größerer, deutlicherer Internationalisierung auch ganz falsch. Nein, es geht dabei um das, was ich künstlerische Courage nennen würde, also Mut, den filmischen Nachwuchs zur Geltung kommen zu lassen, und vor allen Dingen Mut zur eigenen Perspektive, und das durchaus in internationaler Zusammenarbeit.\\nDer heutige Eröffnungsfilm \"Heaven\", auf den ich sehr gespannt bin und den ich mir übrigens anschauen werde, ist nach einem Drehbuch des verstorbenen polnischen Regisseurs Krzysztof Kieslowski vom deutschen Regisseur Tom Tykwer, der vor einigen Jahren übrigens noch als Nachwuchstalent galt und heute ein international bewunderter Regisseur und Filmemacher ist, in Italien und Deutschland als multinationale Koproduktion realisiert worden. Das erwähne ich, damit auch nach außen deutlich wird, wie viel Internationalität es im Film gibt und wie nötig diese Internationalität auch ist.\\nDas Kino - so denke ich - hat weder die Pflicht zur Kritik noch eine Verpflichtung zur Unterhaltung. Aber es wäre schon gut, wenn gutes Kino beides leisten könnte und beides leisten würde. Ich bin jetzt schon sicher, dass es dafür, dass beides geleistet werden kann, auf dieser Berlinale viele gute Beispiele geben wird. Das ist der Grund, warum ich allen Beteiligten für ihren Einsatz bei der Vorbereitung des Festivals danke. Den Teilnehmern und den Filmschaffenden wünsche ich wirklich ein riesiges Fest und den Jurymitgliedern eine spannende Wahl; die bekommen es dann ja ab - so oder so -, und das ist auch gut so.\\nDamit bleibt mir nichts anderes übrig, als mit wirklich großer Freude die 52. Internationalen Filmfestspiele Berlin für eröffnet zu erklären. with type spacy.tokens.doc.Doc: did not recognize Python value type when inferring an Arrow data type', 'Conversion failed for column doc_object with type object')",
     "output_type": "error",
     "traceback": [
      "\u001b[0;31m---------------------------------------------------------------------------\u001b[0m",
      "\u001b[0;31mArrowInvalid\u001b[0m                              Traceback (most recent call last)",
      "\u001b[0;32m/var/folders/84/2v35331s5t97w8g_wvsp4nv80000gq/T/ipykernel_1601/76893119.py\u001b[0m in \u001b[0;36m<module>\u001b[0;34m\u001b[0m\n\u001b[1;32m      1\u001b[0m \u001b[0;31m# speichern als feather binary for use in R\u001b[0m\u001b[0;34m\u001b[0m\u001b[0;34m\u001b[0m\u001b[0;34m\u001b[0m\u001b[0m\n\u001b[1;32m      2\u001b[0m \u001b[0;32mimport\u001b[0m \u001b[0mpyarrow\u001b[0m\u001b[0;34m.\u001b[0m\u001b[0mfeather\u001b[0m \u001b[0;32mas\u001b[0m \u001b[0mfeather\u001b[0m\u001b[0;34m\u001b[0m\u001b[0;34m\u001b[0m\u001b[0m\n\u001b[0;32m----> 3\u001b[0;31m \u001b[0mfeather\u001b[0m\u001b[0;34m.\u001b[0m\u001b[0mwrite_feather\u001b[0m\u001b[0;34m(\u001b[0m\u001b[0mdf\u001b[0m\u001b[0;34m,\u001b[0m \u001b[0;34m'../data/reden-bundesregierung.feather'\u001b[0m\u001b[0;34m)\u001b[0m\u001b[0;34m\u001b[0m\u001b[0;34m\u001b[0m\u001b[0m\n\u001b[0m",
      "\u001b[0;32m~/opt/anaconda3/envs/spacy/lib/python3.8/site-packages/pyarrow/feather.py\u001b[0m in \u001b[0;36mwrite_feather\u001b[0;34m(df, dest, compression, compression_level, chunksize, version)\u001b[0m\n\u001b[1;32m    149\u001b[0m \u001b[0;34m\u001b[0m\u001b[0m\n\u001b[1;32m    150\u001b[0m     \u001b[0;32mif\u001b[0m \u001b[0m_pandas_api\u001b[0m\u001b[0;34m.\u001b[0m\u001b[0mis_data_frame\u001b[0m\u001b[0;34m(\u001b[0m\u001b[0mdf\u001b[0m\u001b[0;34m)\u001b[0m\u001b[0;34m:\u001b[0m\u001b[0;34m\u001b[0m\u001b[0;34m\u001b[0m\u001b[0m\n\u001b[0;32m--> 151\u001b[0;31m         \u001b[0mtable\u001b[0m \u001b[0;34m=\u001b[0m \u001b[0mTable\u001b[0m\u001b[0;34m.\u001b[0m\u001b[0mfrom_pandas\u001b[0m\u001b[0;34m(\u001b[0m\u001b[0mdf\u001b[0m\u001b[0;34m,\u001b[0m \u001b[0mpreserve_index\u001b[0m\u001b[0;34m=\u001b[0m\u001b[0;32mFalse\u001b[0m\u001b[0;34m)\u001b[0m\u001b[0;34m\u001b[0m\u001b[0;34m\u001b[0m\u001b[0m\n\u001b[0m\u001b[1;32m    152\u001b[0m \u001b[0;34m\u001b[0m\u001b[0m\n\u001b[1;32m    153\u001b[0m         \u001b[0;32mif\u001b[0m \u001b[0mversion\u001b[0m \u001b[0;34m==\u001b[0m \u001b[0;36m1\u001b[0m\u001b[0;34m:\u001b[0m\u001b[0;34m\u001b[0m\u001b[0;34m\u001b[0m\u001b[0m\n",
      "\u001b[0;32m~/opt/anaconda3/envs/spacy/lib/python3.8/site-packages/pyarrow/table.pxi\u001b[0m in \u001b[0;36mpyarrow.lib.Table.from_pandas\u001b[0;34m()\u001b[0m\n",
      "\u001b[0;32m~/opt/anaconda3/envs/spacy/lib/python3.8/site-packages/pyarrow/pandas_compat.py\u001b[0m in \u001b[0;36mdataframe_to_arrays\u001b[0;34m(df, schema, preserve_index, nthreads, columns, safe)\u001b[0m\n\u001b[1;32m    603\u001b[0m         \u001b[0;32mfor\u001b[0m \u001b[0mi\u001b[0m\u001b[0;34m,\u001b[0m \u001b[0mmaybe_fut\u001b[0m \u001b[0;32min\u001b[0m \u001b[0menumerate\u001b[0m\u001b[0;34m(\u001b[0m\u001b[0marrays\u001b[0m\u001b[0;34m)\u001b[0m\u001b[0;34m:\u001b[0m\u001b[0;34m\u001b[0m\u001b[0;34m\u001b[0m\u001b[0m\n\u001b[1;32m    604\u001b[0m             \u001b[0;32mif\u001b[0m \u001b[0misinstance\u001b[0m\u001b[0;34m(\u001b[0m\u001b[0mmaybe_fut\u001b[0m\u001b[0;34m,\u001b[0m \u001b[0mfutures\u001b[0m\u001b[0;34m.\u001b[0m\u001b[0mFuture\u001b[0m\u001b[0;34m)\u001b[0m\u001b[0;34m:\u001b[0m\u001b[0;34m\u001b[0m\u001b[0;34m\u001b[0m\u001b[0m\n\u001b[0;32m--> 605\u001b[0;31m                 \u001b[0marrays\u001b[0m\u001b[0;34m[\u001b[0m\u001b[0mi\u001b[0m\u001b[0;34m]\u001b[0m \u001b[0;34m=\u001b[0m \u001b[0mmaybe_fut\u001b[0m\u001b[0;34m.\u001b[0m\u001b[0mresult\u001b[0m\u001b[0;34m(\u001b[0m\u001b[0;34m)\u001b[0m\u001b[0;34m\u001b[0m\u001b[0;34m\u001b[0m\u001b[0m\n\u001b[0m\u001b[1;32m    606\u001b[0m \u001b[0;34m\u001b[0m\u001b[0m\n\u001b[1;32m    607\u001b[0m     \u001b[0mtypes\u001b[0m \u001b[0;34m=\u001b[0m \u001b[0;34m[\u001b[0m\u001b[0mx\u001b[0m\u001b[0;34m.\u001b[0m\u001b[0mtype\u001b[0m \u001b[0;32mfor\u001b[0m \u001b[0mx\u001b[0m \u001b[0;32min\u001b[0m \u001b[0marrays\u001b[0m\u001b[0;34m]\u001b[0m\u001b[0;34m\u001b[0m\u001b[0;34m\u001b[0m\u001b[0m\n",
      "\u001b[0;32m~/opt/anaconda3/envs/spacy/lib/python3.8/concurrent/futures/_base.py\u001b[0m in \u001b[0;36mresult\u001b[0;34m(self, timeout)\u001b[0m\n\u001b[1;32m    435\u001b[0m                     \u001b[0;32mraise\u001b[0m \u001b[0mCancelledError\u001b[0m\u001b[0;34m(\u001b[0m\u001b[0;34m)\u001b[0m\u001b[0;34m\u001b[0m\u001b[0;34m\u001b[0m\u001b[0m\n\u001b[1;32m    436\u001b[0m                 \u001b[0;32melif\u001b[0m \u001b[0mself\u001b[0m\u001b[0;34m.\u001b[0m\u001b[0m_state\u001b[0m \u001b[0;34m==\u001b[0m \u001b[0mFINISHED\u001b[0m\u001b[0;34m:\u001b[0m\u001b[0;34m\u001b[0m\u001b[0;34m\u001b[0m\u001b[0m\n\u001b[0;32m--> 437\u001b[0;31m                     \u001b[0;32mreturn\u001b[0m \u001b[0mself\u001b[0m\u001b[0;34m.\u001b[0m\u001b[0m__get_result\u001b[0m\u001b[0;34m(\u001b[0m\u001b[0;34m)\u001b[0m\u001b[0;34m\u001b[0m\u001b[0;34m\u001b[0m\u001b[0m\n\u001b[0m\u001b[1;32m    438\u001b[0m \u001b[0;34m\u001b[0m\u001b[0m\n\u001b[1;32m    439\u001b[0m                 \u001b[0mself\u001b[0m\u001b[0;34m.\u001b[0m\u001b[0m_condition\u001b[0m\u001b[0;34m.\u001b[0m\u001b[0mwait\u001b[0m\u001b[0;34m(\u001b[0m\u001b[0mtimeout\u001b[0m\u001b[0;34m)\u001b[0m\u001b[0;34m\u001b[0m\u001b[0;34m\u001b[0m\u001b[0m\n",
      "\u001b[0;32m~/opt/anaconda3/envs/spacy/lib/python3.8/concurrent/futures/_base.py\u001b[0m in \u001b[0;36m__get_result\u001b[0;34m(self)\u001b[0m\n\u001b[1;32m    387\u001b[0m         \u001b[0;32mif\u001b[0m \u001b[0mself\u001b[0m\u001b[0;34m.\u001b[0m\u001b[0m_exception\u001b[0m\u001b[0;34m:\u001b[0m\u001b[0;34m\u001b[0m\u001b[0;34m\u001b[0m\u001b[0m\n\u001b[1;32m    388\u001b[0m             \u001b[0;32mtry\u001b[0m\u001b[0;34m:\u001b[0m\u001b[0;34m\u001b[0m\u001b[0;34m\u001b[0m\u001b[0m\n\u001b[0;32m--> 389\u001b[0;31m                 \u001b[0;32mraise\u001b[0m \u001b[0mself\u001b[0m\u001b[0;34m.\u001b[0m\u001b[0m_exception\u001b[0m\u001b[0;34m\u001b[0m\u001b[0;34m\u001b[0m\u001b[0m\n\u001b[0m\u001b[1;32m    390\u001b[0m             \u001b[0;32mfinally\u001b[0m\u001b[0;34m:\u001b[0m\u001b[0;34m\u001b[0m\u001b[0;34m\u001b[0m\u001b[0m\n\u001b[1;32m    391\u001b[0m                 \u001b[0;31m# Break a reference cycle with the exception in self._exception\u001b[0m\u001b[0;34m\u001b[0m\u001b[0;34m\u001b[0m\u001b[0;34m\u001b[0m\u001b[0m\n",
      "\u001b[0;32m~/opt/anaconda3/envs/spacy/lib/python3.8/concurrent/futures/thread.py\u001b[0m in \u001b[0;36mrun\u001b[0;34m(self)\u001b[0m\n\u001b[1;32m     55\u001b[0m \u001b[0;34m\u001b[0m\u001b[0m\n\u001b[1;32m     56\u001b[0m         \u001b[0;32mtry\u001b[0m\u001b[0;34m:\u001b[0m\u001b[0;34m\u001b[0m\u001b[0;34m\u001b[0m\u001b[0m\n\u001b[0;32m---> 57\u001b[0;31m             \u001b[0mresult\u001b[0m \u001b[0;34m=\u001b[0m \u001b[0mself\u001b[0m\u001b[0;34m.\u001b[0m\u001b[0mfn\u001b[0m\u001b[0;34m(\u001b[0m\u001b[0;34m*\u001b[0m\u001b[0mself\u001b[0m\u001b[0;34m.\u001b[0m\u001b[0margs\u001b[0m\u001b[0;34m,\u001b[0m \u001b[0;34m**\u001b[0m\u001b[0mself\u001b[0m\u001b[0;34m.\u001b[0m\u001b[0mkwargs\u001b[0m\u001b[0;34m)\u001b[0m\u001b[0;34m\u001b[0m\u001b[0;34m\u001b[0m\u001b[0m\n\u001b[0m\u001b[1;32m     58\u001b[0m         \u001b[0;32mexcept\u001b[0m \u001b[0mBaseException\u001b[0m \u001b[0;32mas\u001b[0m \u001b[0mexc\u001b[0m\u001b[0;34m:\u001b[0m\u001b[0;34m\u001b[0m\u001b[0;34m\u001b[0m\u001b[0m\n\u001b[1;32m     59\u001b[0m             \u001b[0mself\u001b[0m\u001b[0;34m.\u001b[0m\u001b[0mfuture\u001b[0m\u001b[0;34m.\u001b[0m\u001b[0mset_exception\u001b[0m\u001b[0;34m(\u001b[0m\u001b[0mexc\u001b[0m\u001b[0;34m)\u001b[0m\u001b[0;34m\u001b[0m\u001b[0;34m\u001b[0m\u001b[0m\n",
      "\u001b[0;32m~/opt/anaconda3/envs/spacy/lib/python3.8/site-packages/pyarrow/pandas_compat.py\u001b[0m in \u001b[0;36mconvert_column\u001b[0;34m(col, field)\u001b[0m\n\u001b[1;32m    575\u001b[0m             e.args += (\"Conversion failed for column {!s} with type {!s}\"\n\u001b[1;32m    576\u001b[0m                        .format(col.name, col.dtype),)\n\u001b[0;32m--> 577\u001b[0;31m             \u001b[0;32mraise\u001b[0m \u001b[0me\u001b[0m\u001b[0;34m\u001b[0m\u001b[0;34m\u001b[0m\u001b[0m\n\u001b[0m\u001b[1;32m    578\u001b[0m         \u001b[0;32mif\u001b[0m \u001b[0;32mnot\u001b[0m \u001b[0mfield_nullable\u001b[0m \u001b[0;32mand\u001b[0m \u001b[0mresult\u001b[0m\u001b[0;34m.\u001b[0m\u001b[0mnull_count\u001b[0m \u001b[0;34m>\u001b[0m \u001b[0;36m0\u001b[0m\u001b[0;34m:\u001b[0m\u001b[0;34m\u001b[0m\u001b[0;34m\u001b[0m\u001b[0m\n\u001b[1;32m    579\u001b[0m             raise ValueError(\"Field {} was non-nullable but pandas column \"\n",
      "\u001b[0;32m~/opt/anaconda3/envs/spacy/lib/python3.8/site-packages/pyarrow/pandas_compat.py\u001b[0m in \u001b[0;36mconvert_column\u001b[0;34m(col, field)\u001b[0m\n\u001b[1;32m    569\u001b[0m \u001b[0;34m\u001b[0m\u001b[0m\n\u001b[1;32m    570\u001b[0m         \u001b[0;32mtry\u001b[0m\u001b[0;34m:\u001b[0m\u001b[0;34m\u001b[0m\u001b[0;34m\u001b[0m\u001b[0m\n\u001b[0;32m--> 571\u001b[0;31m             \u001b[0mresult\u001b[0m \u001b[0;34m=\u001b[0m \u001b[0mpa\u001b[0m\u001b[0;34m.\u001b[0m\u001b[0marray\u001b[0m\u001b[0;34m(\u001b[0m\u001b[0mcol\u001b[0m\u001b[0;34m,\u001b[0m \u001b[0mtype\u001b[0m\u001b[0;34m=\u001b[0m\u001b[0mtype_\u001b[0m\u001b[0;34m,\u001b[0m \u001b[0mfrom_pandas\u001b[0m\u001b[0;34m=\u001b[0m\u001b[0;32mTrue\u001b[0m\u001b[0;34m,\u001b[0m \u001b[0msafe\u001b[0m\u001b[0;34m=\u001b[0m\u001b[0msafe\u001b[0m\u001b[0;34m)\u001b[0m\u001b[0;34m\u001b[0m\u001b[0;34m\u001b[0m\u001b[0m\n\u001b[0m\u001b[1;32m    572\u001b[0m         except (pa.ArrowInvalid,\n\u001b[1;32m    573\u001b[0m                 \u001b[0mpa\u001b[0m\u001b[0;34m.\u001b[0m\u001b[0mArrowNotImplementedError\u001b[0m\u001b[0;34m,\u001b[0m\u001b[0;34m\u001b[0m\u001b[0;34m\u001b[0m\u001b[0m\n",
      "\u001b[0;32m~/opt/anaconda3/envs/spacy/lib/python3.8/site-packages/pyarrow/array.pxi\u001b[0m in \u001b[0;36mpyarrow.lib.array\u001b[0;34m()\u001b[0m\n",
      "\u001b[0;32m~/opt/anaconda3/envs/spacy/lib/python3.8/site-packages/pyarrow/array.pxi\u001b[0m in \u001b[0;36mpyarrow.lib._ndarray_to_array\u001b[0;34m()\u001b[0m\n",
      "\u001b[0;32m~/opt/anaconda3/envs/spacy/lib/python3.8/site-packages/pyarrow/error.pxi\u001b[0m in \u001b[0;36mpyarrow.lib.check_status\u001b[0;34m()\u001b[0m\n",
      "\u001b[0;31mArrowInvalid\u001b[0m: ('Could not convert es ist angekündigt worden, man sollte im Beruf zwischen Schauspieler und Politiker wechseln. Das hatten wir schon einmal - in Amerika. Ich weiß nicht, ob das ein Modell sein sollte. Aber darüber ist heute nicht zu reden.\\nIch fand es schön, dass der Regierende Bürgermeister an Hildegard Knef - \"Hildchen\", wie Ihre Kolleginnen und Kollegen sie nennen durften - erinnert hat. Ich glaube, man kann diese Filmfestspiele nicht eröffnen, ohne an sie zu denken, ohne von ihr zu reden. \"Die Knef\", so haben sie nicht nur diejenigen genannt, die sie gekannt haben, sondern so haben sie ganz viele genannt, nicht nur in Deutschland. Sie war - ich denke, da werden Sie mir Recht geben - eines jener wunderbaren Geschöpfe vom \"Planet Kino\", die zu unserem Leben gehört haben wie eine gute Bekannte, für viele Freundin, gelegentlich auch Kritikerin.\\nWenn Sie mir gestatten, erinnere ich an meine letzte Begegnung hier in Berlin mit ihr und ihrem Mann. Sie hat mir erzählt, dass es eigentlich ganz schrecklich sei, dass sie nie einen deutschen Pass bekommen habe, obwohl sie viel hier gelebt habe und sicher auch bekannt sei. Wir haben das kurz und schnell geregelt. Sie hat dann ganz schnell ihren deutschen Pass bekommen, und ich denke, sie hat sich darüber gefreut. Sie war - zumindest für Deutschland und Berlin nach dem Krieg - nicht nur eine große Schauspielerin; sie war auch ein Stück der Geschichte unseres Landes. Sie war einer jener Menschen, von denen der große Billy Wilder, der diesem Festival von Beginn an ein guter Freund gewesen ist, einmal gesagt hat: \"Ich hätte gern ein paar Menschen aus meinen Filmen im wirklichen Leben getroffen.\" Übrigens, ich auch. Ich denke, das geht vielen von Ihnen so.\\nDas geht deshalb vielen von uns so, weil manch einer - ich nehme mich gar nicht davon aus - Paris ganz gern zusammen mit \"Irma La Douce\" entdeckt hätte. Ich hätte auch gern mit Audrey Hepburn bei \"Tiffany\\'s\" gefrühstückt, ich wäre aber auch zufrieden gewesen, wenn ich mit Robert de Niro ins \"Casino\" hätte gehen können. Sie sehen, dass sind ganz unterschiedliche Vorlieben. Heute allerdings muss man mit Ernst hinzufügen: Einigen Menschen, vor allen Dingen einigen Szenen, die so aussahen, als wären sie aus dem Kino leibhaftig in die Wirklichkeit gekommen, wäre man nicht gern begegnet, hätte man nicht gern erlebt.\\nAuch heute - knapp fünf Monate nach dem 11. September - hat niemand die schrecklichen Bilder von Washington und New York vergessen, die sich ein Katastrophenkino nicht schlimmer hätte ausdenken können. Das hören wir an einem solchen Tag vielleicht nicht gern, und ich kann das verstehen. Es ist schließlich ein Tag, an dem Sie, wir alle und vor allen Dingen die Berlinerinnen und Berliner zehn Tage eines wirklich großen Festes - ich bin sicher, ein solches wird es werden - rund um das Kino vor sich haben.\\nAber ein solcher Rückgriff auf die Realität kann uns helfen, das Kino noch besser zu würdigen und es dann auch zu feiern. Kino ist eben nicht nur Traumfabrik, manchmal auch Alptraumfabrik, sondern Kino hilft beim Sehen und damit beim Verstehen. Es eröffnet Perspektiven, die man gelegentlich über den Job hinaus braucht, die wir alle nötig brauchen; jedenfalls dann, wenn wir uns miteinander vornehmen, das Leben der Menschen besser, toleranter, aber auch friedlicher zu gestalten. Sie als Künstlerinnen und Künstler können einen Riesenbeitrag dazu leisten.\\nDeshalb ist das Motto des diesjährigen Festivals auch so vorzüglich gewählt: \"Accept Diversity!\" Lernen wir, soll das doch wohl heißen, mit dem \"Anderen\" zu leben und \"Fremdes\" zu akzeptieren, neugierig darauf zu sein - übrigens nicht im Sinne eines \"Kultur-Einerlei\", das alles irgendwie gleichberechtigt nebeneinander stellt, sondern als Basis und als Anregung, miteinander und voneinander zu lernen, die Werte des Zusammenlebens und der friedfertigen Auseinandersetzung zu entwickeln und zu fördern. Dabei hilft Kunst - Ihre allemal auch.\\nIch will nicht falsch verstanden werden. Das Kino wie übrigens die Kunst im Allgemeinen hat keine Aufträge, schon gar keine politischen Aufträge entgegenzunehmen oder zu erfüllen. Das war nicht immer so - übrigens auch nicht in der Geschichte der Berliner Filmfestspiele. Gerade weil sich das Kino hier in Berlin immer mit einer Botschaft der Verständigung und des Brückenschlags präsentiert hat, gab es auch immer wieder Versuche, Pressionen auszuüben und politisch Einfluss zu nehmen. Wir wissen doch noch, jedenfalls die meisten von uns, dass etwa zu Zeiten des \"Eisernen Vorhangs\" Greta Garbo als die unvergessliche \"Ninotschka\" - ich erinnere mich ganz genau an den Hut - nicht einmal in einer Retrospektive gezeigt werden konnte. Ich habe mir überlegt, warum. Vermutlich nicht zuletzt wegen dieses schönen Satzes: \"Ich könnte den Gedanken nicht ertragen, in einer Schublade eingeschlossen zu sein.\" Ich denke, das war den damaligen Herrschern, wie allen autoritären und diktatorischen Herrschern, zu viel an Freiheitswillen.\\nInzwischen - das möchte ich Ihnen gerne versichern - ist die Berlinale wirklich völlig frei von politischem Reinreden, und zwar nicht zuletzt deshalb und gerade jetzt, weil wir neben dem, was am Kartenverkauf hereinkommt, die alleinige Finanzierung des Festivals übernommen haben. Wir haben ein ganz bestimmtes Verständnis von Kunst und Kultur. Wir sehen in der Freiheit des Films kein \"Gespenst\". Nicht einmal eines von Achternbusch.\\nDas, was wir als Bundesregierung für die Förderung der Filmkultur tun können, machen wir. Wir wollen es auch noch besser machen. Wir haben schon einiges erreicht. Das will ich nicht verschweigen. Die Filmförderung des Bundes haben wir gegenüber 1998 um 30 Prozent erhöht - immerhin auf jetzt mehr als zehn Millionen Euro. Die meisten von Ihnen wissen, dass das nur der kleinere Teil der Förderung von Film in Deutschland ist, weil der größere bei den Ländern liegt, die über die Hoheit der Kultur verfügen, was immer das ist. Jedenfalls sind sie dafür zuständig. Sie müssen Kinoprogrammpreise verleihen und bestimmen. Sie machen Drehbuchförderung und die Förderung von Kopien. All das haben wir verdoppeln können.\\nEs geht uns auch, aber eben nicht nur ums Geld. Ich habe schon bei manch einer Gelegenheit darauf hingewiesen, dass sich das öffentlich-rechtliche und private Fernsehen, das schließlich einer der Hauptnutznießer der Filmproduktion, also Ihrer Arbeit, ist, ruhig noch stärker bei der Förderung von Film und denen, die es machen, engagieren kann, ja muss.\\nDas Konzept, das wir erarbeitet haben und das der Kulturstaatsminister vorgelegt hat, haben wir übrigens nicht einfach heruntergeschrieben, und es ist auch nicht in Gesprächen zwischen Beamten und uns entstanden. Ich hatte wiederholt - und ich habe es wirklich als Vergnügen empfunden - die Möglichkeit, mit Regisseuren, mit Autoren und Produzenten über die Bedürfnisse des Films zu diskutieren - lange, meistens nachts.\\nWenn mit dem Jahr 2003 das Filmförderungsgesetz, das jetzt gilt, ausgelaufen sein wird, dann werden wir bei der Neuregelung alle diese Anregungen aufnehmen, und ich denke, wir werden auch zu einer deutlichen Erhöhung kommen, vor allen Dingen aber zu einer zielgenaueren Förderung dessen, was wir wollen.\\nIn der Geschichte der Berlinale, die sich schon in ihrer Präambel zur Förderung der - wie es heißt - \"Verständigung und der Freundschaft unter den Völkern\" verpflichtet hat, erleben wir jetzt gleichsam eine dritte Epoche, und ich bin ganz sicher, unter der Regie von Dieter Kosslick wird es eine gute Epoche werden. Zunächst - in den Nachkriegsjahren - war es darum gegangen, Berlins und damit auch Deutschlands Rückkehr in den Westen, wie man so sagt, vorzubereiten. Das war nicht geografisch gemeint - jedenfalls nicht in erster Linie, aber das auch -, sondern das war kulturell gemeint: als Rückkehr in die Familie der Völker und der Zivilisationen. Anschließend war die Berlinale der Ort, an dem - nicht zuletzt durch Filme und die Begegnungen derer, die sie machen - die neue Einheit Europas vorweggenommen worden ist und werden konnte. Hier haben eine Menge Menschen aus Ost und West gelernt, sich besser zu verstehen, als es den damaligen diktatorischen Machthabern lieb sein konnte. Das war ein wirklich wichtiger Beitrag zur Überwindung der Teilung Europas und damit der Teilung Deutschlands.\\nHeute, denke ich, steht dieses Festival vor einer neuen wichtigen Herausforderung, nämlich der, die universalen Werte, die eben nicht nur in den sogenannten westlichen Kulturen vorhanden sind, sondern die alle zivilisierten Menschen und alle Kulturen miteinander gemein haben, zu schützen - auch mit den Mitteln der Kunst - gegen die Unkultur des Hasses und der grenzenlosen Gewalt, die wir haben erleben müssen.\\nKaum etwas könnte dies, so denke ich, besser dokumentieren als ein so großartiges Fest des Kinos hier in Berlin mit Teilnehmern aus sage und schreibe insgesamt 80 Ländern. Das Ganze findet ja - wie schon seit vielen Jahren - vor einem wirklich großen Publikum statt: nicht nur vor großen Stars und nicht minder großen Kritikern, sondern - und das ist doch wohl für Sie alle das Wichtigste - vor einer ganz großen Zahl von Filmbegeisterten aus Berlin, aber auch weit darüber hinaus, aus aller Welt. Man kann, denke ich, den Berliner Kinos, die sich an der Berlinale beteiligen, wirklich für die großen Möglichkeiten danken, die sie vor allen Dingen dem neugierigen und interessierten Publikum schaffen.\\nNatürlich ist dieses Festival - das soll ja gar nicht verschwiegen und muss noch viel mehr öffentlich werden - eine große Messe und ein großer Marktplatz, auf dem auch ruhig verkauft werden darf. Das gibt Impulse für die künstlerische Entwicklung, aber auch für die Filmwirtschaft. Denen, die uns zuhören und zusehen, darf man ruhig einmal sagen, dass das ein immer wichtiger werdender Teil der Wirtschaft ist und es deswegen wichtig und richtig ist, ihn auch von staatlicher Seite her zu fördern. Das Fordern - sich selbst nämlich - werden diejenigen, die es machen, schon von alleine tun.\\nMich freut ganz besonders - das werden Sie verstehen -, dass in diesem Jahr gleich vier deutsche Filme offenbar von so guter Qualität sind, dass sie den Sprung in den Wettbewerb geschafft haben. Natürlich bin ich auch froh darüber, dass es in diesem Jahr neben der für den Weltmarkt bestimmten Reihe \"German Cinema\" auch den Programmpunkt \"Perspektive Deutsches Kino\" gibt, und darüber, dass als weitere Premiere unter den vielen Premieren auch erstmals der beste Erstlingsfilm mit dem \"First Movie Award\" ausgezeichnet wird. Schon daran sieht man, dass es bei all dem nicht nur um eine Re-Nationalisierung - also keineswegs um den deutschen Film, der sich abgrenzen möchte - geht; das wäre in Zeiten immer weiterer, größerer, deutlicherer Internationalisierung auch ganz falsch. Nein, es geht dabei um das, was ich künstlerische Courage nennen würde, also Mut, den filmischen Nachwuchs zur Geltung kommen zu lassen, und vor allen Dingen Mut zur eigenen Perspektive, und das durchaus in internationaler Zusammenarbeit.\\nDer heutige Eröffnungsfilm \"Heaven\", auf den ich sehr gespannt bin und den ich mir übrigens anschauen werde, ist nach einem Drehbuch des verstorbenen polnischen Regisseurs Krzysztof Kieslowski vom deutschen Regisseur Tom Tykwer, der vor einigen Jahren übrigens noch als Nachwuchstalent galt und heute ein international bewunderter Regisseur und Filmemacher ist, in Italien und Deutschland als multinationale Koproduktion realisiert worden. Das erwähne ich, damit auch nach außen deutlich wird, wie viel Internationalität es im Film gibt und wie nötig diese Internationalität auch ist.\\nDas Kino - so denke ich - hat weder die Pflicht zur Kritik noch eine Verpflichtung zur Unterhaltung. Aber es wäre schon gut, wenn gutes Kino beides leisten könnte und beides leisten würde. Ich bin jetzt schon sicher, dass es dafür, dass beides geleistet werden kann, auf dieser Berlinale viele gute Beispiele geben wird. Das ist der Grund, warum ich allen Beteiligten für ihren Einsatz bei der Vorbereitung des Festivals danke. Den Teilnehmern und den Filmschaffenden wünsche ich wirklich ein riesiges Fest und den Jurymitgliedern eine spannende Wahl; die bekommen es dann ja ab - so oder so -, und das ist auch gut so.\\nDamit bleibt mir nichts anderes übrig, als mit wirklich großer Freude die 52. Internationalen Filmfestspiele Berlin für eröffnet zu erklären. with type spacy.tokens.doc.Doc: did not recognize Python value type when inferring an Arrow data type', 'Conversion failed for column doc_object with type object')"
     ]
    }
   ],
   "source": [
    "# speichern als feather binary for use in R\n",
    "import pyarrow.feather as feather\n",
    "feather.write_feather(df, '../data/reden-bundesregierung.feather')"
   ]
  },
  {
   "cell_type": "code",
   "execution_count": null,
   "id": "f7a13663-4852-442e-babf-721fea4b9c82",
   "metadata": {},
   "outputs": [],
   "source": []
  },
  {
   "cell_type": "markdown",
   "id": "ca9a6299-1514-4309-a0d7-7e0e8b6a528b",
   "metadata": {
    "tags": []
   },
   "source": [
    "### Einlesen der pickle-Datei"
   ]
  },
  {
   "cell_type": "code",
   "execution_count": 10,
   "id": "72ebfb15-3143-48ab-bb57-d69110a5f36f",
   "metadata": {},
   "outputs": [],
   "source": [
    "#df_p = pd.read_pickle('../data/reden-bundesregierung.p') # can't work if the file isn't saved to drive"
   ]
  },
  {
   "cell_type": "code",
   "execution_count": 11,
   "id": "1a4136c7-7507-4cb8-bb64-d31f0fbaab65",
   "metadata": {},
   "outputs": [
    {
     "name": "stdout",
     "output_type": "stream",
     "text": [
      "<class 'pandas.core.frame.DataFrame'>\n",
      "RangeIndex: 2983 entries, 0 to 2982\n",
      "Data columns (total 9 columns):\n",
      " #   Column      Non-Null Count  Dtype         \n",
      "---  ------      --------------  -----         \n",
      " 0   person      2983 non-null   object        \n",
      " 1   titel       2982 non-null   object        \n",
      " 2   datum       2983 non-null   datetime64[ns]\n",
      " 3   untertitel  2088 non-null   object        \n",
      " 4   url         2983 non-null   object        \n",
      " 5   anrede      1447 non-null   object        \n",
      " 6   rohtext     2983 non-null   object        \n",
      " 7   ort         690 non-null    object        \n",
      " 8   doc_object  2983 non-null   object        \n",
      "dtypes: datetime64[ns](1), object(8)\n",
      "memory usage: 209.9+ KB\n"
     ]
    }
   ],
   "source": [
    "df_p = df # this line is only necessary of the pickle is not loaded from drive\n",
    "df_p.info()"
   ]
  },
  {
   "cell_type": "markdown",
   "id": "5ce9a21a-45c6-4446-a864-f5b27b034914",
   "metadata": {},
   "source": [
    "### Checks"
   ]
  },
  {
   "cell_type": "code",
   "execution_count": 13,
   "id": "b18cb9f0-6634-4706-a9ff-3b03a6a52e21",
   "metadata": {},
   "outputs": [
    {
     "data": {
      "text/plain": [
       "spacy.tokens.doc.Doc"
      ]
     },
     "execution_count": 13,
     "metadata": {},
     "output_type": "execute_result"
    }
   ],
   "source": [
    "type(df_p.loc[0, 'doc_object'])"
   ]
  },
  {
   "cell_type": "code",
   "execution_count": 14,
   "id": "53cbe252-e5c4-42f4-95ac-3611960ec252",
   "metadata": {},
   "outputs": [],
   "source": [
    "token_test = df_p.loc[0, 'doc_object']"
   ]
  },
  {
   "cell_type": "code",
   "execution_count": 15,
   "id": "c9445313-66b3-4eea-b0ad-08f75169c33f",
   "metadata": {},
   "outputs": [
    {
     "name": "stdout",
     "output_type": "stream",
     "text": [
      "es ich PRON \n",
      "ist sein AUX \n",
      "angekündigt ankündigen VERB \n",
      "worden werden AUX \n",
      ", , PUNCT \n",
      "man man PRON \n",
      "sollte sollen AUX \n",
      "im im ADP \n",
      "Beruf Beruf NOUN \n",
      "zwischen zwischen ADP \n"
     ]
    }
   ],
   "source": [
    "for token in token_test[:10]:\n",
    "    print(token.text, token.lemma_, token.pos_,token.ent_type_)"
   ]
  },
  {
   "cell_type": "markdown",
   "id": "62e2bb54-7fa1-4538-92a3-d1aa8b4770b4",
   "metadata": {},
   "source": [
    "## Tokenisierung"
   ]
  },
  {
   "cell_type": "code",
   "execution_count": 36,
   "id": "e330fc2d-578d-45ae-9742-ad43bed66a9a",
   "metadata": {},
   "outputs": [],
   "source": [
    "def tokenize(doc):\n",
    "    '''\n",
    "    Tokenizes text using Doc-Object\n",
    "    INPUT: Doc-Object\n",
    "    RETURN: list with tokens\n",
    "    '''\n",
    "    return [ token.text for token in doc if not token.is_punct ] # das ist eine list comprehension\n",
    "# geht schneller, als wenn es in einer klassischen Vorschleife läuft. \n",
    "# hier wird für jedes Token geguckt ob eine Bedingung erfüllt ist und dann eine bestimmte Eigenschaft des Tokens einer Liste beigefügt"
   ]
  },
  {
   "cell_type": "code",
   "execution_count": 35,
   "id": "4ef0bbed-cfb1-4096-884e-156192291e65",
   "metadata": {},
   "outputs": [],
   "source": [
    "# alternative mit einer klassischen Vorschleife\n",
    "def tonikze_alt(doc):\n",
    "    token_text_list = [] # create empty list\n",
    "    for token in doc:\n",
    "        if not token.is_punct:\n",
    "            token_text_list.append(token.text)\n",
    "    return token_text_list"
   ]
  },
  {
   "cell_type": "code",
   "execution_count": 24,
   "id": "e5170c8d-0c84-4395-8d5f-04625057a02d",
   "metadata": {},
   "outputs": [
    {
     "name": "stdout",
     "output_type": "stream",
     "text": [
      "CPU times: user 2.95 s, sys: 236 ms, total: 3.19 s\n",
      "Wall time: 3.2 s\n"
     ]
    }
   ],
   "source": [
    "%%time\n",
    "\n",
    "df.loc[:, 'tokens'] = df.loc[:, 'doc_object'].apply(lambda doc: tokenize(doc))"
   ]
  },
  {
   "cell_type": "code",
   "execution_count": 25,
   "id": "e601ba6c-f729-425e-a331-e3532d439c2f",
   "metadata": {},
   "outputs": [],
   "source": [
    "df.loc[:, 'ntokens'] = df.loc[:, 'tokens'].apply(lambda tokens: len(tokens))"
   ]
  },
  {
   "cell_type": "code",
   "execution_count": 26,
   "id": "06c1f2b3-df8e-40f1-8c82-6925554cf7f1",
   "metadata": {},
   "outputs": [
    {
     "data": {
      "text/plain": [
       "count     2983.000000\n",
       "mean      1939.533691\n",
       "std       1285.096751\n",
       "min          6.000000\n",
       "25%        963.500000\n",
       "50%       1599.000000\n",
       "75%       2605.000000\n",
       "max      10459.000000\n",
       "Name: ntokens, dtype: float64"
      ]
     },
     "execution_count": 26,
     "metadata": {},
     "output_type": "execute_result"
    }
   ],
   "source": [
    "df.loc[:, 'ntokens'].describe()"
   ]
  },
  {
   "cell_type": "markdown",
   "id": "674088a7-70ff-45fb-93a7-eeed4ce53a9c",
   "metadata": {},
   "source": [
    "## Lemmatisierung"
   ]
  },
  {
   "cell_type": "code",
   "execution_count": 27,
   "id": "8c64325c-175c-482f-9511-8bc310c3745b",
   "metadata": {},
   "outputs": [],
   "source": [
    "def lemmatize(doc):\n",
    "    '''\n",
    "    Lemmatizes text using Doc-Object\n",
    "    INPUT: Doc-Object\n",
    "    RETURN: list with lowercase lemmatas with stopwords and punctuation removed    \n",
    "    '''\n",
    "    # create stopwords taken from http://members.unine.ch/jacques.savoy/clef/germanST.txt\n",
    "    with open('../data/stopwords.txt', 'r', encoding='utf-8') as f:\n",
    "        stopwords = f.read().splitlines()\n",
    "    \n",
    "    return [ token.lemma_.lower() for token in doc \\\n",
    "             if token.text not in stopwords \\\n",
    "             and token.is_alpha \\\n",
    "             and not token.is_punct ]"
   ]
  },
  {
   "cell_type": "code",
   "execution_count": 28,
   "id": "59a11daf-d1b0-4afd-a849-499a152e3ef5",
   "metadata": {},
   "outputs": [
    {
     "name": "stdout",
     "output_type": "stream",
     "text": [
      "CPU times: user 33.5 s, sys: 270 ms, total: 33.7 s\n",
      "Wall time: 33.9 s\n"
     ]
    }
   ],
   "source": [
    "%%time\n",
    "\n",
    "df.loc[:, 'lemmata'] = df.loc[:, 'doc_object'].apply(lambda doc: lemmatize(doc))"
   ]
  },
  {
   "cell_type": "code",
   "execution_count": 29,
   "id": "7430c341-0df3-4f62-bd03-3c21c25fb90f",
   "metadata": {},
   "outputs": [
    {
     "data": {
      "text/plain": [
       "list"
      ]
     },
     "execution_count": 29,
     "metadata": {},
     "output_type": "execute_result"
    }
   ],
   "source": [
    "type(df.loc[0, 'lemmata'])"
   ]
  },
  {
   "cell_type": "markdown",
   "id": "eb55eeac-e9be-48ff-a5a6-84e535f98aaa",
   "metadata": {},
   "source": [
    "## NER"
   ]
  },
  {
   "cell_type": "code",
   "execution_count": 30,
   "id": "0df8ac65-0569-4cfd-bb46-7251cffc59c6",
   "metadata": {},
   "outputs": [],
   "source": [
    "def extract_named_entities(doc, entity='PER'):\n",
    "    '''\n",
    "    Extracts named entities from Doc-Object.\n",
    "    INPUT: Doc-Object\n",
    "    RETURN: List with entities    \n",
    "    '''\n",
    "    return [ token.text for token in doc.ents if token.label_ == entity ]"
   ]
  },
  {
   "cell_type": "code",
   "execution_count": 31,
   "id": "4e73f4f6-b0f0-4b3e-b340-063f5cfa6186",
   "metadata": {},
   "outputs": [
    {
     "name": "stdout",
     "output_type": "stream",
     "text": [
      "CPU times: user 1.83 s, sys: 127 ms, total: 1.96 s\n",
      "Wall time: 1.97 s\n"
     ]
    }
   ],
   "source": [
    "%%time\n",
    "\n",
    "entities = ['PER', 'ORG', 'LOC', 'MISC']\n",
    "\n",
    "for entity in entities:\n",
    "    df.loc[:, entity] = df.loc[:, 'doc_object'].apply(lambda doc: extract_named_entities(doc, entity=entity))"
   ]
  },
  {
   "cell_type": "code",
   "execution_count": 32,
   "id": "fd1de84e-9706-4b73-9be6-0a46813f8512",
   "metadata": {},
   "outputs": [
    {
     "data": {
      "text/html": [
       "<div>\n",
       "<style scoped>\n",
       "    .dataframe tbody tr th:only-of-type {\n",
       "        vertical-align: middle;\n",
       "    }\n",
       "\n",
       "    .dataframe tbody tr th {\n",
       "        vertical-align: top;\n",
       "    }\n",
       "\n",
       "    .dataframe thead th {\n",
       "        text-align: right;\n",
       "    }\n",
       "</style>\n",
       "<table border=\"1\" class=\"dataframe\">\n",
       "  <thead>\n",
       "    <tr style=\"text-align: right;\">\n",
       "      <th></th>\n",
       "      <th>0</th>\n",
       "      <th>1</th>\n",
       "      <th>2</th>\n",
       "    </tr>\n",
       "  </thead>\n",
       "  <tbody>\n",
       "    <tr>\n",
       "      <th>person</th>\n",
       "      <td>Gerhard Schröder</td>\n",
       "      <td>Julian Nida-Rümelin</td>\n",
       "      <td>Gerhard Schröder</td>\n",
       "    </tr>\n",
       "    <tr>\n",
       "      <th>titel</th>\n",
       "      <td>Rede des Bundeskanzlers zur Eröffnung der 52. ...</td>\n",
       "      <td>Redebeitrag von Staatsminister Nida-Rümelin in...</td>\n",
       "      <td>Interview mit Bundeskanzler Schröder in 'Berli...</td>\n",
       "    </tr>\n",
       "    <tr>\n",
       "      <th>datum</th>\n",
       "      <td>2002-02-06 00:00:00</td>\n",
       "      <td>2002-02-01 00:00:00</td>\n",
       "      <td>2002-04-14 00:00:00</td>\n",
       "    </tr>\n",
       "    <tr>\n",
       "      <th>untertitel</th>\n",
       "      <td>Man kann diese Filmfestspiele nicht eröffnen, ...</td>\n",
       "      <td>\"Ich bin der Auffassung, wir müssen nicht nur ...</td>\n",
       "      <td>In dem Interview äußert sich Bundeskanzler Sch...</td>\n",
       "    </tr>\n",
       "    <tr>\n",
       "      <th>url</th>\n",
       "      <td>http://archiv.bundesregierung.de/bpaexport/red...</td>\n",
       "      <td>http://archiv.bundesregierung.de/bpaexport/red...</td>\n",
       "      <td>http://archiv.bundesregierung.de/bpaexport/red...</td>\n",
       "    </tr>\n",
       "    <tr>\n",
       "      <th>anrede</th>\n",
       "      <td>Sehr geehrte Frau Nair, liebe Mitglieder der J...</td>\n",
       "      <td>Meine sehr geehrten Damen und Herren!</td>\n",
       "      <td>NaN</td>\n",
       "    </tr>\n",
       "    <tr>\n",
       "      <th>rohtext</th>\n",
       "      <td>es ist angekündigt worden, man sollte im Beruf...</td>\n",
       "      <td>Frau Präsidentin!  An Sie gerichtet, Herr Börn...</td>\n",
       "      <td>Frage (Peter Hahne): Bevor wir uns über den Au...</td>\n",
       "    </tr>\n",
       "    <tr>\n",
       "      <th>ort</th>\n",
       "      <td>None</td>\n",
       "      <td>None</td>\n",
       "      <td>None</td>\n",
       "    </tr>\n",
       "    <tr>\n",
       "      <th>doc_object</th>\n",
       "      <td>(es, ist, angekündigt, worden, ,, man, sollte,...</td>\n",
       "      <td>(Frau, Präsidentin, !,  , An, Sie, gerichtet, ...</td>\n",
       "      <td>(Frage, (, Peter, Hahne, ):, Bevor, wir, uns, ...</td>\n",
       "    </tr>\n",
       "    <tr>\n",
       "      <th>tokens</th>\n",
       "      <td>[es, ist, angekündigt, worden, man, sollte, im...</td>\n",
       "      <td>[Frau, Präsidentin,  , An, Sie, gerichtet, Her...</td>\n",
       "      <td>[Frage, Peter, Hahne, Bevor, wir, uns, über, d...</td>\n",
       "    </tr>\n",
       "    <tr>\n",
       "      <th>ntokens</th>\n",
       "      <td>1911</td>\n",
       "      <td>1319</td>\n",
       "      <td>1512</td>\n",
       "    </tr>\n",
       "    <tr>\n",
       "      <th>lemmata</th>\n",
       "      <td>[ankündigen, beruf, schauspieler, politiker, w...</td>\n",
       "      <td>[frau, präsidentin, an, ich, richten, herr, bö...</td>\n",
       "      <td>[frage, peter, hahn, bevor, aufbau, ost, arbei...</td>\n",
       "    </tr>\n",
       "    <tr>\n",
       "      <th>PER</th>\n",
       "      <td>[Hildegard Knef, Hildchen\", Billy Wilder, Audr...</td>\n",
       "      <td>[Otto, Filmkonzept, Otto, Höcherl, Otto]</td>\n",
       "      <td>[Peter Hahne):, Saddam Hussein, Blair, Herrn F...</td>\n",
       "    </tr>\n",
       "    <tr>\n",
       "      <th>ORG</th>\n",
       "      <td>[Berlin, Brückenschlags, Berliner Kinos, Jurym...</td>\n",
       "      <td>[SPD-Fraktion, Bundestag, Goethe-Instituten, M...</td>\n",
       "      <td>[EU-Ebene, Bundeswehr, Vereinten Nationen, Ver...</td>\n",
       "    </tr>\n",
       "    <tr>\n",
       "      <th>LOC</th>\n",
       "      <td>[Amerika, Deutschland, Berlin, Deutschland, La...</td>\n",
       "      <td>[Deutschland, Pol, Bayern, Deutschland, Deutsc...</td>\n",
       "      <td>[Ferieninsel, Djerba, Deutschland, Israel, Deu...</td>\n",
       "    </tr>\n",
       "    <tr>\n",
       "      <th>MISC</th>\n",
       "      <td>[Planet Kino, deutschen, deutschen, Irma La Do...</td>\n",
       "      <td>[Erinnerung., Filmpolitik, deutsche, Filmfesti...</td>\n",
       "      <td>[tunesischen, Deutsche, deutsche, tunesischen,...</td>\n",
       "    </tr>\n",
       "  </tbody>\n",
       "</table>\n",
       "</div>"
      ],
      "text/plain": [
       "                                                            0  \\\n",
       "person                                       Gerhard Schröder   \n",
       "titel       Rede des Bundeskanzlers zur Eröffnung der 52. ...   \n",
       "datum                                     2002-02-06 00:00:00   \n",
       "untertitel  Man kann diese Filmfestspiele nicht eröffnen, ...   \n",
       "url         http://archiv.bundesregierung.de/bpaexport/red...   \n",
       "anrede      Sehr geehrte Frau Nair, liebe Mitglieder der J...   \n",
       "rohtext     es ist angekündigt worden, man sollte im Beruf...   \n",
       "ort                                                      None   \n",
       "doc_object  (es, ist, angekündigt, worden, ,, man, sollte,...   \n",
       "tokens      [es, ist, angekündigt, worden, man, sollte, im...   \n",
       "ntokens                                                  1911   \n",
       "lemmata     [ankündigen, beruf, schauspieler, politiker, w...   \n",
       "PER         [Hildegard Knef, Hildchen\", Billy Wilder, Audr...   \n",
       "ORG         [Berlin, Brückenschlags, Berliner Kinos, Jurym...   \n",
       "LOC         [Amerika, Deutschland, Berlin, Deutschland, La...   \n",
       "MISC        [Planet Kino, deutschen, deutschen, Irma La Do...   \n",
       "\n",
       "                                                            1  \\\n",
       "person                                    Julian Nida-Rümelin   \n",
       "titel       Redebeitrag von Staatsminister Nida-Rümelin in...   \n",
       "datum                                     2002-02-01 00:00:00   \n",
       "untertitel  \"Ich bin der Auffassung, wir müssen nicht nur ...   \n",
       "url         http://archiv.bundesregierung.de/bpaexport/red...   \n",
       "anrede                  Meine sehr geehrten Damen und Herren!   \n",
       "rohtext     Frau Präsidentin!  An Sie gerichtet, Herr Börn...   \n",
       "ort                                                      None   \n",
       "doc_object  (Frau, Präsidentin, !,  , An, Sie, gerichtet, ...   \n",
       "tokens      [Frau, Präsidentin,  , An, Sie, gerichtet, Her...   \n",
       "ntokens                                                  1319   \n",
       "lemmata     [frau, präsidentin, an, ich, richten, herr, bö...   \n",
       "PER                  [Otto, Filmkonzept, Otto, Höcherl, Otto]   \n",
       "ORG         [SPD-Fraktion, Bundestag, Goethe-Instituten, M...   \n",
       "LOC         [Deutschland, Pol, Bayern, Deutschland, Deutsc...   \n",
       "MISC        [Erinnerung., Filmpolitik, deutsche, Filmfesti...   \n",
       "\n",
       "                                                            2  \n",
       "person                                       Gerhard Schröder  \n",
       "titel       Interview mit Bundeskanzler Schröder in 'Berli...  \n",
       "datum                                     2002-04-14 00:00:00  \n",
       "untertitel  In dem Interview äußert sich Bundeskanzler Sch...  \n",
       "url         http://archiv.bundesregierung.de/bpaexport/red...  \n",
       "anrede                                                    NaN  \n",
       "rohtext     Frage (Peter Hahne): Bevor wir uns über den Au...  \n",
       "ort                                                      None  \n",
       "doc_object  (Frage, (, Peter, Hahne, ):, Bevor, wir, uns, ...  \n",
       "tokens      [Frage, Peter, Hahne, Bevor, wir, uns, über, d...  \n",
       "ntokens                                                  1512  \n",
       "lemmata     [frage, peter, hahn, bevor, aufbau, ost, arbei...  \n",
       "PER         [Peter Hahne):, Saddam Hussein, Blair, Herrn F...  \n",
       "ORG         [EU-Ebene, Bundeswehr, Vereinten Nationen, Ver...  \n",
       "LOC         [Ferieninsel, Djerba, Deutschland, Israel, Deu...  \n",
       "MISC        [tunesischen, Deutsche, deutsche, tunesischen,...  "
      ]
     },
     "execution_count": 32,
     "metadata": {},
     "output_type": "execute_result"
    }
   ],
   "source": [
    "df.head(3).T"
   ]
  },
  {
   "cell_type": "code",
   "execution_count": 147,
   "id": "bfab8a87-70cb-4adf-a40f-d9def6c9e87b",
   "metadata": {},
   "outputs": [],
   "source": [
    "check_dtype = df.loc[0, 'tokens']"
   ]
  },
  {
   "cell_type": "code",
   "execution_count": 148,
   "id": "130b0cb5-48b4-4111-a006-3a82040a4017",
   "metadata": {},
   "outputs": [
    {
     "data": {
      "text/plain": [
       "list"
      ]
     },
     "execution_count": 148,
     "metadata": {},
     "output_type": "execute_result"
    }
   ],
   "source": [
    "type(check_dtype)"
   ]
  },
  {
   "cell_type": "code",
   "execution_count": 149,
   "id": "33728cda-a1db-4a9a-88b0-9dc214086545",
   "metadata": {},
   "outputs": [
    {
     "data": {
      "text/plain": [
       "str"
      ]
     },
     "execution_count": 149,
     "metadata": {},
     "output_type": "execute_result"
    }
   ],
   "source": [
    "type(check_dtype[0])"
   ]
  },
  {
   "cell_type": "markdown",
   "id": "2e6bb2ae-869e-4ed8-95d7-8e353088e19a",
   "metadata": {},
   "source": [
    "## POS"
   ]
  },
  {
   "cell_type": "code",
   "execution_count": 130,
   "id": "0ddd7bad-cbb1-49fa-95f1-9b9e3c808531",
   "metadata": {},
   "outputs": [],
   "source": [
    "def extract_pos(doc, pos_tag='NOUN'):\n",
    "    '''\n",
    "    Extracts Part-of-Speech-Tag from doc-Object\n",
    "    INPUT: Doc-Object\n",
    "    RETURN: list with tokens\n",
    "    '''\n",
    "    return [ token.text.lower() for token in doc if token.pos_ == pos_tag ]"
   ]
  },
  {
   "cell_type": "code",
   "execution_count": 131,
   "id": "ae74babe-b36a-4760-bb5e-f4f76f1d862a",
   "metadata": {},
   "outputs": [
    {
     "name": "stdout",
     "output_type": "stream",
     "text": [
      "Wall time: 4.56 s\n"
     ]
    }
   ],
   "source": [
    "%%time\n",
    "\n",
    "pos_tags = ['NOUN', 'VERB', 'ADJ']\n",
    "\n",
    "for pos_tag in pos_tags:\n",
    "    df.loc[:, pos_tag] = df.loc[:, 'doc_object'].apply(lambda doc: extract_pos(doc, pos_tag=pos_tag))"
   ]
  },
  {
   "cell_type": "code",
   "execution_count": 132,
   "id": "3f1b834f-b42c-4e74-85c4-bd7096c773ac",
   "metadata": {},
   "outputs": [
    {
     "data": {
      "text/html": [
       "<div>\n",
       "<style scoped>\n",
       "    .dataframe tbody tr th:only-of-type {\n",
       "        vertical-align: middle;\n",
       "    }\n",
       "\n",
       "    .dataframe tbody tr th {\n",
       "        vertical-align: top;\n",
       "    }\n",
       "\n",
       "    .dataframe thead th {\n",
       "        text-align: right;\n",
       "    }\n",
       "</style>\n",
       "<table border=\"1\" class=\"dataframe\">\n",
       "  <thead>\n",
       "    <tr style=\"text-align: right;\">\n",
       "      <th></th>\n",
       "      <th>0</th>\n",
       "      <th>1</th>\n",
       "      <th>2</th>\n",
       "    </tr>\n",
       "  </thead>\n",
       "  <tbody>\n",
       "    <tr>\n",
       "      <th>person</th>\n",
       "      <td>Gerhard Schröder</td>\n",
       "      <td>Julian Nida-Rümelin</td>\n",
       "      <td>Gerhard Schröder</td>\n",
       "    </tr>\n",
       "    <tr>\n",
       "      <th>titel</th>\n",
       "      <td>Rede des Bundeskanzlers zur Eröffnung der 52. ...</td>\n",
       "      <td>Redebeitrag von Staatsminister Nida-Rümelin in...</td>\n",
       "      <td>Interview mit Bundeskanzler Schröder in 'Berli...</td>\n",
       "    </tr>\n",
       "    <tr>\n",
       "      <th>datum</th>\n",
       "      <td>2002-02-06 00:00:00</td>\n",
       "      <td>2002-02-01 00:00:00</td>\n",
       "      <td>2002-04-14 00:00:00</td>\n",
       "    </tr>\n",
       "    <tr>\n",
       "      <th>untertitel</th>\n",
       "      <td>Man kann diese Filmfestspiele nicht eröffnen, ...</td>\n",
       "      <td>\"Ich bin der Auffassung, wir müssen nicht nur ...</td>\n",
       "      <td>In dem Interview äußert sich Bundeskanzler Sch...</td>\n",
       "    </tr>\n",
       "    <tr>\n",
       "      <th>url</th>\n",
       "      <td>http://archiv.bundesregierung.de/bpaexport/red...</td>\n",
       "      <td>http://archiv.bundesregierung.de/bpaexport/red...</td>\n",
       "      <td>http://archiv.bundesregierung.de/bpaexport/red...</td>\n",
       "    </tr>\n",
       "    <tr>\n",
       "      <th>anrede</th>\n",
       "      <td>Sehr geehrte Frau Nair, liebe Mitglieder der J...</td>\n",
       "      <td>Meine sehr geehrten Damen und Herren!</td>\n",
       "      <td>NaN</td>\n",
       "    </tr>\n",
       "    <tr>\n",
       "      <th>rohtext</th>\n",
       "      <td>es ist angekündigt worden, man sollte im Beruf...</td>\n",
       "      <td>Frau Präsidentin!  An Sie gerichtet, Herr Börn...</td>\n",
       "      <td>Frage (Peter Hahne): Bevor wir uns über den Au...</td>\n",
       "    </tr>\n",
       "    <tr>\n",
       "      <th>ort</th>\n",
       "      <td>None</td>\n",
       "      <td>None</td>\n",
       "      <td>None</td>\n",
       "    </tr>\n",
       "    <tr>\n",
       "      <th>doc_object</th>\n",
       "      <td>(es, ist, angekündigt, worden, ,, man, sollte,...</td>\n",
       "      <td>(Frau, Präsidentin, !,  , An, Sie, gerichtet, ...</td>\n",
       "      <td>(Frage, (, Peter, Hahne, ):, Bevor, wir, uns, ...</td>\n",
       "    </tr>\n",
       "    <tr>\n",
       "      <th>tokens</th>\n",
       "      <td>[es, ist, angekündigt, worden, man, sollte, im...</td>\n",
       "      <td>[Frau, Präsidentin,  , An, Sie, gerichtet, Her...</td>\n",
       "      <td>[Frage, Peter, Hahne, Bevor, wir, uns, über, d...</td>\n",
       "    </tr>\n",
       "    <tr>\n",
       "      <th>ntokens</th>\n",
       "      <td>1911</td>\n",
       "      <td>1319</td>\n",
       "      <td>1512</td>\n",
       "    </tr>\n",
       "    <tr>\n",
       "      <th>lemmata</th>\n",
       "      <td>[ankündigen, beruf, schauspieler, politiker, w...</td>\n",
       "      <td>[frau, präsidentin, an, ich, richten, herr, bö...</td>\n",
       "      <td>[frage, peter, hahn, bevor, aufbau, ost, arbei...</td>\n",
       "    </tr>\n",
       "    <tr>\n",
       "      <th>PER</th>\n",
       "      <td>[Hildegard Knef, Hildchen\", Billy Wilder, Audr...</td>\n",
       "      <td>[Otto, Filmkonzept, Otto, Höcherl, Otto]</td>\n",
       "      <td>[Peter Hahne):, Saddam Hussein, Blair, Herrn F...</td>\n",
       "    </tr>\n",
       "    <tr>\n",
       "      <th>ORG</th>\n",
       "      <td>[Berlin, Brückenschlags, Berliner Kinos, Jurym...</td>\n",
       "      <td>[SPD-Fraktion, Bundestag, Goethe-Instituten, M...</td>\n",
       "      <td>[EU-Ebene, Bundeswehr, Vereinten Nationen, Ver...</td>\n",
       "    </tr>\n",
       "    <tr>\n",
       "      <th>LOC</th>\n",
       "      <td>[Amerika, Deutschland, Berlin, Deutschland, La...</td>\n",
       "      <td>[Deutschland, Pol, Bayern, Deutschland, Deutsc...</td>\n",
       "      <td>[Ferieninsel, Djerba, Deutschland, Israel, Deu...</td>\n",
       "    </tr>\n",
       "    <tr>\n",
       "      <th>MISC</th>\n",
       "      <td>[Planet Kino, deutschen, deutschen, Irma La Do...</td>\n",
       "      <td>[Erinnerung., Filmpolitik, deutsche, Filmfesti...</td>\n",
       "      <td>[tunesischen, Deutsche, deutsche, tunesischen,...</td>\n",
       "    </tr>\n",
       "    <tr>\n",
       "      <th>NOUN</th>\n",
       "      <td>[beruf, schauspieler, politiker, modell, bürge...</td>\n",
       "      <td>[frau, herr, kurzfassung, theorie, katharsis, ...</td>\n",
       "      <td>[frage, aufbau, ost, arbeitslosigkeit, konjunk...</td>\n",
       "    </tr>\n",
       "    <tr>\n",
       "      <th>VERB</th>\n",
       "      <td>[angekündigt, wechseln, weiß, reden, fand, nen...</td>\n",
       "      <td>[gerichtet, haben, geliefert, haben, denke, ha...</td>\n",
       "      <td>[unterhalten, bewegt, glaube, ausgehen, haben,...</td>\n",
       "    </tr>\n",
       "    <tr>\n",
       "      <th>ADJ</th>\n",
       "      <td>[regierende, wunderbaren, gute, letzte, deutsc...</td>\n",
       "      <td>[aristotelischen, kathartische, anspruchsvolle...</td>\n",
       "      <td>[schwere, tunesischen, deutsche, unendliches, ...</td>\n",
       "    </tr>\n",
       "  </tbody>\n",
       "</table>\n",
       "</div>"
      ],
      "text/plain": [
       "                                                            0  \\\n",
       "person                                       Gerhard Schröder   \n",
       "titel       Rede des Bundeskanzlers zur Eröffnung der 52. ...   \n",
       "datum                                     2002-02-06 00:00:00   \n",
       "untertitel  Man kann diese Filmfestspiele nicht eröffnen, ...   \n",
       "url         http://archiv.bundesregierung.de/bpaexport/red...   \n",
       "anrede      Sehr geehrte Frau Nair, liebe Mitglieder der J...   \n",
       "rohtext     es ist angekündigt worden, man sollte im Beruf...   \n",
       "ort                                                      None   \n",
       "doc_object  (es, ist, angekündigt, worden, ,, man, sollte,...   \n",
       "tokens      [es, ist, angekündigt, worden, man, sollte, im...   \n",
       "ntokens                                                  1911   \n",
       "lemmata     [ankündigen, beruf, schauspieler, politiker, w...   \n",
       "PER         [Hildegard Knef, Hildchen\", Billy Wilder, Audr...   \n",
       "ORG         [Berlin, Brückenschlags, Berliner Kinos, Jurym...   \n",
       "LOC         [Amerika, Deutschland, Berlin, Deutschland, La...   \n",
       "MISC        [Planet Kino, deutschen, deutschen, Irma La Do...   \n",
       "NOUN        [beruf, schauspieler, politiker, modell, bürge...   \n",
       "VERB        [angekündigt, wechseln, weiß, reden, fand, nen...   \n",
       "ADJ         [regierende, wunderbaren, gute, letzte, deutsc...   \n",
       "\n",
       "                                                            1  \\\n",
       "person                                    Julian Nida-Rümelin   \n",
       "titel       Redebeitrag von Staatsminister Nida-Rümelin in...   \n",
       "datum                                     2002-02-01 00:00:00   \n",
       "untertitel  \"Ich bin der Auffassung, wir müssen nicht nur ...   \n",
       "url         http://archiv.bundesregierung.de/bpaexport/red...   \n",
       "anrede                  Meine sehr geehrten Damen und Herren!   \n",
       "rohtext     Frau Präsidentin!  An Sie gerichtet, Herr Börn...   \n",
       "ort                                                      None   \n",
       "doc_object  (Frau, Präsidentin, !,  , An, Sie, gerichtet, ...   \n",
       "tokens      [Frau, Präsidentin,  , An, Sie, gerichtet, Her...   \n",
       "ntokens                                                  1319   \n",
       "lemmata     [frau, präsidentin, an, ich, richten, herr, bö...   \n",
       "PER                  [Otto, Filmkonzept, Otto, Höcherl, Otto]   \n",
       "ORG         [SPD-Fraktion, Bundestag, Goethe-Instituten, M...   \n",
       "LOC         [Deutschland, Pol, Bayern, Deutschland, Deutsc...   \n",
       "MISC        [Erinnerung., Filmpolitik, deutsche, Filmfesti...   \n",
       "NOUN        [frau, herr, kurzfassung, theorie, katharsis, ...   \n",
       "VERB        [gerichtet, haben, geliefert, haben, denke, ha...   \n",
       "ADJ         [aristotelischen, kathartische, anspruchsvolle...   \n",
       "\n",
       "                                                            2  \n",
       "person                                       Gerhard Schröder  \n",
       "titel       Interview mit Bundeskanzler Schröder in 'Berli...  \n",
       "datum                                     2002-04-14 00:00:00  \n",
       "untertitel  In dem Interview äußert sich Bundeskanzler Sch...  \n",
       "url         http://archiv.bundesregierung.de/bpaexport/red...  \n",
       "anrede                                                    NaN  \n",
       "rohtext     Frage (Peter Hahne): Bevor wir uns über den Au...  \n",
       "ort                                                      None  \n",
       "doc_object  (Frage, (, Peter, Hahne, ):, Bevor, wir, uns, ...  \n",
       "tokens      [Frage, Peter, Hahne, Bevor, wir, uns, über, d...  \n",
       "ntokens                                                  1512  \n",
       "lemmata     [frage, peter, hahn, bevor, aufbau, ost, arbei...  \n",
       "PER         [Peter Hahne):, Saddam Hussein, Blair, Herrn F...  \n",
       "ORG         [EU-Ebene, Bundeswehr, Vereinten Nationen, Ver...  \n",
       "LOC         [Ferieninsel, Djerba, Deutschland, Israel, Deu...  \n",
       "MISC        [tunesischen, Deutsche, deutsche, tunesischen,...  \n",
       "NOUN        [frage, aufbau, ost, arbeitslosigkeit, konjunk...  \n",
       "VERB        [unterhalten, bewegt, glaube, ausgehen, haben,...  \n",
       "ADJ         [schwere, tunesischen, deutsche, unendliches, ...  "
      ]
     },
     "execution_count": 132,
     "metadata": {},
     "output_type": "execute_result"
    }
   ],
   "source": [
    "df.head(3).T"
   ]
  },
  {
   "cell_type": "markdown",
   "id": "663b89ca-f4c5-43d8-a315-70eb1a7c88b8",
   "metadata": {},
   "source": [
    "## Speichern der Resultate"
   ]
  },
  {
   "cell_type": "markdown",
   "id": "4cc06a42-dbbe-42e9-ae38-912395a37178",
   "metadata": {},
   "source": [
    "### als csv"
   ]
  },
  {
   "cell_type": "code",
   "execution_count": 150,
   "id": "9ab429ae-9a59-4c84-b785-910d1f77e213",
   "metadata": {},
   "outputs": [],
   "source": [
    "df.to_csv('../data/reden-bundesregierung-preprocessed-with-doc-object.csv', index=False)"
   ]
  },
  {
   "cell_type": "code",
   "execution_count": 151,
   "id": "af298d4b-8b6b-4c59-956d-d496b807e7bd",
   "metadata": {},
   "outputs": [],
   "source": [
    "df_ohne_doc = df.drop(['doc_object'], axis=1)"
   ]
  },
  {
   "cell_type": "code",
   "execution_count": 152,
   "id": "7c2e6fb3-3e0f-46a3-bed7-4926673a378d",
   "metadata": {},
   "outputs": [],
   "source": [
    "df_ohne_doc.to_csv('../data/reden-bundesregierung-preprocessed.csv', index=False)"
   ]
  },
  {
   "cell_type": "markdown",
   "id": "f08699e1-c60f-4bac-8d5e-3217e20faf65",
   "metadata": {},
   "source": [
    "### als pickle"
   ]
  },
  {
   "cell_type": "code",
   "execution_count": 153,
   "id": "6e0ee3e0-ccd9-4cb8-b568-362ce5b6bdb3",
   "metadata": {},
   "outputs": [],
   "source": [
    "df_ohne_doc.to_pickle('../data/reden-bundesregierung-preprocessed.p')"
   ]
  },
  {
   "cell_type": "code",
   "execution_count": null,
   "id": "3a7732e9-fd04-4261-b1ab-f12d1eb29b8b",
   "metadata": {},
   "outputs": [],
   "source": []
  },
  {
   "cell_type": "code",
   "execution_count": null,
   "id": "9383cf9c-21e1-46b9-bb7c-4636f07b7027",
   "metadata": {},
   "outputs": [],
   "source": []
  },
  {
   "cell_type": "code",
   "execution_count": null,
   "id": "3ea33f68-2f72-43de-9e52-5d458ce8c7a7",
   "metadata": {},
   "outputs": [],
   "source": []
  },
  {
   "cell_type": "markdown",
   "id": "a391e2c7-fea0-483a-905d-e08502251fbd",
   "metadata": {},
   "source": [
    "## checks"
   ]
  },
  {
   "cell_type": "markdown",
   "id": "4dcaca8e-f5b5-457f-8adb-2c97d1e6d539",
   "metadata": {},
   "source": [
    "### from csv"
   ]
  },
  {
   "cell_type": "code",
   "execution_count": 154,
   "id": "24025284-5b56-41b6-86bc-f659107628a4",
   "metadata": {},
   "outputs": [],
   "source": [
    "df_1 = pd.read_csv('../data/reden-bundesregierung-preprocessed-with-doc-object.csv')"
   ]
  },
  {
   "cell_type": "code",
   "execution_count": 155,
   "id": "c87ea803-3d65-49e3-9f8a-d6a5fc4aac66",
   "metadata": {},
   "outputs": [
    {
     "data": {
      "text/html": [
       "<div>\n",
       "<style scoped>\n",
       "    .dataframe tbody tr th:only-of-type {\n",
       "        vertical-align: middle;\n",
       "    }\n",
       "\n",
       "    .dataframe tbody tr th {\n",
       "        vertical-align: top;\n",
       "    }\n",
       "\n",
       "    .dataframe thead th {\n",
       "        text-align: right;\n",
       "    }\n",
       "</style>\n",
       "<table border=\"1\" class=\"dataframe\">\n",
       "  <thead>\n",
       "    <tr style=\"text-align: right;\">\n",
       "      <th></th>\n",
       "      <th>0</th>\n",
       "      <th>1</th>\n",
       "      <th>2</th>\n",
       "    </tr>\n",
       "  </thead>\n",
       "  <tbody>\n",
       "    <tr>\n",
       "      <th>person</th>\n",
       "      <td>Gerhard Schröder</td>\n",
       "      <td>Julian Nida-Rümelin</td>\n",
       "      <td>Gerhard Schröder</td>\n",
       "    </tr>\n",
       "    <tr>\n",
       "      <th>titel</th>\n",
       "      <td>Rede des Bundeskanzlers zur Eröffnung der 52. ...</td>\n",
       "      <td>Redebeitrag von Staatsminister Nida-Rümelin in...</td>\n",
       "      <td>Interview mit Bundeskanzler Schröder in 'Berli...</td>\n",
       "    </tr>\n",
       "    <tr>\n",
       "      <th>datum</th>\n",
       "      <td>2002-02-06</td>\n",
       "      <td>2002-02-01</td>\n",
       "      <td>2002-04-14</td>\n",
       "    </tr>\n",
       "    <tr>\n",
       "      <th>untertitel</th>\n",
       "      <td>Man kann diese Filmfestspiele nicht eröffnen, ...</td>\n",
       "      <td>\"Ich bin der Auffassung, wir müssen nicht nur ...</td>\n",
       "      <td>In dem Interview äußert sich Bundeskanzler Sch...</td>\n",
       "    </tr>\n",
       "    <tr>\n",
       "      <th>url</th>\n",
       "      <td>http://archiv.bundesregierung.de/bpaexport/red...</td>\n",
       "      <td>http://archiv.bundesregierung.de/bpaexport/red...</td>\n",
       "      <td>http://archiv.bundesregierung.de/bpaexport/red...</td>\n",
       "    </tr>\n",
       "    <tr>\n",
       "      <th>anrede</th>\n",
       "      <td>Sehr geehrte Frau Nair, liebe Mitglieder der J...</td>\n",
       "      <td>Meine sehr geehrten Damen und Herren!</td>\n",
       "      <td>NaN</td>\n",
       "    </tr>\n",
       "    <tr>\n",
       "      <th>rohtext</th>\n",
       "      <td>es ist angekündigt worden, man sollte im Beruf...</td>\n",
       "      <td>Frau Präsidentin!  An Sie gerichtet, Herr Börn...</td>\n",
       "      <td>Frage (Peter Hahne): Bevor wir uns über den Au...</td>\n",
       "    </tr>\n",
       "    <tr>\n",
       "      <th>ort</th>\n",
       "      <td>NaN</td>\n",
       "      <td>NaN</td>\n",
       "      <td>NaN</td>\n",
       "    </tr>\n",
       "    <tr>\n",
       "      <th>doc_object</th>\n",
       "      <td>es ist angekündigt worden, man sollte im Beruf...</td>\n",
       "      <td>Frau Präsidentin!  An Sie gerichtet, Herr Börn...</td>\n",
       "      <td>Frage (Peter Hahne): Bevor wir uns über den Au...</td>\n",
       "    </tr>\n",
       "    <tr>\n",
       "      <th>tokens</th>\n",
       "      <td>['es', 'ist', 'angekündigt', 'worden', 'man', ...</td>\n",
       "      <td>['Frau', 'Präsidentin', ' ', 'An', 'Sie', 'ger...</td>\n",
       "      <td>['Frage', 'Peter', 'Hahne', 'Bevor', 'wir', 'u...</td>\n",
       "    </tr>\n",
       "    <tr>\n",
       "      <th>ntokens</th>\n",
       "      <td>1911</td>\n",
       "      <td>1319</td>\n",
       "      <td>1512</td>\n",
       "    </tr>\n",
       "    <tr>\n",
       "      <th>lemmata</th>\n",
       "      <td>['ankündigen', 'beruf', 'schauspieler', 'polit...</td>\n",
       "      <td>['frau', 'präsidentin', 'an', 'ich', 'richten'...</td>\n",
       "      <td>['frage', 'peter', 'hahn', 'bevor', 'aufbau', ...</td>\n",
       "    </tr>\n",
       "    <tr>\n",
       "      <th>PER</th>\n",
       "      <td>['Hildegard Knef', 'Hildchen\"', 'Billy Wilder'...</td>\n",
       "      <td>['Otto', 'Filmkonzept', 'Otto', 'Höcherl', 'Ot...</td>\n",
       "      <td>['Peter Hahne):', 'Saddam Hussein', 'Blair', '...</td>\n",
       "    </tr>\n",
       "    <tr>\n",
       "      <th>ORG</th>\n",
       "      <td>['Berlin', 'Brückenschlags', 'Berliner Kinos',...</td>\n",
       "      <td>['SPD-Fraktion', 'Bundestag', 'Goethe-Institut...</td>\n",
       "      <td>['EU-Ebene', 'Bundeswehr', 'Vereinten Nationen...</td>\n",
       "    </tr>\n",
       "    <tr>\n",
       "      <th>LOC</th>\n",
       "      <td>['Amerika', 'Deutschland', 'Berlin', 'Deutschl...</td>\n",
       "      <td>['Deutschland', 'Pol', 'Bayern', 'Deutschland'...</td>\n",
       "      <td>['Ferieninsel', 'Djerba', 'Deutschland', 'Isra...</td>\n",
       "    </tr>\n",
       "    <tr>\n",
       "      <th>MISC</th>\n",
       "      <td>['Planet Kino', 'deutschen', 'deutschen', 'Irm...</td>\n",
       "      <td>['Erinnerung.', 'Filmpolitik', 'deutsche', 'Fi...</td>\n",
       "      <td>['tunesischen', 'Deutsche', 'deutsche', 'tunes...</td>\n",
       "    </tr>\n",
       "    <tr>\n",
       "      <th>NOUN</th>\n",
       "      <td>['beruf', 'schauspieler', 'politiker', 'modell...</td>\n",
       "      <td>['frau', 'herr', 'kurzfassung', 'theorie', 'ka...</td>\n",
       "      <td>['frage', 'aufbau', 'ost', 'arbeitslosigkeit',...</td>\n",
       "    </tr>\n",
       "    <tr>\n",
       "      <th>VERB</th>\n",
       "      <td>['angekündigt', 'wechseln', 'weiß', 'reden', '...</td>\n",
       "      <td>['gerichtet', 'haben', 'geliefert', 'haben', '...</td>\n",
       "      <td>['unterhalten', 'bewegt', 'glaube', 'ausgehen'...</td>\n",
       "    </tr>\n",
       "    <tr>\n",
       "      <th>ADJ</th>\n",
       "      <td>['regierende', 'wunderbaren', 'gute', 'letzte'...</td>\n",
       "      <td>['aristotelischen', 'kathartische', 'anspruchs...</td>\n",
       "      <td>['schwere', 'tunesischen', 'deutsche', 'unendl...</td>\n",
       "    </tr>\n",
       "  </tbody>\n",
       "</table>\n",
       "</div>"
      ],
      "text/plain": [
       "                                                            0  \\\n",
       "person                                       Gerhard Schröder   \n",
       "titel       Rede des Bundeskanzlers zur Eröffnung der 52. ...   \n",
       "datum                                              2002-02-06   \n",
       "untertitel  Man kann diese Filmfestspiele nicht eröffnen, ...   \n",
       "url         http://archiv.bundesregierung.de/bpaexport/red...   \n",
       "anrede      Sehr geehrte Frau Nair, liebe Mitglieder der J...   \n",
       "rohtext     es ist angekündigt worden, man sollte im Beruf...   \n",
       "ort                                                       NaN   \n",
       "doc_object  es ist angekündigt worden, man sollte im Beruf...   \n",
       "tokens      ['es', 'ist', 'angekündigt', 'worden', 'man', ...   \n",
       "ntokens                                                  1911   \n",
       "lemmata     ['ankündigen', 'beruf', 'schauspieler', 'polit...   \n",
       "PER         ['Hildegard Knef', 'Hildchen\"', 'Billy Wilder'...   \n",
       "ORG         ['Berlin', 'Brückenschlags', 'Berliner Kinos',...   \n",
       "LOC         ['Amerika', 'Deutschland', 'Berlin', 'Deutschl...   \n",
       "MISC        ['Planet Kino', 'deutschen', 'deutschen', 'Irm...   \n",
       "NOUN        ['beruf', 'schauspieler', 'politiker', 'modell...   \n",
       "VERB        ['angekündigt', 'wechseln', 'weiß', 'reden', '...   \n",
       "ADJ         ['regierende', 'wunderbaren', 'gute', 'letzte'...   \n",
       "\n",
       "                                                            1  \\\n",
       "person                                    Julian Nida-Rümelin   \n",
       "titel       Redebeitrag von Staatsminister Nida-Rümelin in...   \n",
       "datum                                              2002-02-01   \n",
       "untertitel  \"Ich bin der Auffassung, wir müssen nicht nur ...   \n",
       "url         http://archiv.bundesregierung.de/bpaexport/red...   \n",
       "anrede                  Meine sehr geehrten Damen und Herren!   \n",
       "rohtext     Frau Präsidentin!  An Sie gerichtet, Herr Börn...   \n",
       "ort                                                       NaN   \n",
       "doc_object  Frau Präsidentin!  An Sie gerichtet, Herr Börn...   \n",
       "tokens      ['Frau', 'Präsidentin', ' ', 'An', 'Sie', 'ger...   \n",
       "ntokens                                                  1319   \n",
       "lemmata     ['frau', 'präsidentin', 'an', 'ich', 'richten'...   \n",
       "PER         ['Otto', 'Filmkonzept', 'Otto', 'Höcherl', 'Ot...   \n",
       "ORG         ['SPD-Fraktion', 'Bundestag', 'Goethe-Institut...   \n",
       "LOC         ['Deutschland', 'Pol', 'Bayern', 'Deutschland'...   \n",
       "MISC        ['Erinnerung.', 'Filmpolitik', 'deutsche', 'Fi...   \n",
       "NOUN        ['frau', 'herr', 'kurzfassung', 'theorie', 'ka...   \n",
       "VERB        ['gerichtet', 'haben', 'geliefert', 'haben', '...   \n",
       "ADJ         ['aristotelischen', 'kathartische', 'anspruchs...   \n",
       "\n",
       "                                                            2  \n",
       "person                                       Gerhard Schröder  \n",
       "titel       Interview mit Bundeskanzler Schröder in 'Berli...  \n",
       "datum                                              2002-04-14  \n",
       "untertitel  In dem Interview äußert sich Bundeskanzler Sch...  \n",
       "url         http://archiv.bundesregierung.de/bpaexport/red...  \n",
       "anrede                                                    NaN  \n",
       "rohtext     Frage (Peter Hahne): Bevor wir uns über den Au...  \n",
       "ort                                                       NaN  \n",
       "doc_object  Frage (Peter Hahne): Bevor wir uns über den Au...  \n",
       "tokens      ['Frage', 'Peter', 'Hahne', 'Bevor', 'wir', 'u...  \n",
       "ntokens                                                  1512  \n",
       "lemmata     ['frage', 'peter', 'hahn', 'bevor', 'aufbau', ...  \n",
       "PER         ['Peter Hahne):', 'Saddam Hussein', 'Blair', '...  \n",
       "ORG         ['EU-Ebene', 'Bundeswehr', 'Vereinten Nationen...  \n",
       "LOC         ['Ferieninsel', 'Djerba', 'Deutschland', 'Isra...  \n",
       "MISC        ['tunesischen', 'Deutsche', 'deutsche', 'tunes...  \n",
       "NOUN        ['frage', 'aufbau', 'ost', 'arbeitslosigkeit',...  \n",
       "VERB        ['unterhalten', 'bewegt', 'glaube', 'ausgehen'...  \n",
       "ADJ         ['schwere', 'tunesischen', 'deutsche', 'unendl...  "
      ]
     },
     "execution_count": 155,
     "metadata": {},
     "output_type": "execute_result"
    }
   ],
   "source": [
    "df_1.head(3).T"
   ]
  },
  {
   "cell_type": "code",
   "execution_count": 158,
   "id": "c9c63385-e177-4717-bb9d-ee24b04d8168",
   "metadata": {},
   "outputs": [
    {
     "data": {
      "text/plain": [
       "str"
      ]
     },
     "execution_count": 158,
     "metadata": {},
     "output_type": "execute_result"
    }
   ],
   "source": [
    "type(df_1.loc[0, 'doc_object'])"
   ]
  },
  {
   "cell_type": "code",
   "execution_count": 159,
   "id": "95c60b7a-b542-4700-9121-c67a2424afef",
   "metadata": {},
   "outputs": [
    {
     "data": {
      "text/plain": [
       "str"
      ]
     },
     "execution_count": 159,
     "metadata": {},
     "output_type": "execute_result"
    }
   ],
   "source": [
    "type(df_1.loc[0, 'tokens'])"
   ]
  },
  {
   "cell_type": "code",
   "execution_count": 164,
   "id": "0904ec17-b8de-40c4-8b8c-ba4f1ababf9d",
   "metadata": {},
   "outputs": [],
   "source": [
    "df_1b = pd.read_csv('../data/reden-bundesregierung-preprocessed.csv')"
   ]
  },
  {
   "cell_type": "code",
   "execution_count": 165,
   "id": "66214bc4-58b6-42cb-847e-133ff97b8df5",
   "metadata": {},
   "outputs": [
    {
     "data": {
      "text/plain": [
       "str"
      ]
     },
     "execution_count": 165,
     "metadata": {},
     "output_type": "execute_result"
    }
   ],
   "source": [
    "type(df_1.loc[0, 'tokens'])"
   ]
  },
  {
   "cell_type": "code",
   "execution_count": 174,
   "id": "08dd23dd-115b-44d2-8221-d9687525b4e0",
   "metadata": {},
   "outputs": [],
   "source": [
    "ORG_Test = df_1b.loc[0, 'LOC']"
   ]
  },
  {
   "cell_type": "code",
   "execution_count": 175,
   "id": "d0b2a192-fc05-488f-a7b4-c6b717afb3a5",
   "metadata": {
    "tags": []
   },
   "outputs": [
    {
     "data": {
      "text/plain": [
       "'['"
      ]
     },
     "execution_count": 175,
     "metadata": {},
     "output_type": "execute_result"
    }
   ],
   "source": [
    "ORG_Test[0]"
   ]
  },
  {
   "cell_type": "code",
   "execution_count": 176,
   "id": "e0f1f6ab-c80b-41f7-b941-c3210920f3e0",
   "metadata": {
    "tags": []
   },
   "outputs": [
    {
     "data": {
      "text/plain": [
       "str"
      ]
     },
     "execution_count": 176,
     "metadata": {},
     "output_type": "execute_result"
    }
   ],
   "source": [
    "type(ORG_Test)"
   ]
  },
  {
   "cell_type": "code",
   "execution_count": 177,
   "id": "2969a6cb-a2e1-44c4-ba83-78f58fcee312",
   "metadata": {},
   "outputs": [
    {
     "data": {
      "text/plain": [
       "str"
      ]
     },
     "execution_count": 177,
     "metadata": {},
     "output_type": "execute_result"
    }
   ],
   "source": [
    "type(ORG_Test[0])"
   ]
  },
  {
   "cell_type": "markdown",
   "id": "41e188aa-b677-4870-8590-64e9fea28466",
   "metadata": {},
   "source": [
    "### from pickle"
   ]
  },
  {
   "cell_type": "code",
   "execution_count": 160,
   "id": "14f4a15b-ae21-4046-a263-9975323cd5fe",
   "metadata": {},
   "outputs": [],
   "source": [
    "df_2 = pd.read_pickle('../data/reden-bundesregierung-preprocessed.p')"
   ]
  },
  {
   "cell_type": "code",
   "execution_count": 162,
   "id": "6ae635be-3f32-4565-b87d-8359535d67db",
   "metadata": {},
   "outputs": [
    {
     "data": {
      "text/plain": [
       "list"
      ]
     },
     "execution_count": 162,
     "metadata": {},
     "output_type": "execute_result"
    }
   ],
   "source": [
    "type(df_2.loc[0, 'tokens'])"
   ]
  },
  {
   "cell_type": "code",
   "execution_count": 163,
   "id": "c34e2818-3231-418e-a6a4-5c07ed884a2e",
   "metadata": {},
   "outputs": [
    {
     "data": {
      "text/html": [
       "<div>\n",
       "<style scoped>\n",
       "    .dataframe tbody tr th:only-of-type {\n",
       "        vertical-align: middle;\n",
       "    }\n",
       "\n",
       "    .dataframe tbody tr th {\n",
       "        vertical-align: top;\n",
       "    }\n",
       "\n",
       "    .dataframe thead th {\n",
       "        text-align: right;\n",
       "    }\n",
       "</style>\n",
       "<table border=\"1\" class=\"dataframe\">\n",
       "  <thead>\n",
       "    <tr style=\"text-align: right;\">\n",
       "      <th></th>\n",
       "      <th>0</th>\n",
       "      <th>1</th>\n",
       "      <th>2</th>\n",
       "    </tr>\n",
       "  </thead>\n",
       "  <tbody>\n",
       "    <tr>\n",
       "      <th>person</th>\n",
       "      <td>Gerhard Schröder</td>\n",
       "      <td>Julian Nida-Rümelin</td>\n",
       "      <td>Gerhard Schröder</td>\n",
       "    </tr>\n",
       "    <tr>\n",
       "      <th>titel</th>\n",
       "      <td>Rede des Bundeskanzlers zur Eröffnung der 52. ...</td>\n",
       "      <td>Redebeitrag von Staatsminister Nida-Rümelin in...</td>\n",
       "      <td>Interview mit Bundeskanzler Schröder in 'Berli...</td>\n",
       "    </tr>\n",
       "    <tr>\n",
       "      <th>datum</th>\n",
       "      <td>2002-02-06 00:00:00</td>\n",
       "      <td>2002-02-01 00:00:00</td>\n",
       "      <td>2002-04-14 00:00:00</td>\n",
       "    </tr>\n",
       "    <tr>\n",
       "      <th>untertitel</th>\n",
       "      <td>Man kann diese Filmfestspiele nicht eröffnen, ...</td>\n",
       "      <td>\"Ich bin der Auffassung, wir müssen nicht nur ...</td>\n",
       "      <td>In dem Interview äußert sich Bundeskanzler Sch...</td>\n",
       "    </tr>\n",
       "    <tr>\n",
       "      <th>url</th>\n",
       "      <td>http://archiv.bundesregierung.de/bpaexport/red...</td>\n",
       "      <td>http://archiv.bundesregierung.de/bpaexport/red...</td>\n",
       "      <td>http://archiv.bundesregierung.de/bpaexport/red...</td>\n",
       "    </tr>\n",
       "    <tr>\n",
       "      <th>anrede</th>\n",
       "      <td>Sehr geehrte Frau Nair, liebe Mitglieder der J...</td>\n",
       "      <td>Meine sehr geehrten Damen und Herren!</td>\n",
       "      <td>NaN</td>\n",
       "    </tr>\n",
       "    <tr>\n",
       "      <th>rohtext</th>\n",
       "      <td>es ist angekündigt worden, man sollte im Beruf...</td>\n",
       "      <td>Frau Präsidentin!  An Sie gerichtet, Herr Börn...</td>\n",
       "      <td>Frage (Peter Hahne): Bevor wir uns über den Au...</td>\n",
       "    </tr>\n",
       "    <tr>\n",
       "      <th>ort</th>\n",
       "      <td>None</td>\n",
       "      <td>None</td>\n",
       "      <td>None</td>\n",
       "    </tr>\n",
       "    <tr>\n",
       "      <th>tokens</th>\n",
       "      <td>[es, ist, angekündigt, worden, man, sollte, im...</td>\n",
       "      <td>[Frau, Präsidentin,  , An, Sie, gerichtet, Her...</td>\n",
       "      <td>[Frage, Peter, Hahne, Bevor, wir, uns, über, d...</td>\n",
       "    </tr>\n",
       "    <tr>\n",
       "      <th>ntokens</th>\n",
       "      <td>1911</td>\n",
       "      <td>1319</td>\n",
       "      <td>1512</td>\n",
       "    </tr>\n",
       "    <tr>\n",
       "      <th>lemmata</th>\n",
       "      <td>[ankündigen, beruf, schauspieler, politiker, w...</td>\n",
       "      <td>[frau, präsidentin, an, ich, richten, herr, bö...</td>\n",
       "      <td>[frage, peter, hahn, bevor, aufbau, ost, arbei...</td>\n",
       "    </tr>\n",
       "    <tr>\n",
       "      <th>PER</th>\n",
       "      <td>[Hildegard Knef, Hildchen\", Billy Wilder, Audr...</td>\n",
       "      <td>[Otto, Filmkonzept, Otto, Höcherl, Otto]</td>\n",
       "      <td>[Peter Hahne):, Saddam Hussein, Blair, Herrn F...</td>\n",
       "    </tr>\n",
       "    <tr>\n",
       "      <th>ORG</th>\n",
       "      <td>[Berlin, Brückenschlags, Berliner Kinos, Jurym...</td>\n",
       "      <td>[SPD-Fraktion, Bundestag, Goethe-Instituten, M...</td>\n",
       "      <td>[EU-Ebene, Bundeswehr, Vereinten Nationen, Ver...</td>\n",
       "    </tr>\n",
       "    <tr>\n",
       "      <th>LOC</th>\n",
       "      <td>[Amerika, Deutschland, Berlin, Deutschland, La...</td>\n",
       "      <td>[Deutschland, Pol, Bayern, Deutschland, Deutsc...</td>\n",
       "      <td>[Ferieninsel, Djerba, Deutschland, Israel, Deu...</td>\n",
       "    </tr>\n",
       "    <tr>\n",
       "      <th>MISC</th>\n",
       "      <td>[Planet Kino, deutschen, deutschen, Irma La Do...</td>\n",
       "      <td>[Erinnerung., Filmpolitik, deutsche, Filmfesti...</td>\n",
       "      <td>[tunesischen, Deutsche, deutsche, tunesischen,...</td>\n",
       "    </tr>\n",
       "    <tr>\n",
       "      <th>NOUN</th>\n",
       "      <td>[beruf, schauspieler, politiker, modell, bürge...</td>\n",
       "      <td>[frau, herr, kurzfassung, theorie, katharsis, ...</td>\n",
       "      <td>[frage, aufbau, ost, arbeitslosigkeit, konjunk...</td>\n",
       "    </tr>\n",
       "    <tr>\n",
       "      <th>VERB</th>\n",
       "      <td>[angekündigt, wechseln, weiß, reden, fand, nen...</td>\n",
       "      <td>[gerichtet, haben, geliefert, haben, denke, ha...</td>\n",
       "      <td>[unterhalten, bewegt, glaube, ausgehen, haben,...</td>\n",
       "    </tr>\n",
       "    <tr>\n",
       "      <th>ADJ</th>\n",
       "      <td>[regierende, wunderbaren, gute, letzte, deutsc...</td>\n",
       "      <td>[aristotelischen, kathartische, anspruchsvolle...</td>\n",
       "      <td>[schwere, tunesischen, deutsche, unendliches, ...</td>\n",
       "    </tr>\n",
       "  </tbody>\n",
       "</table>\n",
       "</div>"
      ],
      "text/plain": [
       "                                                            0  \\\n",
       "person                                       Gerhard Schröder   \n",
       "titel       Rede des Bundeskanzlers zur Eröffnung der 52. ...   \n",
       "datum                                     2002-02-06 00:00:00   \n",
       "untertitel  Man kann diese Filmfestspiele nicht eröffnen, ...   \n",
       "url         http://archiv.bundesregierung.de/bpaexport/red...   \n",
       "anrede      Sehr geehrte Frau Nair, liebe Mitglieder der J...   \n",
       "rohtext     es ist angekündigt worden, man sollte im Beruf...   \n",
       "ort                                                      None   \n",
       "tokens      [es, ist, angekündigt, worden, man, sollte, im...   \n",
       "ntokens                                                  1911   \n",
       "lemmata     [ankündigen, beruf, schauspieler, politiker, w...   \n",
       "PER         [Hildegard Knef, Hildchen\", Billy Wilder, Audr...   \n",
       "ORG         [Berlin, Brückenschlags, Berliner Kinos, Jurym...   \n",
       "LOC         [Amerika, Deutschland, Berlin, Deutschland, La...   \n",
       "MISC        [Planet Kino, deutschen, deutschen, Irma La Do...   \n",
       "NOUN        [beruf, schauspieler, politiker, modell, bürge...   \n",
       "VERB        [angekündigt, wechseln, weiß, reden, fand, nen...   \n",
       "ADJ         [regierende, wunderbaren, gute, letzte, deutsc...   \n",
       "\n",
       "                                                            1  \\\n",
       "person                                    Julian Nida-Rümelin   \n",
       "titel       Redebeitrag von Staatsminister Nida-Rümelin in...   \n",
       "datum                                     2002-02-01 00:00:00   \n",
       "untertitel  \"Ich bin der Auffassung, wir müssen nicht nur ...   \n",
       "url         http://archiv.bundesregierung.de/bpaexport/red...   \n",
       "anrede                  Meine sehr geehrten Damen und Herren!   \n",
       "rohtext     Frau Präsidentin!  An Sie gerichtet, Herr Börn...   \n",
       "ort                                                      None   \n",
       "tokens      [Frau, Präsidentin,  , An, Sie, gerichtet, Her...   \n",
       "ntokens                                                  1319   \n",
       "lemmata     [frau, präsidentin, an, ich, richten, herr, bö...   \n",
       "PER                  [Otto, Filmkonzept, Otto, Höcherl, Otto]   \n",
       "ORG         [SPD-Fraktion, Bundestag, Goethe-Instituten, M...   \n",
       "LOC         [Deutschland, Pol, Bayern, Deutschland, Deutsc...   \n",
       "MISC        [Erinnerung., Filmpolitik, deutsche, Filmfesti...   \n",
       "NOUN        [frau, herr, kurzfassung, theorie, katharsis, ...   \n",
       "VERB        [gerichtet, haben, geliefert, haben, denke, ha...   \n",
       "ADJ         [aristotelischen, kathartische, anspruchsvolle...   \n",
       "\n",
       "                                                            2  \n",
       "person                                       Gerhard Schröder  \n",
       "titel       Interview mit Bundeskanzler Schröder in 'Berli...  \n",
       "datum                                     2002-04-14 00:00:00  \n",
       "untertitel  In dem Interview äußert sich Bundeskanzler Sch...  \n",
       "url         http://archiv.bundesregierung.de/bpaexport/red...  \n",
       "anrede                                                    NaN  \n",
       "rohtext     Frage (Peter Hahne): Bevor wir uns über den Au...  \n",
       "ort                                                      None  \n",
       "tokens      [Frage, Peter, Hahne, Bevor, wir, uns, über, d...  \n",
       "ntokens                                                  1512  \n",
       "lemmata     [frage, peter, hahn, bevor, aufbau, ost, arbei...  \n",
       "PER         [Peter Hahne):, Saddam Hussein, Blair, Herrn F...  \n",
       "ORG         [EU-Ebene, Bundeswehr, Vereinten Nationen, Ver...  \n",
       "LOC         [Ferieninsel, Djerba, Deutschland, Israel, Deu...  \n",
       "MISC        [tunesischen, Deutsche, deutsche, tunesischen,...  \n",
       "NOUN        [frage, aufbau, ost, arbeitslosigkeit, konjunk...  \n",
       "VERB        [unterhalten, bewegt, glaube, ausgehen, haben,...  \n",
       "ADJ         [schwere, tunesischen, deutsche, unendliches, ...  "
      ]
     },
     "execution_count": 163,
     "metadata": {},
     "output_type": "execute_result"
    }
   ],
   "source": [
    "df_2.head(3).T"
   ]
  },
  {
   "cell_type": "code",
   "execution_count": 170,
   "id": "044f8a17-e9ca-4599-9c6b-eaeb13cf2839",
   "metadata": {},
   "outputs": [],
   "source": [
    "ORG_Test = df_2.loc[0, 'LOC']"
   ]
  },
  {
   "cell_type": "code",
   "execution_count": 171,
   "id": "a52d299b-f76c-410e-979e-75b79b3aea10",
   "metadata": {
    "tags": []
   },
   "outputs": [
    {
     "data": {
      "text/plain": [
       "'Amerika'"
      ]
     },
     "execution_count": 171,
     "metadata": {},
     "output_type": "execute_result"
    }
   ],
   "source": [
    "ORG_Test[0]"
   ]
  },
  {
   "cell_type": "code",
   "execution_count": 172,
   "id": "a974cffb-689b-476a-8c90-b0c08b6a43c1",
   "metadata": {
    "tags": []
   },
   "outputs": [
    {
     "data": {
      "text/plain": [
       "list"
      ]
     },
     "execution_count": 172,
     "metadata": {},
     "output_type": "execute_result"
    }
   ],
   "source": [
    "type(ORG_Test)"
   ]
  },
  {
   "cell_type": "code",
   "execution_count": 173,
   "id": "bcc42a1a-72eb-423e-a95d-888bda6f508a",
   "metadata": {},
   "outputs": [
    {
     "data": {
      "text/plain": [
       "str"
      ]
     },
     "execution_count": 173,
     "metadata": {},
     "output_type": "execute_result"
    }
   ],
   "source": [
    "type(ORG_Test[0])"
   ]
  }
 ],
 "metadata": {
  "kernelspec": {
   "display_name": "Python 3 (ipykernel)",
   "language": "python",
   "name": "python3"
  },
  "language_info": {
   "codemirror_mode": {
    "name": "ipython",
    "version": 3
   },
   "file_extension": ".py",
   "mimetype": "text/x-python",
   "name": "python",
   "nbconvert_exporter": "python",
   "pygments_lexer": "ipython3",
   "version": "3.8.12"
  }
 },
 "nbformat": 4,
 "nbformat_minor": 5
}
