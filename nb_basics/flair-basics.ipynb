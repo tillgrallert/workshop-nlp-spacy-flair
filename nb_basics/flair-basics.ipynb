{
 "cells": [
  {
   "cell_type": "markdown",
   "id": "7314e0ba-e379-4a19-9349-c073aeb7349d",
   "metadata": {},
   "source": [
    "# Flair Basics\n",
    "\n",
    "## Tutorials und Dokumentation\n",
    "\n",
    "https://github.com/flairNLP/flair\n",
    "\n",
    "## Seite an der HU mit Referenzen und Paper\n",
    "\n",
    "https://www.informatik.hu-berlin.de/de/forschung/gebiete/ml/Flair/flair\n",
    "\n",
    "## Installation\n",
    "\n",
    "Funktioniert nur mit pip und damit muss auf dem Mac pip3 benutzt werden\n"
   ]
  },
  {
   "cell_type": "code",
   "execution_count": 5,
   "id": "eef0fae4-9bea-4b38-a328-c3d2a4b88ed5",
   "metadata": {},
   "outputs": [
    {
     "name": "stdout",
     "output_type": "stream",
     "text": [
      "Collecting flair==0.10\n",
      "  Downloading flair-0.10-py3-none-any.whl (322 kB)\n",
      "\u001b[K     |████████████████████████████████| 322 kB 199 kB/s eta 0:00:01\n",
      "\u001b[?25hCollecting langdetect\n",
      "  Downloading langdetect-1.0.9.tar.gz (981 kB)\n",
      "\u001b[K     |████████████████████████████████| 981 kB 13.7 MB/s eta 0:00:01\n",
      "\u001b[?25hCollecting wikipedia-api\n",
      "  Downloading Wikipedia-API-0.5.4.tar.gz (18 kB)\n",
      "Collecting matplotlib>=2.2.3\n",
      "  Downloading matplotlib-3.5.1-cp38-cp38-macosx_10_9_x86_64.whl (7.3 MB)\n",
      "\u001b[K     |████████████████████████████████| 7.3 MB 1.7 MB/s eta 0:00:01\n",
      "\u001b[?25hCollecting konoha<5.0.0,>=4.0.0\n",
      "  Downloading konoha-4.6.5-py3-none-any.whl (20 kB)\n",
      "Collecting gensim>=3.4.0\n",
      "  Downloading gensim-4.1.2-cp38-cp38-macosx_10_9_x86_64.whl (24.0 MB)\n",
      "\u001b[K     |████████████████████████████████| 24.0 MB 1.4 MB/s eta 0:00:01\n",
      "\u001b[?25hCollecting segtok>=1.5.7\n",
      "  Downloading segtok-1.5.11-py3-none-any.whl (24 kB)\n",
      "Collecting scikit-learn>=0.21.3\n",
      "  Downloading scikit_learn-1.0.2-cp38-cp38-macosx_10_13_x86_64.whl (7.9 MB)\n",
      "\u001b[K     |████████████████████████████████| 7.9 MB 1.4 MB/s eta 0:00:011\n",
      "\u001b[?25hCollecting mpld3==0.3\n",
      "  Downloading mpld3-0.3.tar.gz (788 kB)\n",
      "\u001b[K     |████████████████████████████████| 788 kB 17.0 MB/s eta 0:00:01\n",
      "\u001b[?25hCollecting torch!=1.8,>=1.5.0\n",
      "  Downloading torch-1.10.2-cp38-none-macosx_10_9_x86_64.whl (147.2 MB)\n",
      "\u001b[K     |████████████████████████████████| 147.2 MB 362 kB/s eta 0:00:01\n",
      "\u001b[?25hCollecting sqlitedict>=1.6.0\n",
      "  Downloading sqlitedict-1.7.0.tar.gz (28 kB)\n",
      "Collecting tabulate\n",
      "  Downloading tabulate-0.8.9-py3-none-any.whl (25 kB)\n",
      "Collecting transformers>=4.0.0\n",
      "  Downloading transformers-4.16.2-py3-none-any.whl (3.5 MB)\n",
      "\u001b[K     |████████████████████████████████| 3.5 MB 1.3 MB/s eta 0:00:01\n",
      "\u001b[?25hCollecting more-itertools~=8.8.0\n",
      "  Downloading more_itertools-8.8.0-py3-none-any.whl (48 kB)\n",
      "\u001b[K     |████████████████████████████████| 48 kB 10.2 MB/s eta 0:00:01\n",
      "\u001b[?25hRequirement already satisfied: tqdm>=4.26.0 in /Users/BachPrivat/opt/anaconda3/envs/spacy/lib/python3.8/site-packages (from flair==0.10) (4.62.3)\n",
      "Collecting huggingface-hub\n",
      "  Downloading huggingface_hub-0.4.0-py3-none-any.whl (67 kB)\n",
      "\u001b[K     |████████████████████████████████| 67 kB 8.5 MB/s  eta 0:00:01\n",
      "\u001b[?25hCollecting conllu>=4.0\n",
      "  Downloading conllu-4.4.1-py2.py3-none-any.whl (15 kB)\n",
      "Collecting gdown==3.12.2\n",
      "  Downloading gdown-3.12.2.tar.gz (8.2 kB)\n",
      "  Installing build dependencies ... \u001b[?25ldone\n",
      "\u001b[?25h  Getting requirements to build wheel ... \u001b[?25ldone\n",
      "\u001b[?25h    Preparing wheel metadata ... \u001b[?25ldone\n",
      "\u001b[?25hCollecting regex\n",
      "  Downloading regex-2022.3.2-cp38-cp38-macosx_10_9_x86_64.whl (289 kB)\n",
      "\u001b[K     |████████████████████████████████| 289 kB 11.7 MB/s eta 0:00:01\n",
      "\u001b[?25hCollecting ftfy\n",
      "  Downloading ftfy-6.1.1-py3-none-any.whl (53 kB)\n",
      "\u001b[K     |████████████████████████████████| 53 kB 494 kB/s eta 0:00:011\n",
      "\u001b[?25hCollecting deprecated>=1.2.4\n",
      "  Downloading Deprecated-1.2.13-py2.py3-none-any.whl (9.6 kB)\n",
      "Collecting bpemb>=0.3.2\n",
      "  Downloading bpemb-0.3.3-py3-none-any.whl (19 kB)\n",
      "Requirement already satisfied: python-dateutil>=2.6.1 in /Users/BachPrivat/opt/anaconda3/envs/spacy/lib/python3.8/site-packages (from flair==0.10) (2.8.2)\n",
      "Collecting sentencepiece==0.1.95\n",
      "  Downloading sentencepiece-0.1.95-cp38-cp38-macosx_10_6_x86_64.whl (1.1 MB)\n",
      "\u001b[K     |████████████████████████████████| 1.1 MB 12.7 MB/s eta 0:00:01\n",
      "\u001b[?25hCollecting janome\n",
      "  Downloading Janome-0.4.2-py2.py3-none-any.whl (19.7 MB)\n",
      "\u001b[K     |████████████████████████████████| 19.7 MB 1.1 MB/s eta 0:00:01\n",
      "\u001b[?25hCollecting lxml\n",
      "  Downloading lxml-4.8.0-cp38-cp38-macosx_10_14_x86_64.whl (4.5 MB)\n",
      "\u001b[K     |████████████████████████████████| 4.5 MB 1.2 MB/s eta 0:00:01\n",
      "\u001b[?25hRequirement already satisfied: requests[socks] in /Users/BachPrivat/opt/anaconda3/envs/spacy/lib/python3.8/site-packages (from gdown==3.12.2->flair==0.10) (2.27.1)\n",
      "Collecting filelock\n",
      "  Downloading filelock-3.6.0-py3-none-any.whl (10.0 kB)\n",
      "Requirement already satisfied: six in /Users/BachPrivat/opt/anaconda3/envs/spacy/lib/python3.8/site-packages (from gdown==3.12.2->flair==0.10) (1.16.0)\n",
      "Requirement already satisfied: numpy in /Users/BachPrivat/opt/anaconda3/envs/spacy/lib/python3.8/site-packages (from bpemb>=0.3.2->flair==0.10) (1.21.2)\n",
      "Collecting wrapt<2,>=1.10\n",
      "  Downloading wrapt-1.13.3-cp38-cp38-macosx_10_9_x86_64.whl (33 kB)\n",
      "Requirement already satisfied: smart-open>=1.8.1 in /Users/BachPrivat/opt/anaconda3/envs/spacy/lib/python3.8/site-packages (from gensim>=3.4.0->flair==0.10) (5.1.0)\n",
      "Collecting scipy>=0.18.1\n",
      "  Downloading scipy-1.8.0-cp38-cp38-macosx_12_0_universal2.macosx_10_9_x86_64.whl (55.3 MB)\n",
      "\u001b[K     |████████████████████████████████| 55.3 MB 2.0 MB/s eta 0:00:01     |████████████████████▏           | 34.9 MB 1.6 MB/s eta 0:00:13\n",
      "\u001b[?25hCollecting overrides<4.0.0,>=3.0.0\n",
      "  Downloading overrides-3.1.0.tar.gz (11 kB)\n",
      "Collecting importlib-metadata<4.0.0,>=3.7.0\n",
      "  Downloading importlib_metadata-3.10.1-py3-none-any.whl (14 kB)\n",
      "Requirement already satisfied: zipp>=0.5 in /Users/BachPrivat/opt/anaconda3/envs/spacy/lib/python3.8/site-packages (from importlib-metadata<4.0.0,>=3.7.0->konoha<5.0.0,>=4.0.0->flair==0.10) (3.7.0)\n",
      "Collecting pillow>=6.2.0\n",
      "  Downloading Pillow-9.0.1-cp38-cp38-macosx_10_10_x86_64.whl (3.0 MB)\n",
      "\u001b[K     |████████████████████████████████| 3.0 MB 349 kB/s eta 0:00:011\n",
      "\u001b[?25hCollecting cycler>=0.10\n",
      "  Downloading cycler-0.11.0-py3-none-any.whl (6.4 kB)\n",
      "Requirement already satisfied: packaging>=20.0 in /Users/BachPrivat/opt/anaconda3/envs/spacy/lib/python3.8/site-packages (from matplotlib>=2.2.3->flair==0.10) (21.3)\n",
      "Collecting fonttools>=4.22.0\n",
      "  Downloading fonttools-4.29.1-py3-none-any.whl (895 kB)\n",
      "\u001b[K     |████████████████████████████████| 895 kB 16.1 MB/s eta 0:00:01\n",
      "\u001b[?25hCollecting kiwisolver>=1.0.1\n",
      "  Downloading kiwisolver-1.3.2-cp38-cp38-macosx_10_9_x86_64.whl (61 kB)\n",
      "\u001b[K     |████████████████████████████████| 61 kB 631 kB/s  eta 0:00:01\n",
      "\u001b[?25hRequirement already satisfied: pyparsing>=2.2.1 in /Users/BachPrivat/opt/anaconda3/envs/spacy/lib/python3.8/site-packages (from matplotlib>=2.2.3->flair==0.10) (3.0.4)\n",
      "Requirement already satisfied: urllib3<1.27,>=1.21.1 in /Users/BachPrivat/opt/anaconda3/envs/spacy/lib/python3.8/site-packages (from requests[socks]->gdown==3.12.2->flair==0.10) (1.26.8)\n",
      "Requirement already satisfied: certifi>=2017.4.17 in /Users/BachPrivat/opt/anaconda3/envs/spacy/lib/python3.8/site-packages (from requests[socks]->gdown==3.12.2->flair==0.10) (2021.10.8)\n",
      "Requirement already satisfied: idna<4,>=2.5 in /Users/BachPrivat/opt/anaconda3/envs/spacy/lib/python3.8/site-packages (from requests[socks]->gdown==3.12.2->flair==0.10) (3.3)\n",
      "Requirement already satisfied: charset-normalizer~=2.0.0 in /Users/BachPrivat/opt/anaconda3/envs/spacy/lib/python3.8/site-packages (from requests[socks]->gdown==3.12.2->flair==0.10) (2.0.4)\n",
      "Collecting joblib>=0.11\n",
      "  Downloading joblib-1.1.0-py2.py3-none-any.whl (306 kB)\n",
      "\u001b[K     |████████████████████████████████| 306 kB 15.9 MB/s eta 0:00:01\n",
      "\u001b[?25hCollecting threadpoolctl>=2.0.0\n",
      "  Downloading threadpoolctl-3.1.0-py3-none-any.whl (14 kB)\n",
      "Requirement already satisfied: typing-extensions in /Users/BachPrivat/opt/anaconda3/envs/spacy/lib/python3.8/site-packages (from torch!=1.8,>=1.5.0->flair==0.10) (3.10.0.2)\n",
      "Collecting pyyaml>=5.1\n",
      "  Downloading PyYAML-6.0-cp38-cp38-macosx_10_9_x86_64.whl (192 kB)\n",
      "\u001b[K     |████████████████████████████████| 192 kB 14.3 MB/s eta 0:00:01\n",
      "\u001b[?25hCollecting sacremoses\n",
      "  Downloading sacremoses-0.0.47-py2.py3-none-any.whl (895 kB)\n",
      "\u001b[K     |████████████████████████████████| 895 kB 973 kB/s eta 0:00:01\n",
      "\u001b[?25hCollecting tokenizers!=0.11.3,>=0.10.1\n",
      "  Downloading tokenizers-0.11.6-cp38-cp38-macosx_10_11_x86_64.whl (3.6 MB)\n",
      "\u001b[K     |████████████████████████████████| 3.6 MB 14.6 MB/s eta 0:00:01\n",
      "\u001b[?25hRequirement already satisfied: wcwidth>=0.2.5 in /Users/BachPrivat/opt/anaconda3/envs/spacy/lib/python3.8/site-packages (from ftfy->flair==0.10) (0.2.5)\n",
      "Requirement already satisfied: PySocks!=1.5.7,>=1.5.6 in /Users/BachPrivat/opt/anaconda3/envs/spacy/lib/python3.8/site-packages (from requests[socks]->gdown==3.12.2->flair==0.10) (1.7.1)\n",
      "Requirement already satisfied: click in /Users/BachPrivat/opt/anaconda3/envs/spacy/lib/python3.8/site-packages (from sacremoses->transformers>=4.0.0->flair==0.10) (8.0.4)\n",
      "Building wheels for collected packages: gdown, mpld3, overrides, sqlitedict, langdetect, wikipedia-api\n",
      "  Building wheel for gdown (PEP 517) ... \u001b[?25ldone\n",
      "\u001b[?25h  Created wheel for gdown: filename=gdown-3.12.2-py3-none-any.whl size=9691 sha256=1ff1cc698c9b970975b6de98a3c60ab3d8fd622d34bc784f1633d12879614d60\n",
      "  Stored in directory: /Users/BachPrivat/Library/Caches/pip/wheels/e2/62/1e/926d1ebe7b1e733c78d627fd288d01b83feaf67efc06e0e4c3\n",
      "  Building wheel for mpld3 (setup.py) ... \u001b[?25ldone\n",
      "\u001b[?25h  Created wheel for mpld3: filename=mpld3-0.3-py3-none-any.whl size=116702 sha256=1bfe56e63a9f2f135904e2bfbac598151ce017d567252f673169b2e8d39aa0ba\n",
      "  Stored in directory: /Users/BachPrivat/Library/Caches/pip/wheels/3d/9f/9d/d806a20bd97bc7076d724fa3e69fa5be61836ba16b2ffa6126\n",
      "  Building wheel for overrides (setup.py) ... \u001b[?25ldone\n",
      "\u001b[?25h  Created wheel for overrides: filename=overrides-3.1.0-py3-none-any.whl size=10187 sha256=390c80bb1f783d3612bd856ce02f85c6e8baa35b39b356081144f8f52d117c59\n",
      "  Stored in directory: /Users/BachPrivat/Library/Caches/pip/wheels/6a/4f/72/28857f75625b263e2e3f5ab2fc4416c0a85960ac6485007eaa\n",
      "  Building wheel for sqlitedict (setup.py) ... \u001b[?25ldone\n",
      "\u001b[?25h  Created wheel for sqlitedict: filename=sqlitedict-1.7.0-py3-none-any.whl size=14393 sha256=0bdfb6339ae5dee20d970282a28770e6d2137641c901544488dce04a0f400a70\n",
      "  Stored in directory: /Users/BachPrivat/Library/Caches/pip/wheels/92/82/8c/54ef8d8770fd1a80938197e55d3ccd26eccd117f44c58f601b\n",
      "  Building wheel for langdetect (setup.py) ... \u001b[?25ldone\n",
      "\u001b[?25h  Created wheel for langdetect: filename=langdetect-1.0.9-py3-none-any.whl size=993242 sha256=0bd3bce6ec2bf4d85733b4067775afaf3688c8cfadc6e949a50ccf2029ad142c\n",
      "  Stored in directory: /Users/BachPrivat/Library/Caches/pip/wheels/13/c7/b0/79f66658626032e78fc1a83103690ef6797d551cb22e56e734\n",
      "  Building wheel for wikipedia-api (setup.py) ... \u001b[?25ldone\n",
      "\u001b[?25h  Created wheel for wikipedia-api: filename=Wikipedia_API-0.5.4-py3-none-any.whl size=13477 sha256=0eea7ba3cd4f4e537cdc1cbad767c91cbadbca7e06f70ebc9d296e278e19699e\n",
      "  Stored in directory: /Users/BachPrivat/Library/Caches/pip/wheels/ed/88/e3/da3d4d73cb91d659488cfa25913b84bbc26febec99d257bce9\n",
      "Successfully built gdown mpld3 overrides sqlitedict langdetect wikipedia-api\n",
      "Installing collected packages: scipy, regex, pyyaml, joblib, filelock, wrapt, tokenizers, threadpoolctl, sentencepiece, sacremoses, pillow, overrides, kiwisolver, importlib-metadata, huggingface-hub, gensim, fonttools, cycler, wikipedia-api, transformers, torch, tabulate, sqlitedict, segtok, scikit-learn, mpld3, more-itertools, matplotlib, lxml, langdetect, konoha, janome, gdown, ftfy, deprecated, conllu, bpemb, flair\n",
      "  Attempting uninstall: importlib-metadata\n",
      "    Found existing installation: importlib-metadata 4.8.2\n",
      "    Uninstalling importlib-metadata-4.8.2:\n",
      "      Successfully uninstalled importlib-metadata-4.8.2\n",
      "Successfully installed bpemb-0.3.3 conllu-4.4.1 cycler-0.11.0 deprecated-1.2.13 filelock-3.6.0 flair-0.10 fonttools-4.29.1 ftfy-6.1.1 gdown-3.12.2 gensim-4.1.2 huggingface-hub-0.4.0 importlib-metadata-3.10.1 janome-0.4.2 joblib-1.1.0 kiwisolver-1.3.2 konoha-4.6.5 langdetect-1.0.9 lxml-4.8.0 matplotlib-3.5.1 more-itertools-8.8.0 mpld3-0.3 overrides-3.1.0 pillow-9.0.1 pyyaml-6.0 regex-2022.3.2 sacremoses-0.0.47 scikit-learn-1.0.2 scipy-1.8.0 segtok-1.5.11 sentencepiece-0.1.95 sqlitedict-1.7.0 tabulate-0.8.9 threadpoolctl-3.1.0 tokenizers-0.11.6 torch-1.10.2 transformers-4.16.2 wikipedia-api-0.5.4 wrapt-1.13.3\n"
     ]
    }
   ],
   "source": [
    "#!pip3 install flair==0.10\n"
   ]
  },
  {
   "cell_type": "markdown",
   "id": "4c90318f-cdd5-4cfc-9b40-6badace1f641",
   "metadata": {},
   "source": [
    "## Imports"
   ]
  },
  {
   "cell_type": "code",
   "execution_count": 2,
   "id": "fd87ba19-549d-45c8-bba5-194f634ecfff",
   "metadata": {},
   "outputs": [],
   "source": [
    "from flair.data import Sentence\n",
    "from flair.models import SequenceTagger\n",
    "from flair.models import MultiTagger\n",
    "from flair.tokenization import SegtokSentenceSplitter"
   ]
  },
  {
   "cell_type": "markdown",
   "id": "12643a28-87c5-4338-a761-7b8c306ca351",
   "metadata": {},
   "source": [
    "## Tokenisierung"
   ]
  },
  {
   "cell_type": "code",
   "execution_count": 3,
   "id": "4af2bfd2-6ba7-4908-9f28-a20a71c37955",
   "metadata": {},
   "outputs": [],
   "source": [
    "# create sentence\n",
    "sentence = Sentence('Die Gefahr eines russischen Einmarsches in die Ukraine schätzt US-Präsident Biden als \"sehr hoch\" ein.')"
   ]
  },
  {
   "cell_type": "code",
   "execution_count": 4,
   "id": "7b383db8-97e8-4099-ac8f-435ae3808291",
   "metadata": {},
   "outputs": [
    {
     "data": {
      "text/plain": [
       "flair.data.Sentence"
      ]
     },
     "execution_count": 4,
     "metadata": {},
     "output_type": "execute_result"
    }
   ],
   "source": [
    "type(sentence)"
   ]
  },
  {
   "cell_type": "code",
   "execution_count": 5,
   "id": "bc0affef-6841-410c-88f3-ff58cb1d2008",
   "metadata": {},
   "outputs": [
    {
     "name": "stdout",
     "output_type": "stream",
     "text": [
      "Sentence: \"Die Gefahr eines russischen Einmarsches in die Ukraine schätzt US-Präsident Biden als \" sehr hoch \" ein .\"   [− Tokens: 18]\n"
     ]
    }
   ],
   "source": [
    "print(sentence)"
   ]
  },
  {
   "cell_type": "code",
   "execution_count": 6,
   "id": "001ac189-80e6-4f42-8fdc-bd0acfcbb2df",
   "metadata": {},
   "outputs": [
    {
     "data": {
      "text/plain": [
       "[Token: 1 Die,\n",
       " Token: 2 Gefahr,\n",
       " Token: 3 eines,\n",
       " Token: 4 russischen,\n",
       " Token: 5 Einmarsches,\n",
       " Token: 6 in,\n",
       " Token: 7 die,\n",
       " Token: 8 Ukraine,\n",
       " Token: 9 schätzt,\n",
       " Token: 10 US-Präsident,\n",
       " Token: 11 Biden,\n",
       " Token: 12 als,\n",
       " Token: 13 \",\n",
       " Token: 14 sehr,\n",
       " Token: 15 hoch,\n",
       " Token: 16 \",\n",
       " Token: 17 ein,\n",
       " Token: 18 .]"
      ]
     },
     "execution_count": 6,
     "metadata": {},
     "output_type": "execute_result"
    }
   ],
   "source": [
    "# show all Tokens\n",
    "sentence.tokens"
   ]
  },
  {
   "cell_type": "code",
   "execution_count": 7,
   "id": "494aa1a1-04a2-4878-aa0d-a5f63bb316d2",
   "metadata": {},
   "outputs": [
    {
     "name": "stdout",
     "output_type": "stream",
     "text": [
      "None\n"
     ]
    }
   ],
   "source": [
    "print(sentence.language_code) # doesn't work yet as the tokens have not been annotated yet"
   ]
  },
  {
   "cell_type": "code",
   "execution_count": 8,
   "id": "5fb2b3a5-9eb2-449a-9731-05d8a4ace767",
   "metadata": {},
   "outputs": [
    {
     "name": "stdout",
     "output_type": "stream",
     "text": [
      "Token: 2 Gefahr\n"
     ]
    }
   ],
   "source": [
    "print(sentence.get_token(2))"
   ]
  },
  {
   "cell_type": "code",
   "execution_count": 9,
   "id": "e84432ec-35ec-4364-82cf-84f203709a1e",
   "metadata": {},
   "outputs": [
    {
     "name": "stdout",
     "output_type": "stream",
     "text": [
      "Die 1\n",
      "Gefahr 2\n",
      "eines 3\n",
      "russischen 4\n",
      "Einmarsches 5\n",
      "in 6\n",
      "die 7\n",
      "Ukraine 8\n",
      "schätzt 9\n",
      "US-Präsident 10\n",
      "Biden 11\n",
      "als 12\n",
      "\" 13\n",
      "sehr 14\n",
      "hoch 15\n",
      "\" 16\n",
      "ein 17\n",
      ". 18\n"
     ]
    }
   ],
   "source": [
    "for token in sentence:\n",
    "    print(token.text, token.idx)    "
   ]
  },
  {
   "cell_type": "code",
   "execution_count": 10,
   "id": "76e18988-8dac-46b4-9a58-23cc07160a0c",
   "metadata": {},
   "outputs": [],
   "source": [
    "#print(sentence.labels)"
   ]
  },
  {
   "cell_type": "markdown",
   "id": "af922b07-24ee-4c2a-94fa-8c546a89d63f",
   "metadata": {},
   "source": [
    "## Tokens in einer Liste"
   ]
  },
  {
   "cell_type": "code",
   "execution_count": 11,
   "id": "6b7ee716-7250-4ba4-b80c-456b82a9b866",
   "metadata": {},
   "outputs": [],
   "source": [
    "token_list = [ token.text for token in sentence ]"
   ]
  },
  {
   "cell_type": "code",
   "execution_count": 12,
   "id": "7ce8e26d-53da-4596-96e2-0d70b5873ecd",
   "metadata": {},
   "outputs": [
    {
     "data": {
      "text/plain": [
       "['Die',\n",
       " 'Gefahr',\n",
       " 'eines',\n",
       " 'russischen',\n",
       " 'Einmarsches',\n",
       " 'in',\n",
       " 'die',\n",
       " 'Ukraine',\n",
       " 'schätzt',\n",
       " 'US-Präsident',\n",
       " 'Biden',\n",
       " 'als',\n",
       " '\"',\n",
       " 'sehr',\n",
       " 'hoch',\n",
       " '\"',\n",
       " 'ein',\n",
       " '.']"
      ]
     },
     "execution_count": 12,
     "metadata": {},
     "output_type": "execute_result"
    }
   ],
   "source": [
    "token_list"
   ]
  },
  {
   "cell_type": "markdown",
   "id": "71fb97b8-3925-41ea-a77a-56ff820d9b48",
   "metadata": {},
   "source": [
    "## Sätze mit einem Label versehen\n",
    "\n",
    "Das kann später für Klassifikationsaufgaben genutzt werden. Wenn Label manuell gesetzt werden, wird die certainty/ confidence mit `[1.0]` angegeben."
   ]
  },
  {
   "cell_type": "code",
   "execution_count": 13,
   "id": "0ff5300b-1744-4190-9d38-41c1150935a6",
   "metadata": {},
   "outputs": [
    {
     "data": {
      "text/plain": [
       "Sentence: \"Die Gefahr eines russischen Einmarsches in die Ukraine schätzt US-Präsident Biden als \" sehr hoch \" ein .\"   [− Tokens: 18  − Sentence-Labels: {'topic': [Ukraine-Konflikt (1.0)]}]"
      ]
     },
     "execution_count": 13,
     "metadata": {},
     "output_type": "execute_result"
    }
   ],
   "source": [
    "sentence.add_label('topic', 'Ukraine-Konflikt')"
   ]
  },
  {
   "cell_type": "code",
   "execution_count": 14,
   "id": "47433d14-5ece-483c-a5b4-4c104889b3f1",
   "metadata": {},
   "outputs": [
    {
     "data": {
      "text/plain": [
       "Sentence: \"Die Gefahr eines russischen Einmarsches in die Ukraine schätzt US-Präsident Biden als \" sehr hoch \" ein .\"   [− Tokens: 18  − Sentence-Labels: {'topic': [Ukraine-Konflikt (1.0)], 'category': [Kriegsgefahr (1.0)], 'language': [German (1.0)]}]"
      ]
     },
     "execution_count": 14,
     "metadata": {},
     "output_type": "execute_result"
    }
   ],
   "source": [
    "sentence.add_label('category', 'Kriegsgefahr')\n",
    "sentence.add_label('language', 'German')"
   ]
  },
  {
   "cell_type": "code",
   "execution_count": 15,
   "id": "0ba7e032-5fb8-441a-9884-5a8b7687b50b",
   "metadata": {},
   "outputs": [],
   "source": [
    "# sentence.remove_labels('language')"
   ]
  },
  {
   "cell_type": "code",
   "execution_count": 16,
   "id": "e8e9b268-ea0c-423a-b94e-43d884a536c9",
   "metadata": {},
   "outputs": [
    {
     "name": "stdout",
     "output_type": "stream",
     "text": [
      "Ukraine-Konflikt (1.0)\n",
      "Kriegsgefahr (1.0)\n",
      "German (1.0)\n"
     ]
    }
   ],
   "source": [
    "for label in sentence.labels:\n",
    "    print(label)"
   ]
  },
  {
   "cell_type": "code",
   "execution_count": 17,
   "id": "eed650b9-bf0e-4de4-8121-e9ec9f7627c5",
   "metadata": {},
   "outputs": [
    {
     "name": "stdout",
     "output_type": "stream",
     "text": [
      "Die Gefahr eines russischen Einmarsches in die Ukraine schätzt US-Präsident Biden als \"sehr hoch\" ein.\n",
      " - classified as \"Ukraine-Konflikt\" with score 1.0\n",
      " - classified as \"Kriegsgefahr\" with score 1.0\n",
      " - classified as \"German\" with score 1.0\n"
     ]
    }
   ],
   "source": [
    "print(sentence.to_plain_string())\n",
    "for label in sentence.labels:\n",
    "    print(f' - classified as \"{label.value}\" with score {label.score}')"
   ]
  },
  {
   "cell_type": "code",
   "execution_count": 18,
   "id": "9b4c9e46-55a9-490c-8c74-e29f9fc3cec1",
   "metadata": {},
   "outputs": [
    {
     "name": "stdout",
     "output_type": "stream",
     "text": [
      "Ukraine-Konflikt (1.0)\n"
     ]
    }
   ],
   "source": [
    "for label in sentence.get_labels('topic'):\n",
    "    print(label)"
   ]
  },
  {
   "cell_type": "code",
   "execution_count": 19,
   "id": "b3bd5995-43da-4dcd-a4aa-0d1634621a5f",
   "metadata": {},
   "outputs": [
    {
     "name": "stdout",
     "output_type": "stream",
     "text": [
      "Kriegsgefahr (1.0)\n"
     ]
    }
   ],
   "source": [
    "for label in sentence.get_labels('category'):\n",
    "    print(label)"
   ]
  },
  {
   "cell_type": "markdown",
   "id": "3b0e31d7-913a-4bed-9062-e1caefd85f74",
   "metadata": {},
   "source": [
    "## Laden des NER-Taggers\n",
    "\n",
    "Die Modelle sind gigantisch groß!!! das NER Modell für Deutsch ist 1,5 GB groß. entsprechend lange dauert der Download\n",
    "Flair hat arabische NER Modelle"
   ]
  },
  {
   "cell_type": "code",
   "execution_count": 21,
   "id": "717784fb-821f-4275-8820-fff0dadfe6ab",
   "metadata": {},
   "outputs": [
    {
     "name": "stdout",
     "output_type": "stream",
     "text": [
      "2022-03-02 12:31:12,894 --------------------------------------------------------------------------------\n",
      "2022-03-02 12:31:12,895 The model key 'de-ner' now maps to 'https://huggingface.co/flair/ner-german' on the HuggingFace ModelHub\n",
      "2022-03-02 12:31:12,896  - The most current version of the model is automatically downloaded from there.\n",
      "2022-03-02 12:31:12,896  - (you can alternatively manually download the original model at https://nlp.informatik.hu-berlin.de/resources/models/de-ner/de-ner-conll03-v0.4.pt)\n",
      "2022-03-02 12:31:12,897 --------------------------------------------------------------------------------\n"
     ]
    },
    {
     "data": {
      "application/vnd.jupyter.widget-view+json": {
       "model_id": "8bb0ed73b4234569a30b8bdd74949839",
       "version_major": 2,
       "version_minor": 0
      },
      "text/plain": [
       "Downloading:   0%|          | 0.00/1.51G [00:00<?, ?B/s]"
      ]
     },
     "metadata": {},
     "output_type": "display_data"
    },
    {
     "ename": "ConnectionError",
     "evalue": "HTTPSConnectionPool(host='cdn-lfs.huggingface.co', port=443): Read timed out.",
     "output_type": "error",
     "traceback": [
      "\u001b[0;31m---------------------------------------------------------------------------\u001b[0m",
      "\u001b[0;31mtimeout\u001b[0m                                   Traceback (most recent call last)",
      "\u001b[0;32m~/opt/anaconda3/envs/spacy/lib/python3.8/site-packages/urllib3/response.py\u001b[0m in \u001b[0;36m_error_catcher\u001b[0;34m(self)\u001b[0m\n\u001b[1;32m    437\u001b[0m             \u001b[0;32mtry\u001b[0m\u001b[0;34m:\u001b[0m\u001b[0;34m\u001b[0m\u001b[0;34m\u001b[0m\u001b[0m\n\u001b[0;32m--> 438\u001b[0;31m                 \u001b[0;32myield\u001b[0m\u001b[0;34m\u001b[0m\u001b[0;34m\u001b[0m\u001b[0m\n\u001b[0m\u001b[1;32m    439\u001b[0m \u001b[0;34m\u001b[0m\u001b[0m\n",
      "\u001b[0;32m~/opt/anaconda3/envs/spacy/lib/python3.8/site-packages/urllib3/response.py\u001b[0m in \u001b[0;36mread\u001b[0;34m(self, amt, decode_content, cache_content)\u001b[0m\n\u001b[1;32m    518\u001b[0m                 \u001b[0mcache_content\u001b[0m \u001b[0;34m=\u001b[0m \u001b[0;32mFalse\u001b[0m\u001b[0;34m\u001b[0m\u001b[0;34m\u001b[0m\u001b[0m\n\u001b[0;32m--> 519\u001b[0;31m                 \u001b[0mdata\u001b[0m \u001b[0;34m=\u001b[0m \u001b[0mself\u001b[0m\u001b[0;34m.\u001b[0m\u001b[0m_fp\u001b[0m\u001b[0;34m.\u001b[0m\u001b[0mread\u001b[0m\u001b[0;34m(\u001b[0m\u001b[0mamt\u001b[0m\u001b[0;34m)\u001b[0m \u001b[0;32mif\u001b[0m \u001b[0;32mnot\u001b[0m \u001b[0mfp_closed\u001b[0m \u001b[0;32melse\u001b[0m \u001b[0;34mb\"\"\u001b[0m\u001b[0;34m\u001b[0m\u001b[0;34m\u001b[0m\u001b[0m\n\u001b[0m\u001b[1;32m    520\u001b[0m                 if (\n",
      "\u001b[0;32m~/opt/anaconda3/envs/spacy/lib/python3.8/http/client.py\u001b[0m in \u001b[0;36mread\u001b[0;34m(self, amt)\u001b[0m\n\u001b[1;32m    458\u001b[0m             \u001b[0mb\u001b[0m \u001b[0;34m=\u001b[0m \u001b[0mbytearray\u001b[0m\u001b[0;34m(\u001b[0m\u001b[0mamt\u001b[0m\u001b[0;34m)\u001b[0m\u001b[0;34m\u001b[0m\u001b[0;34m\u001b[0m\u001b[0m\n\u001b[0;32m--> 459\u001b[0;31m             \u001b[0mn\u001b[0m \u001b[0;34m=\u001b[0m \u001b[0mself\u001b[0m\u001b[0;34m.\u001b[0m\u001b[0mreadinto\u001b[0m\u001b[0;34m(\u001b[0m\u001b[0mb\u001b[0m\u001b[0;34m)\u001b[0m\u001b[0;34m\u001b[0m\u001b[0;34m\u001b[0m\u001b[0m\n\u001b[0m\u001b[1;32m    460\u001b[0m             \u001b[0;32mreturn\u001b[0m \u001b[0mmemoryview\u001b[0m\u001b[0;34m(\u001b[0m\u001b[0mb\u001b[0m\u001b[0;34m)\u001b[0m\u001b[0;34m[\u001b[0m\u001b[0;34m:\u001b[0m\u001b[0mn\u001b[0m\u001b[0;34m]\u001b[0m\u001b[0;34m.\u001b[0m\u001b[0mtobytes\u001b[0m\u001b[0;34m(\u001b[0m\u001b[0;34m)\u001b[0m\u001b[0;34m\u001b[0m\u001b[0;34m\u001b[0m\u001b[0m\n",
      "\u001b[0;32m~/opt/anaconda3/envs/spacy/lib/python3.8/http/client.py\u001b[0m in \u001b[0;36mreadinto\u001b[0;34m(self, b)\u001b[0m\n\u001b[1;32m    502\u001b[0m         \u001b[0;31m# (for example, reading in 1k chunks)\u001b[0m\u001b[0;34m\u001b[0m\u001b[0;34m\u001b[0m\u001b[0;34m\u001b[0m\u001b[0m\n\u001b[0;32m--> 503\u001b[0;31m         \u001b[0mn\u001b[0m \u001b[0;34m=\u001b[0m \u001b[0mself\u001b[0m\u001b[0;34m.\u001b[0m\u001b[0mfp\u001b[0m\u001b[0;34m.\u001b[0m\u001b[0mreadinto\u001b[0m\u001b[0;34m(\u001b[0m\u001b[0mb\u001b[0m\u001b[0;34m)\u001b[0m\u001b[0;34m\u001b[0m\u001b[0;34m\u001b[0m\u001b[0m\n\u001b[0m\u001b[1;32m    504\u001b[0m         \u001b[0;32mif\u001b[0m \u001b[0;32mnot\u001b[0m \u001b[0mn\u001b[0m \u001b[0;32mand\u001b[0m \u001b[0mb\u001b[0m\u001b[0;34m:\u001b[0m\u001b[0;34m\u001b[0m\u001b[0;34m\u001b[0m\u001b[0m\n",
      "\u001b[0;32m~/opt/anaconda3/envs/spacy/lib/python3.8/socket.py\u001b[0m in \u001b[0;36mreadinto\u001b[0;34m(self, b)\u001b[0m\n\u001b[1;32m    668\u001b[0m             \u001b[0;32mtry\u001b[0m\u001b[0;34m:\u001b[0m\u001b[0;34m\u001b[0m\u001b[0;34m\u001b[0m\u001b[0m\n\u001b[0;32m--> 669\u001b[0;31m                 \u001b[0;32mreturn\u001b[0m \u001b[0mself\u001b[0m\u001b[0;34m.\u001b[0m\u001b[0m_sock\u001b[0m\u001b[0;34m.\u001b[0m\u001b[0mrecv_into\u001b[0m\u001b[0;34m(\u001b[0m\u001b[0mb\u001b[0m\u001b[0;34m)\u001b[0m\u001b[0;34m\u001b[0m\u001b[0;34m\u001b[0m\u001b[0m\n\u001b[0m\u001b[1;32m    670\u001b[0m             \u001b[0;32mexcept\u001b[0m \u001b[0mtimeout\u001b[0m\u001b[0;34m:\u001b[0m\u001b[0;34m\u001b[0m\u001b[0;34m\u001b[0m\u001b[0m\n",
      "\u001b[0;32m~/opt/anaconda3/envs/spacy/lib/python3.8/ssl.py\u001b[0m in \u001b[0;36mrecv_into\u001b[0;34m(self, buffer, nbytes, flags)\u001b[0m\n\u001b[1;32m   1240\u001b[0m                   self.__class__)\n\u001b[0;32m-> 1241\u001b[0;31m             \u001b[0;32mreturn\u001b[0m \u001b[0mself\u001b[0m\u001b[0;34m.\u001b[0m\u001b[0mread\u001b[0m\u001b[0;34m(\u001b[0m\u001b[0mnbytes\u001b[0m\u001b[0;34m,\u001b[0m \u001b[0mbuffer\u001b[0m\u001b[0;34m)\u001b[0m\u001b[0;34m\u001b[0m\u001b[0;34m\u001b[0m\u001b[0m\n\u001b[0m\u001b[1;32m   1242\u001b[0m         \u001b[0;32melse\u001b[0m\u001b[0;34m:\u001b[0m\u001b[0;34m\u001b[0m\u001b[0;34m\u001b[0m\u001b[0m\n",
      "\u001b[0;32m~/opt/anaconda3/envs/spacy/lib/python3.8/ssl.py\u001b[0m in \u001b[0;36mread\u001b[0;34m(self, len, buffer)\u001b[0m\n\u001b[1;32m   1098\u001b[0m             \u001b[0;32mif\u001b[0m \u001b[0mbuffer\u001b[0m \u001b[0;32mis\u001b[0m \u001b[0;32mnot\u001b[0m \u001b[0;32mNone\u001b[0m\u001b[0;34m:\u001b[0m\u001b[0;34m\u001b[0m\u001b[0;34m\u001b[0m\u001b[0m\n\u001b[0;32m-> 1099\u001b[0;31m                 \u001b[0;32mreturn\u001b[0m \u001b[0mself\u001b[0m\u001b[0;34m.\u001b[0m\u001b[0m_sslobj\u001b[0m\u001b[0;34m.\u001b[0m\u001b[0mread\u001b[0m\u001b[0;34m(\u001b[0m\u001b[0mlen\u001b[0m\u001b[0;34m,\u001b[0m \u001b[0mbuffer\u001b[0m\u001b[0;34m)\u001b[0m\u001b[0;34m\u001b[0m\u001b[0;34m\u001b[0m\u001b[0m\n\u001b[0m\u001b[1;32m   1100\u001b[0m             \u001b[0;32melse\u001b[0m\u001b[0;34m:\u001b[0m\u001b[0;34m\u001b[0m\u001b[0;34m\u001b[0m\u001b[0m\n",
      "\u001b[0;31mtimeout\u001b[0m: The read operation timed out",
      "\nDuring handling of the above exception, another exception occurred:\n",
      "\u001b[0;31mReadTimeoutError\u001b[0m                          Traceback (most recent call last)",
      "\u001b[0;32m~/opt/anaconda3/envs/spacy/lib/python3.8/site-packages/requests/models.py\u001b[0m in \u001b[0;36mgenerate\u001b[0;34m()\u001b[0m\n\u001b[1;32m    759\u001b[0m                 \u001b[0;32mtry\u001b[0m\u001b[0;34m:\u001b[0m\u001b[0;34m\u001b[0m\u001b[0;34m\u001b[0m\u001b[0m\n\u001b[0;32m--> 760\u001b[0;31m                     \u001b[0;32mfor\u001b[0m \u001b[0mchunk\u001b[0m \u001b[0;32min\u001b[0m \u001b[0mself\u001b[0m\u001b[0;34m.\u001b[0m\u001b[0mraw\u001b[0m\u001b[0;34m.\u001b[0m\u001b[0mstream\u001b[0m\u001b[0;34m(\u001b[0m\u001b[0mchunk_size\u001b[0m\u001b[0;34m,\u001b[0m \u001b[0mdecode_content\u001b[0m\u001b[0;34m=\u001b[0m\u001b[0;32mTrue\u001b[0m\u001b[0;34m)\u001b[0m\u001b[0;34m:\u001b[0m\u001b[0;34m\u001b[0m\u001b[0;34m\u001b[0m\u001b[0m\n\u001b[0m\u001b[1;32m    761\u001b[0m                         \u001b[0;32myield\u001b[0m \u001b[0mchunk\u001b[0m\u001b[0;34m\u001b[0m\u001b[0;34m\u001b[0m\u001b[0m\n",
      "\u001b[0;32m~/opt/anaconda3/envs/spacy/lib/python3.8/site-packages/urllib3/response.py\u001b[0m in \u001b[0;36mstream\u001b[0;34m(self, amt, decode_content)\u001b[0m\n\u001b[1;32m    575\u001b[0m             \u001b[0;32mwhile\u001b[0m \u001b[0;32mnot\u001b[0m \u001b[0mis_fp_closed\u001b[0m\u001b[0;34m(\u001b[0m\u001b[0mself\u001b[0m\u001b[0;34m.\u001b[0m\u001b[0m_fp\u001b[0m\u001b[0;34m)\u001b[0m\u001b[0;34m:\u001b[0m\u001b[0;34m\u001b[0m\u001b[0;34m\u001b[0m\u001b[0m\n\u001b[0;32m--> 576\u001b[0;31m                 \u001b[0mdata\u001b[0m \u001b[0;34m=\u001b[0m \u001b[0mself\u001b[0m\u001b[0;34m.\u001b[0m\u001b[0mread\u001b[0m\u001b[0;34m(\u001b[0m\u001b[0mamt\u001b[0m\u001b[0;34m=\u001b[0m\u001b[0mamt\u001b[0m\u001b[0;34m,\u001b[0m \u001b[0mdecode_content\u001b[0m\u001b[0;34m=\u001b[0m\u001b[0mdecode_content\u001b[0m\u001b[0;34m)\u001b[0m\u001b[0;34m\u001b[0m\u001b[0;34m\u001b[0m\u001b[0m\n\u001b[0m\u001b[1;32m    577\u001b[0m \u001b[0;34m\u001b[0m\u001b[0m\n",
      "\u001b[0;32m~/opt/anaconda3/envs/spacy/lib/python3.8/site-packages/urllib3/response.py\u001b[0m in \u001b[0;36mread\u001b[0;34m(self, amt, decode_content, cache_content)\u001b[0m\n\u001b[1;32m    540\u001b[0m                         \u001b[0;31m# Content-Length are caught.\u001b[0m\u001b[0;34m\u001b[0m\u001b[0;34m\u001b[0m\u001b[0;34m\u001b[0m\u001b[0m\n\u001b[0;32m--> 541\u001b[0;31m                         \u001b[0;32mraise\u001b[0m \u001b[0mIncompleteRead\u001b[0m\u001b[0;34m(\u001b[0m\u001b[0mself\u001b[0m\u001b[0;34m.\u001b[0m\u001b[0m_fp_bytes_read\u001b[0m\u001b[0;34m,\u001b[0m \u001b[0mself\u001b[0m\u001b[0;34m.\u001b[0m\u001b[0mlength_remaining\u001b[0m\u001b[0;34m)\u001b[0m\u001b[0;34m\u001b[0m\u001b[0;34m\u001b[0m\u001b[0m\n\u001b[0m\u001b[1;32m    542\u001b[0m \u001b[0;34m\u001b[0m\u001b[0m\n",
      "\u001b[0;32m~/opt/anaconda3/envs/spacy/lib/python3.8/contextlib.py\u001b[0m in \u001b[0;36m__exit__\u001b[0;34m(self, type, value, traceback)\u001b[0m\n\u001b[1;32m    130\u001b[0m             \u001b[0;32mtry\u001b[0m\u001b[0;34m:\u001b[0m\u001b[0;34m\u001b[0m\u001b[0;34m\u001b[0m\u001b[0m\n\u001b[0;32m--> 131\u001b[0;31m                 \u001b[0mself\u001b[0m\u001b[0;34m.\u001b[0m\u001b[0mgen\u001b[0m\u001b[0;34m.\u001b[0m\u001b[0mthrow\u001b[0m\u001b[0;34m(\u001b[0m\u001b[0mtype\u001b[0m\u001b[0;34m,\u001b[0m \u001b[0mvalue\u001b[0m\u001b[0;34m,\u001b[0m \u001b[0mtraceback\u001b[0m\u001b[0;34m)\u001b[0m\u001b[0;34m\u001b[0m\u001b[0;34m\u001b[0m\u001b[0m\n\u001b[0m\u001b[1;32m    132\u001b[0m             \u001b[0;32mexcept\u001b[0m \u001b[0mStopIteration\u001b[0m \u001b[0;32mas\u001b[0m \u001b[0mexc\u001b[0m\u001b[0;34m:\u001b[0m\u001b[0;34m\u001b[0m\u001b[0;34m\u001b[0m\u001b[0m\n",
      "\u001b[0;32m~/opt/anaconda3/envs/spacy/lib/python3.8/site-packages/urllib3/response.py\u001b[0m in \u001b[0;36m_error_catcher\u001b[0;34m(self)\u001b[0m\n\u001b[1;32m    442\u001b[0m                 \u001b[0;31m# there is yet no clean way to get at it from this context.\u001b[0m\u001b[0;34m\u001b[0m\u001b[0;34m\u001b[0m\u001b[0;34m\u001b[0m\u001b[0m\n\u001b[0;32m--> 443\u001b[0;31m                 \u001b[0;32mraise\u001b[0m \u001b[0mReadTimeoutError\u001b[0m\u001b[0;34m(\u001b[0m\u001b[0mself\u001b[0m\u001b[0;34m.\u001b[0m\u001b[0m_pool\u001b[0m\u001b[0;34m,\u001b[0m \u001b[0;32mNone\u001b[0m\u001b[0;34m,\u001b[0m \u001b[0;34m\"Read timed out.\"\u001b[0m\u001b[0;34m)\u001b[0m\u001b[0;34m\u001b[0m\u001b[0;34m\u001b[0m\u001b[0m\n\u001b[0m\u001b[1;32m    444\u001b[0m \u001b[0;34m\u001b[0m\u001b[0m\n",
      "\u001b[0;31mReadTimeoutError\u001b[0m: HTTPSConnectionPool(host='cdn-lfs.huggingface.co', port=443): Read timed out.",
      "\nDuring handling of the above exception, another exception occurred:\n",
      "\u001b[0;31mConnectionError\u001b[0m                           Traceback (most recent call last)",
      "\u001b[0;32m/var/folders/84/2v35331s5t97w8g_wvsp4nv80000gq/T/ipykernel_31063/2978438646.py\u001b[0m in \u001b[0;36m<module>\u001b[0;34m\u001b[0m\n\u001b[1;32m      1\u001b[0m \u001b[0;31m# load the NER tagger\u001b[0m\u001b[0;34m\u001b[0m\u001b[0;34m\u001b[0m\u001b[0;34m\u001b[0m\u001b[0m\n\u001b[0;32m----> 2\u001b[0;31m \u001b[0mtagger\u001b[0m \u001b[0;34m=\u001b[0m \u001b[0mSequenceTagger\u001b[0m\u001b[0;34m.\u001b[0m\u001b[0mload\u001b[0m\u001b[0;34m(\u001b[0m\u001b[0;34m'de-ner'\u001b[0m\u001b[0;34m)\u001b[0m\u001b[0;34m\u001b[0m\u001b[0;34m\u001b[0m\u001b[0m\n\u001b[0m\u001b[1;32m      3\u001b[0m \u001b[0;34m\u001b[0m\u001b[0m\n\u001b[1;32m      4\u001b[0m \u001b[0;31m# run NER over sentence\u001b[0m\u001b[0;34m\u001b[0m\u001b[0;34m\u001b[0m\u001b[0;34m\u001b[0m\u001b[0m\n\u001b[1;32m      5\u001b[0m \u001b[0mtagger\u001b[0m\u001b[0;34m.\u001b[0m\u001b[0mpredict\u001b[0m\u001b[0;34m(\u001b[0m\u001b[0msentence\u001b[0m\u001b[0;34m)\u001b[0m\u001b[0;34m\u001b[0m\u001b[0;34m\u001b[0m\u001b[0m\n",
      "\u001b[0;32m~/opt/anaconda3/envs/spacy/lib/python3.8/site-packages/flair/nn/model.py\u001b[0m in \u001b[0;36mload\u001b[0;34m(cls, model)\u001b[0m\n\u001b[1;32m    124\u001b[0m         \u001b[0;34m:\u001b[0m\u001b[0;32mreturn\u001b[0m\u001b[0;34m:\u001b[0m \u001b[0mthe\u001b[0m \u001b[0mloaded\u001b[0m \u001b[0mtext\u001b[0m \u001b[0mclassifier\u001b[0m \u001b[0mmodel\u001b[0m\u001b[0;34m\u001b[0m\u001b[0;34m\u001b[0m\u001b[0m\n\u001b[1;32m    125\u001b[0m         \"\"\"\n\u001b[0;32m--> 126\u001b[0;31m         \u001b[0mmodel_file\u001b[0m \u001b[0;34m=\u001b[0m \u001b[0mcls\u001b[0m\u001b[0;34m.\u001b[0m\u001b[0m_fetch_model\u001b[0m\u001b[0;34m(\u001b[0m\u001b[0mstr\u001b[0m\u001b[0;34m(\u001b[0m\u001b[0mmodel\u001b[0m\u001b[0;34m)\u001b[0m\u001b[0;34m)\u001b[0m\u001b[0;34m\u001b[0m\u001b[0;34m\u001b[0m\u001b[0m\n\u001b[0m\u001b[1;32m    127\u001b[0m \u001b[0;34m\u001b[0m\u001b[0m\n\u001b[1;32m    128\u001b[0m         \u001b[0;32mwith\u001b[0m \u001b[0mwarnings\u001b[0m\u001b[0;34m.\u001b[0m\u001b[0mcatch_warnings\u001b[0m\u001b[0;34m(\u001b[0m\u001b[0;34m)\u001b[0m\u001b[0;34m:\u001b[0m\u001b[0;34m\u001b[0m\u001b[0;34m\u001b[0m\u001b[0m\n",
      "\u001b[0;32m~/opt/anaconda3/envs/spacy/lib/python3.8/site-packages/flair/models/sequence_tagger_model.py\u001b[0m in \u001b[0;36m_fetch_model\u001b[0;34m(model_name)\u001b[0m\n\u001b[1;32m    979\u001b[0m \u001b[0;34m\u001b[0m\u001b[0m\n\u001b[1;32m    980\u001b[0m             \u001b[0;32mtry\u001b[0m\u001b[0;34m:\u001b[0m\u001b[0;34m\u001b[0m\u001b[0;34m\u001b[0m\u001b[0m\n\u001b[0;32m--> 981\u001b[0;31m                 model_path = cached_download(url=url, library_name=\"flair\",\n\u001b[0m\u001b[1;32m    982\u001b[0m                                              \u001b[0mlibrary_version\u001b[0m\u001b[0;34m=\u001b[0m\u001b[0mflair\u001b[0m\u001b[0;34m.\u001b[0m\u001b[0m__version__\u001b[0m\u001b[0;34m,\u001b[0m\u001b[0;34m\u001b[0m\u001b[0;34m\u001b[0m\u001b[0m\n\u001b[1;32m    983\u001b[0m                                              cache_dir=flair.cache_root / 'models' / model_folder)\n",
      "\u001b[0;32m~/opt/anaconda3/envs/spacy/lib/python3.8/site-packages/huggingface_hub/file_download.py\u001b[0m in \u001b[0;36mcached_download\u001b[0;34m(url, library_name, library_version, cache_dir, user_agent, force_download, force_filename, proxies, etag_timeout, resume_download, use_auth_token, local_files_only)\u001b[0m\n\u001b[1;32m    465\u001b[0m             \u001b[0mlogger\u001b[0m\u001b[0;34m.\u001b[0m\u001b[0minfo\u001b[0m\u001b[0;34m(\u001b[0m\u001b[0;34m\"downloading %s to %s\"\u001b[0m\u001b[0;34m,\u001b[0m \u001b[0murl\u001b[0m\u001b[0;34m,\u001b[0m \u001b[0mtemp_file\u001b[0m\u001b[0;34m.\u001b[0m\u001b[0mname\u001b[0m\u001b[0;34m)\u001b[0m\u001b[0;34m\u001b[0m\u001b[0;34m\u001b[0m\u001b[0m\n\u001b[1;32m    466\u001b[0m \u001b[0;34m\u001b[0m\u001b[0m\n\u001b[0;32m--> 467\u001b[0;31m             http_get(\n\u001b[0m\u001b[1;32m    468\u001b[0m                 \u001b[0murl_to_download\u001b[0m\u001b[0;34m,\u001b[0m\u001b[0;34m\u001b[0m\u001b[0;34m\u001b[0m\u001b[0m\n\u001b[1;32m    469\u001b[0m                 \u001b[0mtemp_file\u001b[0m\u001b[0;34m,\u001b[0m\u001b[0;34m\u001b[0m\u001b[0;34m\u001b[0m\u001b[0m\n",
      "\u001b[0;32m~/opt/anaconda3/envs/spacy/lib/python3.8/site-packages/huggingface_hub/file_download.py\u001b[0m in \u001b[0;36mhttp_get\u001b[0;34m(url, temp_file, proxies, resume_size, headers, timeout, max_retries)\u001b[0m\n\u001b[1;32m    283\u001b[0m         \u001b[0mdisable\u001b[0m\u001b[0;34m=\u001b[0m\u001b[0mbool\u001b[0m\u001b[0;34m(\u001b[0m\u001b[0mlogger\u001b[0m\u001b[0;34m.\u001b[0m\u001b[0mgetEffectiveLevel\u001b[0m\u001b[0;34m(\u001b[0m\u001b[0;34m)\u001b[0m \u001b[0;34m==\u001b[0m \u001b[0mlogging\u001b[0m\u001b[0;34m.\u001b[0m\u001b[0mNOTSET\u001b[0m\u001b[0;34m)\u001b[0m\u001b[0;34m,\u001b[0m\u001b[0;34m\u001b[0m\u001b[0;34m\u001b[0m\u001b[0m\n\u001b[1;32m    284\u001b[0m     )\n\u001b[0;32m--> 285\u001b[0;31m     \u001b[0;32mfor\u001b[0m \u001b[0mchunk\u001b[0m \u001b[0;32min\u001b[0m \u001b[0mr\u001b[0m\u001b[0;34m.\u001b[0m\u001b[0miter_content\u001b[0m\u001b[0;34m(\u001b[0m\u001b[0mchunk_size\u001b[0m\u001b[0;34m=\u001b[0m\u001b[0;36m1024\u001b[0m\u001b[0;34m)\u001b[0m\u001b[0;34m:\u001b[0m\u001b[0;34m\u001b[0m\u001b[0;34m\u001b[0m\u001b[0m\n\u001b[0m\u001b[1;32m    286\u001b[0m         \u001b[0;32mif\u001b[0m \u001b[0mchunk\u001b[0m\u001b[0;34m:\u001b[0m  \u001b[0;31m# filter out keep-alive new chunks\u001b[0m\u001b[0;34m\u001b[0m\u001b[0;34m\u001b[0m\u001b[0m\n\u001b[1;32m    287\u001b[0m             \u001b[0mprogress\u001b[0m\u001b[0;34m.\u001b[0m\u001b[0mupdate\u001b[0m\u001b[0;34m(\u001b[0m\u001b[0mlen\u001b[0m\u001b[0;34m(\u001b[0m\u001b[0mchunk\u001b[0m\u001b[0;34m)\u001b[0m\u001b[0;34m)\u001b[0m\u001b[0;34m\u001b[0m\u001b[0;34m\u001b[0m\u001b[0m\n",
      "\u001b[0;32m~/opt/anaconda3/envs/spacy/lib/python3.8/site-packages/requests/models.py\u001b[0m in \u001b[0;36mgenerate\u001b[0;34m()\u001b[0m\n\u001b[1;32m    765\u001b[0m                     \u001b[0;32mraise\u001b[0m \u001b[0mContentDecodingError\u001b[0m\u001b[0;34m(\u001b[0m\u001b[0me\u001b[0m\u001b[0;34m)\u001b[0m\u001b[0;34m\u001b[0m\u001b[0;34m\u001b[0m\u001b[0m\n\u001b[1;32m    766\u001b[0m                 \u001b[0;32mexcept\u001b[0m \u001b[0mReadTimeoutError\u001b[0m \u001b[0;32mas\u001b[0m \u001b[0me\u001b[0m\u001b[0;34m:\u001b[0m\u001b[0;34m\u001b[0m\u001b[0;34m\u001b[0m\u001b[0m\n\u001b[0;32m--> 767\u001b[0;31m                     \u001b[0;32mraise\u001b[0m \u001b[0mConnectionError\u001b[0m\u001b[0;34m(\u001b[0m\u001b[0me\u001b[0m\u001b[0;34m)\u001b[0m\u001b[0;34m\u001b[0m\u001b[0;34m\u001b[0m\u001b[0m\n\u001b[0m\u001b[1;32m    768\u001b[0m             \u001b[0;32melse\u001b[0m\u001b[0;34m:\u001b[0m\u001b[0;34m\u001b[0m\u001b[0;34m\u001b[0m\u001b[0m\n\u001b[1;32m    769\u001b[0m                 \u001b[0;31m# Standard file-like object.\u001b[0m\u001b[0;34m\u001b[0m\u001b[0;34m\u001b[0m\u001b[0;34m\u001b[0m\u001b[0m\n",
      "\u001b[0;31mConnectionError\u001b[0m: HTTPSConnectionPool(host='cdn-lfs.huggingface.co', port=443): Read timed out."
     ]
    }
   ],
   "source": [
    "# load the NER tagger\n",
    "tagger = SequenceTagger.load('de-ner')\n",
    "\n",
    "# run NER over sentence\n",
    "tagger.predict(sentence)"
   ]
  },
  {
   "cell_type": "code",
   "execution_count": null,
   "id": "9b1191a9-ddd1-406f-9ce8-cce215a90cb3",
   "metadata": {},
   "outputs": [],
   "source": [
    "print(sentence)"
   ]
  },
  {
   "cell_type": "code",
   "execution_count": null,
   "id": "b4dc049c-511b-4ffa-b8c9-a4d69854c490",
   "metadata": {},
   "outputs": [],
   "source": [
    "for token in sentence:\n",
    "    print(token.text, token.get_tag('ner'))"
   ]
  },
  {
   "cell_type": "code",
   "execution_count": null,
   "id": "194f66af-f8d6-4bf1-8ce8-13e3d694c65a",
   "metadata": {},
   "outputs": [],
   "source": [
    "print(sentence.to_tagged_string())"
   ]
  },
  {
   "cell_type": "code",
   "execution_count": null,
   "id": "db8ac62e-72e3-4d3d-96c4-190c3b159aaf",
   "metadata": {},
   "outputs": [],
   "source": [
    "for entity in sentence.get_spans('ner'):\n",
    "    print(entity)"
   ]
  },
  {
   "cell_type": "code",
   "execution_count": null,
   "id": "f28663c6-c368-4130-9a32-e51f8659973e",
   "metadata": {},
   "outputs": [],
   "source": [
    "sentence.to_dict(tag_type='ner')"
   ]
  },
  {
   "cell_type": "markdown",
   "id": "060360db-8716-4576-b031-9d6bc1798af8",
   "metadata": {},
   "source": [
    "## Multi-Tagging von NER und POS\n",
    "\n",
    "[Liste von Pre-Trained Sequence Tagger Models](https://github.com/flairNLP/flair/blob/master/resources/docs/TUTORIAL_2_TAGGING.md#list-of-pre-trained-sequence-tagger-models)"
   ]
  },
  {
   "cell_type": "code",
   "execution_count": null,
   "id": "c7bb32fb-19bb-4656-871b-dcaf7c334559",
   "metadata": {},
   "outputs": [],
   "source": [
    "# create sentence\n",
    "sentence_multi_tagged = Sentence('Die Gefahr eines russischen Einmarsches in die Ukraine schätzt US-Präsident Biden als \"sehr hoch\" ein.')"
   ]
  },
  {
   "cell_type": "code",
   "execution_count": null,
   "id": "5ff88797-75e1-4c3f-8299-2b4ad18035ce",
   "metadata": {},
   "outputs": [],
   "source": [
    "multi_tagger = MultiTagger.load(['de-pos', 'de-ner'])"
   ]
  },
  {
   "cell_type": "code",
   "execution_count": null,
   "id": "a0cf2e7c-ff53-425e-b4e1-4f9c4abb26d6",
   "metadata": {},
   "outputs": [],
   "source": [
    "multi_tagger.predict(sentence_multi_tagged)"
   ]
  },
  {
   "cell_type": "code",
   "execution_count": null,
   "id": "6427f2ff-571d-4ae0-b88f-10e0d94ebed8",
   "metadata": {},
   "outputs": [],
   "source": [
    "print(sentence_multi_tagged)"
   ]
  },
  {
   "cell_type": "code",
   "execution_count": null,
   "id": "eaba0a5e-f42b-4a16-8332-439b99ac732a",
   "metadata": {},
   "outputs": [],
   "source": [
    "sentence_multi_tagged.to_dict(tag_type='de-pos')"
   ]
  },
  {
   "cell_type": "markdown",
   "id": "a262e1c5-2120-4217-92d6-944391525345",
   "metadata": {},
   "source": [
    "### Taggen eines arabischen Satzes"
   ]
  },
  {
   "cell_type": "code",
   "execution_count": null,
   "id": "a1b25586-77b5-4910-97bb-e6b2f2fc817f",
   "metadata": {},
   "outputs": [],
   "source": [
    "# load model\n",
    "tagger_ar = SequenceTagger.load('ar-ner')\n",
    "\n",
    "# make Arabic sentence\n",
    "sentence_ar = Sentence(\"احب برلين\")\n",
    "\n",
    "# predict NER tags\n",
    "tagger_ar.predict(sentence_ar)\n",
    "\n",
    "# print sentence with predicted tags\n",
    "for entity in sentence_ar.get_labels('ner'):\n",
    "    print(entity)"
   ]
  },
  {
   "cell_type": "markdown",
   "id": "9bf748da-4b2f-44c7-8342-386fceca93c2",
   "metadata": {},
   "source": [
    "## Tagging von Multilingualen Texten\n",
    "\n"
   ]
  },
  {
   "cell_type": "code",
   "execution_count": null,
   "id": "1f228354-d311-4aaf-b59b-ea42d6b950ff",
   "metadata": {},
   "outputs": [],
   "source": [
    "sentence_multilingual = Sentence('''Die Gefahr eines russischen Einmarsches \n",
    "                                    in die Ukraine schätzt US-Präsident Biden \n",
    "                                    als \"sehr hoch\" ein.\n",
    "                                    The danger of a Russian invasion Ukraine \n",
    "                                    is \"very high\" in the view of U.S. President Biden.''')\n",
    "\n",
    "tagger_multilingual = SequenceTagger.load('pos-multi')\n",
    "\n",
    "tagger_multilingual.predict(sentence_multilingual)"
   ]
  },
  {
   "cell_type": "code",
   "execution_count": null,
   "id": "f4f24e49-f462-4f41-b927-e506f94109b3",
   "metadata": {},
   "outputs": [],
   "source": [
    "print(sentence_multilingual.to_tagged_string())"
   ]
  },
  {
   "cell_type": "markdown",
   "id": "386884e7-ec5d-4f64-a4a2-078c6a96c241",
   "metadata": {},
   "source": [
    "## Taggen einer Liste mit mehreren Sätzen\n",
    "\n",
    "\n",
    "* Ist das überhaupt nötig? Oder kann ein Text mit mehreren Sätzen auch ein Sentence sein? >> Testen"
   ]
  },
  {
   "cell_type": "code",
   "execution_count": null,
   "id": "21bd3b88-4216-4f25-96ac-9cd8b9e210d2",
   "metadata": {},
   "outputs": [],
   "source": [
    "text = '''Biden befürchtet Einmarsch \"in den nächsten Tagen\"\n",
    "            Stand: 18.02.2022 06:01 Uhr\n",
    "            Die Gefahr eines russischen Einmarsches in die Ukraine schätzt US-Präsident Biden als \"sehr hoch\" ein - schon in den kommenden Tagen könne es dazu kommen. Die russische Regierung wies den Vize-US-Botschafter in Moskau aus.\n",
    "            US-Präsident Joe Biden befürchtet trotz aller Beteuerungen aus Moskau einen russischen Einmarsch in die Ukraine in den kommenden Tagen. Biden sagte, die Gefahr einer Invasion sei \"sehr hoch\". Nach seiner Einschätzung könne es \"in den nächsten paar Tagen\" dazu kommen. Es gebe keine Pläne dafür, dass er mit dem russischen Präsidenten Wladimir Putin telefonieren werde, fügte er hinzu.\n",
    "            Der Kreml erklärte laut der russischen Agentur RIA, Bidens Warnung verstärke die Spannungen noch. Der stellvertretende Außenminister Sergej Werschinin wies vor dem UN-Sicherheitsrat die Befürchtungen des Westens vor einem bevorstehenden Einmarsch erneut zurück. \"Ich denke, wir haben genug darüber spekuliert\", sagte er. Eine Invasion sei entgegen der Warnungen ausgeblieben. In Richtung der USA und ihrer westlichen Verbündeten sagte Werschinin: \"Mein Rat an Sie ist, sich nicht in eine unangenehme Situation zu begeben.\"\n",
    "            Biden will am heutigen Freitag mit Verbündeten über das weitere Vorgehen beraten. Themen der Telefonschalte am Nachmittag (Ortszeit) sollten unter anderem die Aufstockung der russischen Truppen an der Grenze zur Ukraine und weitere diplomatische Bemühungen sein, hieß es aus dem Weißen Haus. Neben Kanadas Premierminister Justin Trudeau sollen führende Politiker aus Deutschland, Frankreich, Großbritannien, Italien, Polen und Rumänien an dem Gespräch teilnehmen, teilte Trudeaus Büro am Donnerstagabend (Ortszeit) mit. Auch die Europäische Union und die NATO seien vertreten.\n",
    "            US-Außenminister Antony Blinken will sich nächste Woche mit seinem russischen Kollegen Sergej Lawrow treffen - solange Russland nicht in der Ukraine einmarschiert. Blinken habe vorgeschlagen, sich mit Lawrow \"nächste Woche in Europa zu treffen. Die Russen haben mit Terminvorschlägen für Ende nächster Woche geantwortet, was wir unter der Bedingung akzeptiert haben, dass es keine russische Invasion der Ukraine gibt\", erklärte der Sprecher des Außenministeriums, Ned Price, am Abend.\n",
    "            Zuvor hatte Blinken vor dem UN-Sicherheitsrat ebenfalls gewarnt, Russland bereite sich auf einen Angriff in den kommenden Tagen vor. Russlands Plan sei, dafür einen Vorwand zu schaffen. \"Dies könnte ein gewaltsames Ereignis sein, das Russland gegen die Ukraine vorbringen wird, oder eine unerhörte Anschuldigung, die Russland gegen die ukrainische Regierung erheben wird\", sagte er. Möglich wären ihm zufolge ein vermeintlicher Terroranschlag in Russland, die \"erfundene Entdeckung eines Massengrabes\" und Vorwürfe eines Völkermordes, ein inszenierter Drohnenangriff auf Zivilisten oder ein vorgetäuschter oder echter Angriff mit Chemiewaffen.\n",
    "            Russische Medien würden bereits \"falsche Alarme\" verbreiten, so Blinken. Ein russischer Angriff könne auch die ukrainische Hauptstadt Kiew einbeziehen. Der US-Außenminister betonte, Diplomatie sei weiter der wichtigste Weg zur Lösung der Krise. Er habe daher seinem russischen Amtskollegen Sergej Lawrow ein persönliches Treffen in der kommenden Woche vorgeschlagen. \n",
    "            '''"
   ]
  },
  {
   "cell_type": "markdown",
   "id": "a7f06156-5b58-46b1-9fa0-7344a62385ce",
   "metadata": {},
   "source": [
    "### Tokenisierung und Tagging"
   ]
  },
  {
   "cell_type": "code",
   "execution_count": null,
   "id": "9f2091b9-4ad6-474c-b4d9-596e1e4c3ebe",
   "metadata": {},
   "outputs": [],
   "source": [
    "splitter = SegtokSentenceSplitter()\n",
    "\n",
    "sentences = splitter.split(text)\n",
    "\n",
    "multi_tagger = MultiTagger.load(['de-pos', 'de-ner'])\n",
    "\n",
    "multi_tagger.predict(sentences)"
   ]
  },
  {
   "cell_type": "markdown",
   "id": "54b52079-43d5-4c3f-9cc6-9274819e81c6",
   "metadata": {},
   "source": [
    "### Ausgabe des Resultats"
   ]
  },
  {
   "cell_type": "code",
   "execution_count": null,
   "id": "f411b5b7-45fd-4e11-a634-56800e07a787",
   "metadata": {},
   "outputs": [],
   "source": [
    "for sentence in sentences[:5]:\n",
    "    print(sentence.to_tagged_string())"
   ]
  },
  {
   "cell_type": "code",
   "execution_count": null,
   "id": "4178b59d-3a24-43d8-971d-40c85db80d05",
   "metadata": {},
   "outputs": [],
   "source": [
    "# results for first three sentences\n",
    "\n",
    "for sentence in sentences[:3]:\n",
    "    for token in sentence:\n",
    "        print(token.text, token.get_tag('de-ner'), token.get_tag('de-pos'))"
   ]
  },
  {
   "cell_type": "markdown",
   "id": "6b52c3b6-e077-48fb-a138-260a37f7fec7",
   "metadata": {},
   "source": [
    "### Named Entities: Person"
   ]
  },
  {
   "cell_type": "code",
   "execution_count": null,
   "id": "02073275-ae91-4edc-8f17-5bd3a697167d",
   "metadata": {},
   "outputs": [],
   "source": [
    "list_all_per = []\n",
    "\n",
    "for sentence in sentences:\n",
    "    \n",
    "    list_per = [ token.text for token in sentence if str(token.get_tag('de-ner')).split(' ')[0][-3:] == 'PER' ]\n",
    "    \n",
    "    # or if **** == x-PER\n",
    "    list_all_per.append(list_per)"
   ]
  },
  {
   "cell_type": "code",
   "execution_count": null,
   "id": "7274836e-e39d-468b-b688-5a5553a05bcb",
   "metadata": {},
   "outputs": [],
   "source": [
    "list_all_per"
   ]
  },
  {
   "cell_type": "markdown",
   "id": "2abbb642-36ad-42d0-85f9-7edc9b1e4772",
   "metadata": {},
   "source": [
    "### Named Entities\n",
    "\n",
    "abgefragt über POS == NE"
   ]
  },
  {
   "cell_type": "code",
   "execution_count": null,
   "id": "4090811f-9f12-4040-b7da-b70e0dacff3c",
   "metadata": {},
   "outputs": [],
   "source": [
    "list_all_NE = []\n",
    "\n",
    "for sentence in sentences:\n",
    "    \n",
    "    list_ne = [ (token.text, token.get_labels()) for token in sentence if str(token.get_tag('de-pos')).split(' ')[0] == 'NE' ]\n",
    "    \n",
    "    list_all_NE.append(list_ne)"
   ]
  },
  {
   "cell_type": "code",
   "execution_count": null,
   "id": "a8114a31-65d6-4352-aeaf-10bd6839a1bc",
   "metadata": {},
   "outputs": [],
   "source": [
    "list_all_NE"
   ]
  },
  {
   "cell_type": "code",
   "execution_count": null,
   "id": "9501fe20-c41c-4e43-b5ed-7b2ef15c83f4",
   "metadata": {},
   "outputs": [],
   "source": []
  },
  {
   "cell_type": "markdown",
   "id": "5b85c737-5f35-412c-b24f-ac87be53957b",
   "metadata": {},
   "source": [
    "#### Test"
   ]
  },
  {
   "cell_type": "code",
   "execution_count": null,
   "id": "396314c7-ffad-4bf1-b90d-f1cb04f81c34",
   "metadata": {},
   "outputs": [],
   "source": [
    "biden = sentences[0].get_token(1)"
   ]
  },
  {
   "cell_type": "code",
   "execution_count": null,
   "id": "5c8fe12e-bfb6-4eda-88c0-e71f4ad829f6",
   "metadata": {},
   "outputs": [],
   "source": [
    "biden.get_tag('de-ner')"
   ]
  },
  {
   "cell_type": "code",
   "execution_count": null,
   "id": "b9a07565-de37-4bc0-b108-96ddc0f52f8e",
   "metadata": {},
   "outputs": [],
   "source": [
    "biden.get_labels()"
   ]
  },
  {
   "cell_type": "code",
   "execution_count": null,
   "id": "8b7d1105-8879-403b-95a3-3c40f666d718",
   "metadata": {},
   "outputs": [],
   "source": [
    "sentence.to_tagged_string('de-ner')"
   ]
  },
  {
   "cell_type": "code",
   "execution_count": null,
   "id": "4ac71c93-0138-4491-b599-095530416467",
   "metadata": {},
   "outputs": [],
   "source": []
  }
 ],
 "metadata": {
  "kernelspec": {
   "display_name": "Python 3 (ipykernel)",
   "language": "python",
   "name": "python3"
  },
  "language_info": {
   "codemirror_mode": {
    "name": "ipython",
    "version": 3
   },
   "file_extension": ".py",
   "mimetype": "text/x-python",
   "name": "python",
   "nbconvert_exporter": "python",
   "pygments_lexer": "ipython3",
   "version": "3.8.12"
  }
 },
 "nbformat": 4,
 "nbformat_minor": 5
}
