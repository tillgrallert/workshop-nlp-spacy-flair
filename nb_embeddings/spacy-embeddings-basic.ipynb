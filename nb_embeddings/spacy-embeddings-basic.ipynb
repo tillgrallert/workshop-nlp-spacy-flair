{
 "cells": [
  {
   "cell_type": "markdown",
   "id": "0c9a6937-9f36-4fa3-8c7e-1c301e91d7c9",
   "metadata": {
    "slideshow": {
     "slide_type": "subslide"
    },
    "tags": []
   },
   "source": [
    "## Import"
   ]
  },
  {
   "cell_type": "code",
   "execution_count": 1,
   "id": "b4e8237e-8aef-4183-88e4-9b78e90c3925",
   "metadata": {},
   "outputs": [],
   "source": [
    "import spacy"
   ]
  },
  {
   "cell_type": "markdown",
   "id": "dfd0c619-8630-4cef-a3f9-7e90c97927a5",
   "metadata": {
    "slideshow": {
     "slide_type": "subslide"
    },
    "tags": []
   },
   "source": [
    "## Laden des Sprachmodells"
   ]
  },
  {
   "cell_type": "code",
   "execution_count": 2,
   "id": "4f008bd0-7a7c-4a73-bf45-5376fe7177a8",
   "metadata": {},
   "outputs": [],
   "source": [
    "nlp = spacy.load('de_core_news_md') "
   ]
  },
  {
   "cell_type": "markdown",
   "id": "359aef32-66e5-4125-8a66-35bc38521877",
   "metadata": {},
   "source": [
    "## geladene Komponenten checken"
   ]
  },
  {
   "cell_type": "code",
   "execution_count": 3,
   "id": "4650916e-3ba1-4f6f-8402-0470cd49c58e",
   "metadata": {},
   "outputs": [
    {
     "data": {
      "text/plain": [
       "[('tok2vec', <spacy.pipeline.tok2vec.Tok2Vec at 0x137996460>),\n",
       " ('tagger', <spacy.pipeline.tagger.Tagger at 0x137996220>),\n",
       " ('morphologizer',\n",
       "  <spacy.pipeline.morphologizer.Morphologizer at 0x1379961c0>),\n",
       " ('parser', <spacy.pipeline.dep_parser.DependencyParser at 0x1377e9ac0>),\n",
       " ('attribute_ruler',\n",
       "  <spacy.pipeline.attributeruler.AttributeRuler at 0x137a61d80>),\n",
       " ('lemmatizer', <spacy.pipeline.lemmatizer.Lemmatizer at 0x137a68cc0>),\n",
       " ('ner', <spacy.pipeline.ner.EntityRecognizer at 0x1377e9eb0>)]"
      ]
     },
     "execution_count": 3,
     "metadata": {},
     "output_type": "execute_result"
    }
   ],
   "source": [
    "nlp.pipeline"
   ]
  },
  {
   "cell_type": "markdown",
   "id": "96fc24af-4093-4193-86c0-74cee5de299c",
   "metadata": {},
   "source": [
    "## Textdaten einlesen"
   ]
  },
  {
   "cell_type": "markdown",
   "id": "f4c8aff9-a4aa-4126-b2e8-fc11ff2a89ee",
   "metadata": {},
   "source": [
    "entnommen von:\n",
    "\n",
    "https://www.tagesschau.de/ausland/amerika/russland-ukraine-157.html"
   ]
  },
  {
   "cell_type": "code",
   "execution_count": 4,
   "id": "00c3e936-3a13-4adc-85ee-ee20e9a09700",
   "metadata": {},
   "outputs": [],
   "source": [
    "text = '''Biden befürchtet Einmarsch \"in den nächsten Tagen\"\n",
    "            Stand: 18.02.2022 06:01 Uhr\n",
    "            Die Gefahr eines russischen Einmarsches in die Ukraine schätzt US-Präsident Biden als \"sehr hoch\" ein - schon in den kommenden Tagen könne es dazu kommen. Die russische Regierung wies den Vize-US-Botschafter in Moskau aus.\n",
    "            US-Präsident Joe Biden befürchtet trotz aller Beteuerungen aus Moskau einen russischen Einmarsch in die Ukraine in den kommenden Tagen. Biden sagte, die Gefahr einer Invasion sei \"sehr hoch\". Nach seiner Einschätzung könne es \"in den nächsten paar Tagen\" dazu kommen. Es gebe keine Pläne dafür, dass er mit dem russischen Präsidenten Wladimir Putin telefonieren werde, fügte er hinzu.\n",
    "            Der Kreml erklärte laut der russischen Agentur RIA, Bidens Warnung verstärke die Spannungen noch. Der stellvertretende Außenminister Sergej Werschinin wies vor dem UN-Sicherheitsrat die Befürchtungen des Westens vor einem bevorstehenden Einmarsch erneut zurück. \"Ich denke, wir haben genug darüber spekuliert\", sagte er. Eine Invasion sei entgegen der Warnungen ausgeblieben. In Richtung der USA und ihrer westlichen Verbündeten sagte Werschinin: \"Mein Rat an Sie ist, sich nicht in eine unangenehme Situation zu begeben.\"\n",
    "            Biden will am heutigen Freitag mit Verbündeten über das weitere Vorgehen beraten. Themen der Telefonschalte am Nachmittag (Ortszeit) sollten unter anderem die Aufstockung der russischen Truppen an der Grenze zur Ukraine und weitere diplomatische Bemühungen sein, hieß es aus dem Weißen Haus. Neben Kanadas Premierminister Justin Trudeau sollen führende Politiker aus Deutschland, Frankreich, Großbritannien, Italien, Polen und Rumänien an dem Gespräch teilnehmen, teilte Trudeaus Büro am Donnerstagabend (Ortszeit) mit. Auch die Europäische Union und die NATO seien vertreten.\n",
    "            US-Außenminister Antony Blinken will sich nächste Woche mit seinem russischen Kollegen Sergej Lawrow treffen - solange Russland nicht in der Ukraine einmarschiert. Blinken habe vorgeschlagen, sich mit Lawrow \"nächste Woche in Europa zu treffen. Die Russen haben mit Terminvorschlägen für Ende nächster Woche geantwortet, was wir unter der Bedingung akzeptiert haben, dass es keine russische Invasion der Ukraine gibt\", erklärte der Sprecher des Außenministeriums, Ned Price, am Abend.\n",
    "            Zuvor hatte Blinken vor dem UN-Sicherheitsrat ebenfalls gewarnt, Russland bereite sich auf einen Angriff in den kommenden Tagen vor. Russlands Plan sei, dafür einen Vorwand zu schaffen. \"Dies könnte ein gewaltsames Ereignis sein, das Russland gegen die Ukraine vorbringen wird, oder eine unerhörte Anschuldigung, die Russland gegen die ukrainische Regierung erheben wird\", sagte er. Möglich wären ihm zufolge ein vermeintlicher Terroranschlag in Russland, die \"erfundene Entdeckung eines Massengrabes\" und Vorwürfe eines Völkermordes, ein inszenierter Drohnenangriff auf Zivilisten oder ein vorgetäuschter oder echter Angriff mit Chemiewaffen.\n",
    "            Russische Medien würden bereits \"falsche Alarme\" verbreiten, so Blinken. Ein russischer Angriff könne auch die ukrainische Hauptstadt Kiew einbeziehen. Der US-Außenminister betonte, Diplomatie sei weiter der wichtigste Weg zur Lösung der Krise. Er habe daher seinem russischen Amtskollegen Sergej Lawrow ein persönliches Treffen in der kommenden Woche vorgeschlagen. \n",
    "            '''"
   ]
  },
  {
   "cell_type": "markdown",
   "id": "f3f2883f-72fc-4b2e-b71f-847f8f7fd4e9",
   "metadata": {
    "slideshow": {
     "slide_type": "subslide"
    },
    "tags": []
   },
   "source": [
    "## Doc-Objekt erstellen"
   ]
  },
  {
   "cell_type": "code",
   "execution_count": 5,
   "id": "82cf46b7-5719-46ba-94b8-0909dcf355cb",
   "metadata": {},
   "outputs": [],
   "source": [
    "doc = nlp(text)"
   ]
  },
  {
   "cell_type": "code",
   "execution_count": 6,
   "id": "4071eabd-b6d2-4654-95b3-c878701c9a99",
   "metadata": {},
   "outputs": [
    {
     "data": {
      "text/plain": [
       "array([[ 0.5071274 , -1.4154924 ,  2.4053535 , ..., -1.2638092 ,\n",
       "         1.344221  , -3.2512028 ],\n",
       "       [ 3.3906777 ,  0.05705556,  6.207492  , ...,  4.1423554 ,\n",
       "         2.5623682 , -0.4914026 ],\n",
       "       [ 2.6064496 ,  4.767584  , -3.6041815 , ...,  1.3879949 ,\n",
       "        -1.1848495 , -1.070204  ],\n",
       "       ...,\n",
       "       [ 2.5026386 , -2.6722078 ,  2.5107179 , ...,  2.714883  ,\n",
       "         1.0156708 ,  0.20564514],\n",
       "       [ 4.1191187 , -1.2502644 , -0.55825377, ...,  0.4620934 ,\n",
       "        -3.212337  , -2.9866035 ],\n",
       "       [-0.3095336 , -2.654316  , -1.0617582 , ..., -0.90467846,\n",
       "         2.2468839 ,  3.0396485 ]], dtype=float32)"
      ]
     },
     "execution_count": 6,
     "metadata": {},
     "output_type": "execute_result"
    }
   ],
   "source": [
    "doc.tensor\n",
    "\n",
    "# enthält einen array mit den arrays der token.tensor\n",
    "# ist daher nicht das gleiche wie die Document Embeddings bei Flair\n",
    "# kann man dennoch damit etwas machen, wie Dimensionseduzierung?"
   ]
  },
  {
   "cell_type": "code",
   "execution_count": 12,
   "id": "aa004918-1221-4536-91b3-f2af943e98a5",
   "metadata": {},
   "outputs": [
    {
     "name": "stdout",
     "output_type": "stream",
     "text": [
      "Biden [ 0.5071274  -1.4154924   2.4053535   0.3043296   1.94049     0.42379844\n",
      "  0.9659775  -1.053399   -0.38447684  2.2445555  -0.95760643 -3.2411957\n",
      " -2.270326   -0.5469245   0.53916407 -2.369971    3.7436538  -0.12977615\n",
      " -5.931063   -0.27665615 -3.085629    5.0201063   2.8663044  -0.09561163\n",
      " -0.71506524 -2.0836174  -1.5240089   2.2545483  -1.7294533  -1.1245534\n",
      "  1.2468095  -0.60922635 -0.9043876   2.2477894  -0.6156702  -0.90394515\n",
      " -2.3149986  -1.3831576   0.4660639  -1.6092541   2.4440584  -4.0186286\n",
      " -1.4956374   0.26343113 -0.5128418  -2.7563083  -0.87447983  0.99541855\n",
      " -4.4172435  -2.6471596  -1.7836542  -3.2134204   5.635849   -1.1809362\n",
      "  3.0081668   1.0670258   0.35925937 -2.78733     5.0278535   2.7831202\n",
      " -1.1192865   7.2335844  -2.0609865  -1.828361    4.515288    0.8554836\n",
      " -0.04565391  3.5354807  -0.23735625  4.2119923   1.4551526   0.06488693\n",
      " -0.42291498 -1.1411469   0.8247395  -0.02941388  2.7624397  -1.4941683\n",
      " -0.38330147  2.4095066  -0.16488528 -1.3466406  -0.45645255 -0.47907192\n",
      " -0.57605845  2.0401056   2.3589363  -2.7188838   1.7729126   2.42328\n",
      " -1.4334671   2.9129863   0.6587376  -1.2638092   1.344221   -3.2512028 ]\n",
      "befürchtet [ 3.3906777   0.05705556  6.207492    1.3031836  -2.8061085   3.1084454\n",
      "  1.8736076   0.7086968  -3.007305   -0.6343102   1.1508037   0.7872429\n",
      " -0.13542297  0.17513274 -0.6837522  -0.9832858   1.0748376  -1.5385797\n",
      " -2.0374613   2.889169   -0.30599326  0.45846736  0.41755092 -0.3709294\n",
      "  0.33968362  1.2257682  -2.2793274  -0.01915699  0.27227324 -0.6258039\n",
      "  1.5346668  -0.15937793  2.1327078  -1.6688181   0.24255663  2.9021463\n",
      "  1.652993   -3.650137   -2.2195354  -1.982515   -1.036705   -2.5112083\n",
      " -2.418219    3.3977578  -0.14417005 -2.0007727   0.06174961 -2.2528162\n",
      " -0.68804574 -2.903662   -0.2876796  -1.4878621   2.696105   -0.3983385\n",
      "  1.6808056   1.2228847  -1.9183522   0.51622224 -2.5850139  -1.0209794\n",
      " -1.6795936  -1.6310183  -2.4329405   0.43598545  0.97753096 -0.21341853\n",
      " -3.0451703  -0.48052686  0.13977486 -0.9255147   1.1304152   1.4782972\n",
      " -3.5458338   4.643538    0.3533684  -3.8749921  -3.6148973   2.3864896\n",
      " -1.0027659   3.8090742   3.6609392   3.6014626  -0.865409   -3.248902\n",
      " -2.605969    0.5011813   0.38169235 -1.0995731   0.21379471 -0.8314299\n",
      "  2.902052    1.3424728  -1.3031656   4.1423554   2.5623682  -0.4914026 ]\n",
      "Einmarsch [ 2.6064496   4.767584   -3.6041815  -2.9205787  -0.9904815  -1.5776331\n",
      "  1.666281   -1.5932543  -0.9833975  -3.245535    2.4383035  -3.8922603\n",
      "  0.36066484  2.1402593   0.40441996  0.03281891 -0.7507567   1.7698009\n",
      " -5.143992   -0.4367294  -4.7141514   3.8800058   2.2534308  -0.01809531\n",
      "  5.799559    2.7236824  -2.7154417  -1.839265   -0.19930296  0.03595069\n",
      " -0.846246    1.8333851   1.4325097  -0.27949563  2.4206603  -1.6875582\n",
      " -2.3419218  -1.9965914  -1.9410229   1.0940938   0.72061944 -2.6580133\n",
      " -2.5020623  -0.16309762 -1.0919855  -4.877033    1.2019628  -1.8044126\n",
      " -3.811432   -0.3467709   1.4557083  -2.4359026   5.308344   -0.48105502\n",
      "  4.311524    1.7580512   3.6813102   1.5940413   1.3515645  -1.5921067\n",
      " -0.65507174  2.1196246   1.4844878  -0.9099028   1.1043924  -1.4972392\n",
      " -3.0240383   2.5733423   0.5971204  -1.67614     1.2446744   1.1603044\n",
      " -0.26168913  1.8212591   0.43932974  2.438347    0.35791293  1.9914442\n",
      " -1.9425707  -1.9886274   3.0387855   0.7413595   2.7562218   0.04498833\n",
      " -1.0405205   1.9138633  -3.142459   -1.0790002  -1.4453545   2.3162098\n",
      "  2.8314357  -0.80487645 -0.64430904  1.3879949  -1.1848495  -1.070204  ]\n",
      "\" [ 1.6808113  -2.210646   -3.171669   -0.65021616 -0.20052147 -1.0976198\n",
      "  5.0769553  -0.58866996 -2.1182964  -2.7795694  -1.3293587   0.22408295\n",
      "  0.49529836 -0.02737729  1.3041458  -1.986156   -1.375333    3.8425608\n",
      " -1.8458631   0.36019844 -4.5740833   0.70163345 -0.73302525  6.049717\n",
      " -1.8974266   0.28506112  2.4913852   3.9972034  -1.375339   -3.4844115\n",
      " -0.32300287 -0.23933762 -1.1623012   0.9362041   0.45472002 -1.8847518\n",
      "  2.2619324   1.1914425  -2.4242053  -3.069837   -0.93246615  0.3775408\n",
      "  1.0461099  -0.25612873  7.5208845   1.1125727   0.55916697  1.3427709\n",
      "  2.9369307   4.495755   -1.4001139  -3.5902252   0.06334847  0.5612472\n",
      " -1.3383756   2.0979807  -2.0824914  -2.6309333   1.1171224  -0.08846319\n",
      " -1.556812    4.787811   -3.4503958   0.38905796  3.9917645   1.9216186\n",
      " -0.8686064  -1.0916913   1.8020568  -2.9131026  -2.6053343   1.885821\n",
      " -0.29634914 -2.4075813  -1.3463624   2.1734998   0.724997    0.6492711\n",
      "  0.51312494  0.02245858  6.61851    -2.4247408   1.8121015  -1.0979197\n",
      " -0.13362709  0.18665326 -0.85728157 -3.1888936  -1.3832667  -0.42726767\n",
      "  2.1851337  -3.649224   -0.22087538  0.34506202 -1.952544    1.1943336 ]\n",
      "in [ 2.14366     1.6250842  -0.05009815 -0.7626897   0.8001869  -2.217295\n",
      " -0.5842607  -0.6734057  -2.0821419   1.7911065  -0.08249724  0.5411302\n",
      " -0.8570039   1.501461   -0.3120041   5.2054553  -0.23051888  0.9769213\n",
      " -2.8693395  -0.9375989  -0.9933605  -1.3131149  -0.5513364   1.3049387\n",
      "  0.09907016  2.3792655  -1.8700527  -1.1355147  -1.0073795  -0.7536535\n",
      " -2.909717   -1.8157002  -0.6990417   2.9029145   1.5885575  -2.3463604\n",
      " -3.6598563   0.3049469   1.006681   -1.430589    3.507779    1.8938671\n",
      "  2.840169   -0.8743112   1.2268305  -1.351858    2.5372298  -1.2521921\n",
      "  1.5491717  -0.3237016  -1.5177162   0.80004233  1.4270078  -1.1588627\n",
      " -2.3747866  -0.94795203  0.06903229 -2.962675   -1.3430667   3.6116993\n",
      " -0.20086455 -1.9185151  -2.3050277   1.5135136  -2.3797944  -0.9528571\n",
      " -0.73947865 -0.41273177  0.8353649  -0.362998   -0.18432227 -0.22115433\n",
      " -0.92507714 -2.0753512  -0.6639044   0.8472202   0.01116753 -0.24428937\n",
      "  2.847498    0.37757736  1.6374122   0.2337684   1.1611457  -1.96758\n",
      "  1.7343132  -1.7987285  -0.9983272   2.080607    0.04616585 -0.32073903\n",
      "  2.5067437   0.36863023 -1.82928     1.1593927  -1.8603837   2.0487683 ]\n"
     ]
    }
   ],
   "source": [
    "for token in doc[:5]:\n",
    "    print(token.text, token.tensor)"
   ]
  },
  {
   "cell_type": "code",
   "execution_count": null,
   "id": "c2122777-802c-4664-a087-5f47ceaddae8",
   "metadata": {},
   "outputs": [],
   "source": []
  }
 ],
 "metadata": {
  "kernelspec": {
   "display_name": "Python 3 (ipykernel)",
   "language": "python",
   "name": "python3"
  },
  "language_info": {
   "codemirror_mode": {
    "name": "ipython",
    "version": 3
   },
   "file_extension": ".py",
   "mimetype": "text/x-python",
   "name": "python",
   "nbconvert_exporter": "python",
   "pygments_lexer": "ipython3",
   "version": "3.8.12"
  }
 },
 "nbformat": 4,
 "nbformat_minor": 5
}
